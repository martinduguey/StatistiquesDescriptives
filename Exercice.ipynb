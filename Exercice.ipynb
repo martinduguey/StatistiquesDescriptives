{
 "cells": [
  {
   "cell_type": "code",
   "execution_count": 288,
   "metadata": {},
   "outputs": [],
   "source": [
    "import numpy as np\n",
    "import matplotlib.pyplot as plt\n",
    "import pandas as pd\n",
    "import tabata as tbt\n",
    "import plotly.graph_objects as go\n",
    "import plotly.express as px\n",
    "from scipy import stats\n",
    "from plotly.subplots import make_subplots\n",
    "from sklearn.decomposition import PCA\n",
    "from sklearn.cluster import KMeans\n",
    "from scipy.stats import t"
   ]
  },
  {
   "cell_type": "code",
   "execution_count": 289,
   "metadata": {},
   "outputs": [
    {
     "data": {
      "text/html": [
       "<div>\n",
       "<style scoped>\n",
       "    .dataframe tbody tr th:only-of-type {\n",
       "        vertical-align: middle;\n",
       "    }\n",
       "\n",
       "    .dataframe tbody tr th {\n",
       "        vertical-align: top;\n",
       "    }\n",
       "\n",
       "    .dataframe thead th {\n",
       "        text-align: right;\n",
       "    }\n",
       "</style>\n",
       "<table border=\"1\" class=\"dataframe\">\n",
       "  <thead>\n",
       "    <tr style=\"text-align: right;\">\n",
       "      <th></th>\n",
       "      <th>Id</th>\n",
       "      <th>Version</th>\n",
       "      <th>D1</th>\n",
       "      <th>D2</th>\n",
       "      <th>Panne</th>\n",
       "      <th>X1</th>\n",
       "      <th>X2</th>\n",
       "      <th>X3</th>\n",
       "      <th>X4</th>\n",
       "      <th>X5</th>\n",
       "      <th>X6</th>\n",
       "      <th>X7</th>\n",
       "      <th>X8</th>\n",
       "      <th>X9</th>\n",
       "      <th>X10</th>\n",
       "      <th>X11</th>\n",
       "      <th>X12</th>\n",
       "      <th>X13</th>\n",
       "      <th>X14</th>\n",
       "      <th>X15</th>\n",
       "    </tr>\n",
       "  </thead>\n",
       "  <tbody>\n",
       "    <tr>\n",
       "      <th>0</th>\n",
       "      <td>348606</td>\n",
       "      <td>v3</td>\n",
       "      <td>13665.09</td>\n",
       "      <td>11751.56</td>\n",
       "      <td>G</td>\n",
       "      <td>0</td>\n",
       "      <td>0</td>\n",
       "      <td>0</td>\n",
       "      <td>1</td>\n",
       "      <td>0</td>\n",
       "      <td>1</td>\n",
       "      <td>0</td>\n",
       "      <td>0</td>\n",
       "      <td>0</td>\n",
       "      <td>0</td>\n",
       "      <td>0</td>\n",
       "      <td>0</td>\n",
       "      <td>0</td>\n",
       "      <td>0</td>\n",
       "      <td>0</td>\n",
       "    </tr>\n",
       "    <tr>\n",
       "      <th>1</th>\n",
       "      <td>348762</td>\n",
       "      <td>v2</td>\n",
       "      <td>4888.38</td>\n",
       "      <td>3944.48</td>\n",
       "      <td>A</td>\n",
       "      <td>0</td>\n",
       "      <td>0</td>\n",
       "      <td>0</td>\n",
       "      <td>1</td>\n",
       "      <td>0</td>\n",
       "      <td>1</td>\n",
       "      <td>0</td>\n",
       "      <td>1</td>\n",
       "      <td>0</td>\n",
       "      <td>0</td>\n",
       "      <td>0</td>\n",
       "      <td>0</td>\n",
       "      <td>0</td>\n",
       "      <td>0</td>\n",
       "      <td>0</td>\n",
       "    </tr>\n",
       "    <tr>\n",
       "      <th>2</th>\n",
       "      <td>348855</td>\n",
       "      <td>v1</td>\n",
       "      <td>10273.96</td>\n",
       "      <td>13592.97</td>\n",
       "      <td>A</td>\n",
       "      <td>1</td>\n",
       "      <td>0</td>\n",
       "      <td>1</td>\n",
       "      <td>1</td>\n",
       "      <td>0</td>\n",
       "      <td>1</td>\n",
       "      <td>0</td>\n",
       "      <td>0</td>\n",
       "      <td>0</td>\n",
       "      <td>1</td>\n",
       "      <td>0</td>\n",
       "      <td>0</td>\n",
       "      <td>0</td>\n",
       "      <td>1</td>\n",
       "      <td>0</td>\n",
       "    </tr>\n",
       "    <tr>\n",
       "      <th>3</th>\n",
       "      <td>348906</td>\n",
       "      <td>v2</td>\n",
       "      <td>2149.26</td>\n",
       "      <td>3965.84</td>\n",
       "      <td>C</td>\n",
       "      <td>0</td>\n",
       "      <td>0</td>\n",
       "      <td>0</td>\n",
       "      <td>0</td>\n",
       "      <td>0</td>\n",
       "      <td>0</td>\n",
       "      <td>1</td>\n",
       "      <td>0</td>\n",
       "      <td>0</td>\n",
       "      <td>1</td>\n",
       "      <td>0</td>\n",
       "      <td>0</td>\n",
       "      <td>0</td>\n",
       "      <td>0</td>\n",
       "      <td>0</td>\n",
       "    </tr>\n",
       "    <tr>\n",
       "      <th>4</th>\n",
       "      <td>348946</td>\n",
       "      <td>v3</td>\n",
       "      <td>1.13</td>\n",
       "      <td>6.23</td>\n",
       "      <td>D</td>\n",
       "      <td>0</td>\n",
       "      <td>0</td>\n",
       "      <td>0</td>\n",
       "      <td>0</td>\n",
       "      <td>0</td>\n",
       "      <td>0</td>\n",
       "      <td>0</td>\n",
       "      <td>0</td>\n",
       "      <td>0</td>\n",
       "      <td>0</td>\n",
       "      <td>0</td>\n",
       "      <td>0</td>\n",
       "      <td>0</td>\n",
       "      <td>0</td>\n",
       "      <td>1</td>\n",
       "    </tr>\n",
       "  </tbody>\n",
       "</table>\n",
       "</div>"
      ],
      "text/plain": [
       "       Id Version        D1        D2 Panne  X1  X2  X3  X4  X5  X6  X7  X8  \\\n",
       "0  348606      v3  13665.09  11751.56     G   0   0   0   1   0   1   0   0   \n",
       "1  348762      v2   4888.38   3944.48     A   0   0   0   1   0   1   0   1   \n",
       "2  348855      v1  10273.96  13592.97     A   1   0   1   1   0   1   0   0   \n",
       "3  348906      v2   2149.26   3965.84     C   0   0   0   0   0   0   1   0   \n",
       "4  348946      v3      1.13      6.23     D   0   0   0   0   0   0   0   0   \n",
       "\n",
       "   X9  X10  X11  X12  X13  X14  X15  \n",
       "0   0    0    0    0    0    0    0  \n",
       "1   0    0    0    0    0    0    0  \n",
       "2   0    1    0    0    0    1    0  \n",
       "3   0    1    0    0    0    0    0  \n",
       "4   0    0    0    0    0    0    1  "
      ]
     },
     "execution_count": 289,
     "metadata": {},
     "output_type": "execute_result"
    }
   ],
   "source": [
    "facteurs = pd.read_excel('data_exercice.xlsx', 'Facteurs')\n",
    "cout = pd.read_excel('data_exercice.xlsx', 'Cout')\n",
    "facteurs.head()\n",
    "\n"
   ]
  },
  {
   "cell_type": "code",
   "execution_count": 290,
   "metadata": {},
   "outputs": [
    {
     "data": {
      "text/html": [
       "<div>\n",
       "<style scoped>\n",
       "    .dataframe tbody tr th:only-of-type {\n",
       "        vertical-align: middle;\n",
       "    }\n",
       "\n",
       "    .dataframe tbody tr th {\n",
       "        vertical-align: top;\n",
       "    }\n",
       "\n",
       "    .dataframe thead th {\n",
       "        text-align: right;\n",
       "    }\n",
       "</style>\n",
       "<table border=\"1\" class=\"dataframe\">\n",
       "  <thead>\n",
       "    <tr style=\"text-align: right;\">\n",
       "      <th></th>\n",
       "      <th>Id</th>\n",
       "      <th>Panne</th>\n",
       "      <th>Cout</th>\n",
       "    </tr>\n",
       "  </thead>\n",
       "  <tbody>\n",
       "    <tr>\n",
       "      <th>0</th>\n",
       "      <td>349483</td>\n",
       "      <td>A</td>\n",
       "      <td>15.84</td>\n",
       "    </tr>\n",
       "    <tr>\n",
       "      <th>1</th>\n",
       "      <td>350021</td>\n",
       "      <td>D</td>\n",
       "      <td>19.14</td>\n",
       "    </tr>\n",
       "    <tr>\n",
       "      <th>2</th>\n",
       "      <td>350212</td>\n",
       "      <td>B</td>\n",
       "      <td>9.90</td>\n",
       "    </tr>\n",
       "    <tr>\n",
       "      <th>3</th>\n",
       "      <td>351351</td>\n",
       "      <td>F</td>\n",
       "      <td>4.40</td>\n",
       "    </tr>\n",
       "    <tr>\n",
       "      <th>4</th>\n",
       "      <td>351351</td>\n",
       "      <td>F</td>\n",
       "      <td>28.16</td>\n",
       "    </tr>\n",
       "  </tbody>\n",
       "</table>\n",
       "</div>"
      ],
      "text/plain": [
       "       Id Panne   Cout\n",
       "0  349483     A  15.84\n",
       "1  350021     D  19.14\n",
       "2  350212     B   9.90\n",
       "3  351351     F   4.40\n",
       "4  351351     F  28.16"
      ]
     },
     "execution_count": 290,
     "metadata": {},
     "output_type": "execute_result"
    }
   ],
   "source": [
    "cout.head()\n"
   ]
  },
  {
   "cell_type": "markdown",
   "metadata": {},
   "source": [
    "## Etape 1 :  Décrire les données. On cherche à identifier les types des variables et leur domaine de définition ainsi que les valeurs manquantes et les valeurs extrêmes."
   ]
  },
  {
   "cell_type": "code",
   "execution_count": 291,
   "metadata": {},
   "outputs": [
    {
     "name": "stdout",
     "output_type": "stream",
     "text": [
      "Les variables que l'on peut retrouver dans le dataframe facteurs : \n",
      "Id           int64\n",
      "Version     object\n",
      "D1         float64\n",
      "D2         float64\n",
      "Panne       object\n",
      "X1           int64\n",
      "X2           int64\n",
      "X3           int64\n",
      "X4           int64\n",
      "X5           int64\n",
      "X6           int64\n",
      "X7           int64\n",
      "X8           int64\n",
      "X9           int64\n",
      "X10          int64\n",
      "X11          int64\n",
      "X12          int64\n",
      "X13          int64\n",
      "X14          int64\n",
      "X15          int64\n",
      "dtype: object\n",
      "Les variables que l'on peut retrouver dans le dataframe cout : \n",
      "Id         int64\n",
      "Panne     object\n",
      "Cout     float64\n",
      "dtype: object\n"
     ]
    }
   ],
   "source": [
    "#Type des variables \n",
    "print(\"Les variables que l'on peut retrouver dans le dataframe facteurs : \")\n",
    "print(facteurs.dtypes)\n",
    "print(\"Les variables que l'on peut retrouver dans le dataframe cout : \")\n",
    "print(cout.dtypes)"
   ]
  },
  {
   "cell_type": "code",
   "execution_count": 292,
   "metadata": {},
   "outputs": [
    {
     "name": "stdout",
     "output_type": "stream",
     "text": [
      "Nombre de pièces recensées dans la table facteur : \n",
      "451\n"
     ]
    },
    {
     "name": "stderr",
     "output_type": "stream",
     "text": [
      "/Users/martinduguey/Documents/MACS3/S1/Statistiques descriptives/Examen/EnvStatsD/lib/python3.7/site-packages/ipykernel_launcher.py:5: FutureWarning:\n",
      "\n",
      "In a future version of pandas all arguments of DataFrame.drop except for the argument 'labels' will be keyword-only\n",
      "\n"
     ]
    }
   ],
   "source": [
    "#Domaine de définition des variables\n",
    "\n",
    "#Liste des pièces recensée dans la table facteur\n",
    "def_Id_fact = facteurs.groupby('Id').sum(0)#On enlève les doublons \n",
    "def_Id_fact = def_Id_fact.drop(['Version','D1','D2','X1','X2','X3','X4','X5','X6','X7','X8','X9','X10','X11','X12','X13','X14','X15'],1)#On garde la variable 'Panne' de manière à comptabiliser le nombre de lignes\n",
    "print(\"Nombre de pièces recensées dans la table facteur : \")\n",
    "print(def_Id_fact.size)"
   ]
  },
  {
   "cell_type": "code",
   "execution_count": 293,
   "metadata": {},
   "outputs": [
    {
     "name": "stdout",
     "output_type": "stream",
     "text": [
      "Nombre de pièces recensées dans la table cout : \n",
      "75\n"
     ]
    },
    {
     "name": "stderr",
     "output_type": "stream",
     "text": [
      "/Users/martinduguey/Documents/MACS3/S1/Statistiques descriptives/Examen/EnvStatsD/lib/python3.7/site-packages/ipykernel_launcher.py:3: FutureWarning:\n",
      "\n",
      "In a future version of pandas all arguments of DataFrame.drop except for the argument 'labels' will be keyword-only\n",
      "\n"
     ]
    }
   ],
   "source": [
    "#Liste des pièces recensée dans la table cout\n",
    "def_Id_cout = cout.groupby('Id').sum(0)#On enlève les doublons en sommant les coûts\n",
    "def_Id_cout = def_Id_cout.drop(['Cout'],1)\n",
    "print(\"Nombre de pièces recensées dans la table cout : \")\n",
    "print(def_Id_cout.size)"
   ]
  },
  {
   "cell_type": "markdown",
   "metadata": {},
   "source": [
    "Table facteurs :\n",
    "\n",
    "451 pièces répertoriées.$\\\\$\n",
    "Versions : v1, v2 et v3.$\\\\$\n",
    "Pannes identifées : A,B,C,D,E,F,G,H,I.$\\\\$\n",
    "Périodes d'utilisation: D1 et D2.$\\\\$\n",
    "Composant Xi avec $i \\in \\{1, 2, 3, 4, 5, 6, 7, 8, 9, 10, 11, 12, 13, 14, 15\\}\\\\$\n",
    "et $Xi \\in \\{0,1\\}$.$\\\\$ \n",
    "\n",
    "Table cout :\n",
    "\n",
    "75 pièces rrépertoriées.$\\\\$\n",
    "Pannes identifées : A,B,C,D,E,F,G,I.$\\\\$\n",
    "Cout : pour une pièce et une panne donnée. Il n'y à priori pas de cout pour toutes les combinaisons $\\{pieces, panne\\}$ listées dans la table facteur, puisque le cout d'aucune panne H, quelque soit la pièce, n'est détaillé dans cette table.$\\\\$"
   ]
  },
  {
   "cell_type": "code",
   "execution_count": 294,
   "metadata": {},
   "outputs": [
    {
     "name": "stdout",
     "output_type": "stream",
     "text": [
      "Id         461\n",
      "Version    461\n",
      "D1         461\n",
      "D2         461\n",
      "Panne      461\n",
      "X1         461\n",
      "X2         461\n",
      "X3         461\n",
      "X4         461\n",
      "X5         461\n",
      "X6         461\n",
      "X7         461\n",
      "X8         461\n",
      "X9         461\n",
      "X10        461\n",
      "X11        461\n",
      "X12        461\n",
      "X13        461\n",
      "X14        461\n",
      "X15        461\n",
      "dtype: int64\n",
      "Id       109\n",
      "Panne    109\n",
      "Cout     109\n",
      "dtype: int64\n",
      "Taille du dataframe facteurs :\n",
      "(461, 20)\n",
      "Taille du dataframe cout :\n",
      "(109, 3)\n"
     ]
    }
   ],
   "source": [
    "#Valeurs manquantes\n",
    "print(facteurs.isnull().count())\n",
    "print(cout.isnull().count())\n",
    "print(\"Taille du dataframe facteurs :\")\n",
    "print(facteurs.shape)\n",
    "print(\"Taille du dataframe cout :\")\n",
    "print(cout.shape)"
   ]
  },
  {
   "cell_type": "markdown",
   "metadata": {},
   "source": [
    "Les deux tables ne contiennent aucune valeur manquante puisque chaque variable possède autant de valeurs que le nombre de ligne de la table.  "
   ]
  },
  {
   "cell_type": "code",
   "execution_count": 295,
   "metadata": {},
   "outputs": [
    {
     "name": "stdout",
     "output_type": "stream",
     "text": [
      "Moyenne de D1 : \n",
      "7894.474143167028\n",
      "Moyenne de D2 : \n",
      "8828.157114967462\n",
      "Moyenne de Cout : \n",
      "32.1240366972477\n"
     ]
    }
   ],
   "source": [
    "# Moyenne et variance des variables D1, D2 et Cout\n",
    "\n",
    "print(\"Moyenne de D1 : \")\n",
    "print(facteurs['D1'].mean())\n",
    "print(\"Moyenne de D2 : \")\n",
    "print(facteurs['D2'].mean())\n",
    "print(\"Moyenne de Cout : \")\n",
    "print(cout['Cout'].mean())"
   ]
  },
  {
   "cell_type": "markdown",
   "metadata": {},
   "source": [
    "## Etape 2 : Répartition des composants en fonction du nombre de pannes dans lesquelles ils sont impliqués."
   ]
  },
  {
   "cell_type": "code",
   "execution_count": 296,
   "metadata": {},
   "outputs": [
    {
     "name": "stderr",
     "output_type": "stream",
     "text": [
      "/Users/martinduguey/Documents/MACS3/S1/Statistiques descriptives/Examen/EnvStatsD/lib/python3.7/site-packages/ipykernel_launcher.py:1: FutureWarning:\n",
      "\n",
      "In a future version of pandas all arguments of DataFrame.drop except for the argument 'labels' will be keyword-only\n",
      "\n"
     ]
    },
    {
     "data": {
      "application/vnd.plotly.v1+json": {
       "config": {
        "plotlyServerURL": "https://plot.ly"
       },
       "data": [
        {
         "marker": {
          "color": "rgba(122, 169, 168, 0.8)",
          "line": {
           "color": "rgba(122, 169, 168, 1.)",
           "width": 3
          }
         },
         "name": "Occurences des composants par pannes",
         "text": [
          155,
          86,
          68,
          244,
          18,
          245,
          83,
          17,
          39,
          62,
          17,
          0,
          28,
          176,
          54
         ],
         "textposition": "auto",
         "type": "bar",
         "x": [
          "X1",
          "X2",
          "X3",
          "X4",
          "X5",
          "X6",
          "X7",
          "X8",
          "X9",
          "X10",
          "X11",
          "X12",
          "X13",
          "X14",
          "X15"
         ],
         "y": [
          155,
          86,
          68,
          244,
          18,
          245,
          83,
          17,
          39,
          62,
          17,
          0,
          28,
          176,
          54
         ]
        }
       ],
       "layout": {
        "template": {
         "data": {
          "bar": [
           {
            "error_x": {
             "color": "#2a3f5f"
            },
            "error_y": {
             "color": "#2a3f5f"
            },
            "marker": {
             "line": {
              "color": "#E5ECF6",
              "width": 0.5
             },
             "pattern": {
              "fillmode": "overlay",
              "size": 10,
              "solidity": 0.2
             }
            },
            "type": "bar"
           }
          ],
          "barpolar": [
           {
            "marker": {
             "line": {
              "color": "#E5ECF6",
              "width": 0.5
             },
             "pattern": {
              "fillmode": "overlay",
              "size": 10,
              "solidity": 0.2
             }
            },
            "type": "barpolar"
           }
          ],
          "carpet": [
           {
            "aaxis": {
             "endlinecolor": "#2a3f5f",
             "gridcolor": "white",
             "linecolor": "white",
             "minorgridcolor": "white",
             "startlinecolor": "#2a3f5f"
            },
            "baxis": {
             "endlinecolor": "#2a3f5f",
             "gridcolor": "white",
             "linecolor": "white",
             "minorgridcolor": "white",
             "startlinecolor": "#2a3f5f"
            },
            "type": "carpet"
           }
          ],
          "choropleth": [
           {
            "colorbar": {
             "outlinewidth": 0,
             "ticks": ""
            },
            "type": "choropleth"
           }
          ],
          "contour": [
           {
            "colorbar": {
             "outlinewidth": 0,
             "ticks": ""
            },
            "colorscale": [
             [
              0,
              "#0d0887"
             ],
             [
              0.1111111111111111,
              "#46039f"
             ],
             [
              0.2222222222222222,
              "#7201a8"
             ],
             [
              0.3333333333333333,
              "#9c179e"
             ],
             [
              0.4444444444444444,
              "#bd3786"
             ],
             [
              0.5555555555555556,
              "#d8576b"
             ],
             [
              0.6666666666666666,
              "#ed7953"
             ],
             [
              0.7777777777777778,
              "#fb9f3a"
             ],
             [
              0.8888888888888888,
              "#fdca26"
             ],
             [
              1,
              "#f0f921"
             ]
            ],
            "type": "contour"
           }
          ],
          "contourcarpet": [
           {
            "colorbar": {
             "outlinewidth": 0,
             "ticks": ""
            },
            "type": "contourcarpet"
           }
          ],
          "heatmap": [
           {
            "colorbar": {
             "outlinewidth": 0,
             "ticks": ""
            },
            "colorscale": [
             [
              0,
              "#0d0887"
             ],
             [
              0.1111111111111111,
              "#46039f"
             ],
             [
              0.2222222222222222,
              "#7201a8"
             ],
             [
              0.3333333333333333,
              "#9c179e"
             ],
             [
              0.4444444444444444,
              "#bd3786"
             ],
             [
              0.5555555555555556,
              "#d8576b"
             ],
             [
              0.6666666666666666,
              "#ed7953"
             ],
             [
              0.7777777777777778,
              "#fb9f3a"
             ],
             [
              0.8888888888888888,
              "#fdca26"
             ],
             [
              1,
              "#f0f921"
             ]
            ],
            "type": "heatmap"
           }
          ],
          "heatmapgl": [
           {
            "colorbar": {
             "outlinewidth": 0,
             "ticks": ""
            },
            "colorscale": [
             [
              0,
              "#0d0887"
             ],
             [
              0.1111111111111111,
              "#46039f"
             ],
             [
              0.2222222222222222,
              "#7201a8"
             ],
             [
              0.3333333333333333,
              "#9c179e"
             ],
             [
              0.4444444444444444,
              "#bd3786"
             ],
             [
              0.5555555555555556,
              "#d8576b"
             ],
             [
              0.6666666666666666,
              "#ed7953"
             ],
             [
              0.7777777777777778,
              "#fb9f3a"
             ],
             [
              0.8888888888888888,
              "#fdca26"
             ],
             [
              1,
              "#f0f921"
             ]
            ],
            "type": "heatmapgl"
           }
          ],
          "histogram": [
           {
            "marker": {
             "pattern": {
              "fillmode": "overlay",
              "size": 10,
              "solidity": 0.2
             }
            },
            "type": "histogram"
           }
          ],
          "histogram2d": [
           {
            "colorbar": {
             "outlinewidth": 0,
             "ticks": ""
            },
            "colorscale": [
             [
              0,
              "#0d0887"
             ],
             [
              0.1111111111111111,
              "#46039f"
             ],
             [
              0.2222222222222222,
              "#7201a8"
             ],
             [
              0.3333333333333333,
              "#9c179e"
             ],
             [
              0.4444444444444444,
              "#bd3786"
             ],
             [
              0.5555555555555556,
              "#d8576b"
             ],
             [
              0.6666666666666666,
              "#ed7953"
             ],
             [
              0.7777777777777778,
              "#fb9f3a"
             ],
             [
              0.8888888888888888,
              "#fdca26"
             ],
             [
              1,
              "#f0f921"
             ]
            ],
            "type": "histogram2d"
           }
          ],
          "histogram2dcontour": [
           {
            "colorbar": {
             "outlinewidth": 0,
             "ticks": ""
            },
            "colorscale": [
             [
              0,
              "#0d0887"
             ],
             [
              0.1111111111111111,
              "#46039f"
             ],
             [
              0.2222222222222222,
              "#7201a8"
             ],
             [
              0.3333333333333333,
              "#9c179e"
             ],
             [
              0.4444444444444444,
              "#bd3786"
             ],
             [
              0.5555555555555556,
              "#d8576b"
             ],
             [
              0.6666666666666666,
              "#ed7953"
             ],
             [
              0.7777777777777778,
              "#fb9f3a"
             ],
             [
              0.8888888888888888,
              "#fdca26"
             ],
             [
              1,
              "#f0f921"
             ]
            ],
            "type": "histogram2dcontour"
           }
          ],
          "mesh3d": [
           {
            "colorbar": {
             "outlinewidth": 0,
             "ticks": ""
            },
            "type": "mesh3d"
           }
          ],
          "parcoords": [
           {
            "line": {
             "colorbar": {
              "outlinewidth": 0,
              "ticks": ""
             }
            },
            "type": "parcoords"
           }
          ],
          "pie": [
           {
            "automargin": true,
            "type": "pie"
           }
          ],
          "scatter": [
           {
            "marker": {
             "colorbar": {
              "outlinewidth": 0,
              "ticks": ""
             }
            },
            "type": "scatter"
           }
          ],
          "scatter3d": [
           {
            "line": {
             "colorbar": {
              "outlinewidth": 0,
              "ticks": ""
             }
            },
            "marker": {
             "colorbar": {
              "outlinewidth": 0,
              "ticks": ""
             }
            },
            "type": "scatter3d"
           }
          ],
          "scattercarpet": [
           {
            "marker": {
             "colorbar": {
              "outlinewidth": 0,
              "ticks": ""
             }
            },
            "type": "scattercarpet"
           }
          ],
          "scattergeo": [
           {
            "marker": {
             "colorbar": {
              "outlinewidth": 0,
              "ticks": ""
             }
            },
            "type": "scattergeo"
           }
          ],
          "scattergl": [
           {
            "marker": {
             "colorbar": {
              "outlinewidth": 0,
              "ticks": ""
             }
            },
            "type": "scattergl"
           }
          ],
          "scattermapbox": [
           {
            "marker": {
             "colorbar": {
              "outlinewidth": 0,
              "ticks": ""
             }
            },
            "type": "scattermapbox"
           }
          ],
          "scatterpolar": [
           {
            "marker": {
             "colorbar": {
              "outlinewidth": 0,
              "ticks": ""
             }
            },
            "type": "scatterpolar"
           }
          ],
          "scatterpolargl": [
           {
            "marker": {
             "colorbar": {
              "outlinewidth": 0,
              "ticks": ""
             }
            },
            "type": "scatterpolargl"
           }
          ],
          "scatterternary": [
           {
            "marker": {
             "colorbar": {
              "outlinewidth": 0,
              "ticks": ""
             }
            },
            "type": "scatterternary"
           }
          ],
          "surface": [
           {
            "colorbar": {
             "outlinewidth": 0,
             "ticks": ""
            },
            "colorscale": [
             [
              0,
              "#0d0887"
             ],
             [
              0.1111111111111111,
              "#46039f"
             ],
             [
              0.2222222222222222,
              "#7201a8"
             ],
             [
              0.3333333333333333,
              "#9c179e"
             ],
             [
              0.4444444444444444,
              "#bd3786"
             ],
             [
              0.5555555555555556,
              "#d8576b"
             ],
             [
              0.6666666666666666,
              "#ed7953"
             ],
             [
              0.7777777777777778,
              "#fb9f3a"
             ],
             [
              0.8888888888888888,
              "#fdca26"
             ],
             [
              1,
              "#f0f921"
             ]
            ],
            "type": "surface"
           }
          ],
          "table": [
           {
            "cells": {
             "fill": {
              "color": "#EBF0F8"
             },
             "line": {
              "color": "white"
             }
            },
            "header": {
             "fill": {
              "color": "#C8D4E3"
             },
             "line": {
              "color": "white"
             }
            },
            "type": "table"
           }
          ]
         },
         "layout": {
          "annotationdefaults": {
           "arrowcolor": "#2a3f5f",
           "arrowhead": 0,
           "arrowwidth": 1
          },
          "autotypenumbers": "strict",
          "coloraxis": {
           "colorbar": {
            "outlinewidth": 0,
            "ticks": ""
           }
          },
          "colorscale": {
           "diverging": [
            [
             0,
             "#8e0152"
            ],
            [
             0.1,
             "#c51b7d"
            ],
            [
             0.2,
             "#de77ae"
            ],
            [
             0.3,
             "#f1b6da"
            ],
            [
             0.4,
             "#fde0ef"
            ],
            [
             0.5,
             "#f7f7f7"
            ],
            [
             0.6,
             "#e6f5d0"
            ],
            [
             0.7,
             "#b8e186"
            ],
            [
             0.8,
             "#7fbc41"
            ],
            [
             0.9,
             "#4d9221"
            ],
            [
             1,
             "#276419"
            ]
           ],
           "sequential": [
            [
             0,
             "#0d0887"
            ],
            [
             0.1111111111111111,
             "#46039f"
            ],
            [
             0.2222222222222222,
             "#7201a8"
            ],
            [
             0.3333333333333333,
             "#9c179e"
            ],
            [
             0.4444444444444444,
             "#bd3786"
            ],
            [
             0.5555555555555556,
             "#d8576b"
            ],
            [
             0.6666666666666666,
             "#ed7953"
            ],
            [
             0.7777777777777778,
             "#fb9f3a"
            ],
            [
             0.8888888888888888,
             "#fdca26"
            ],
            [
             1,
             "#f0f921"
            ]
           ],
           "sequentialminus": [
            [
             0,
             "#0d0887"
            ],
            [
             0.1111111111111111,
             "#46039f"
            ],
            [
             0.2222222222222222,
             "#7201a8"
            ],
            [
             0.3333333333333333,
             "#9c179e"
            ],
            [
             0.4444444444444444,
             "#bd3786"
            ],
            [
             0.5555555555555556,
             "#d8576b"
            ],
            [
             0.6666666666666666,
             "#ed7953"
            ],
            [
             0.7777777777777778,
             "#fb9f3a"
            ],
            [
             0.8888888888888888,
             "#fdca26"
            ],
            [
             1,
             "#f0f921"
            ]
           ]
          },
          "colorway": [
           "#636efa",
           "#EF553B",
           "#00cc96",
           "#ab63fa",
           "#FFA15A",
           "#19d3f3",
           "#FF6692",
           "#B6E880",
           "#FF97FF",
           "#FECB52"
          ],
          "font": {
           "color": "#2a3f5f"
          },
          "geo": {
           "bgcolor": "white",
           "lakecolor": "white",
           "landcolor": "#E5ECF6",
           "showlakes": true,
           "showland": true,
           "subunitcolor": "white"
          },
          "hoverlabel": {
           "align": "left"
          },
          "hovermode": "closest",
          "mapbox": {
           "style": "light"
          },
          "paper_bgcolor": "white",
          "plot_bgcolor": "#E5ECF6",
          "polar": {
           "angularaxis": {
            "gridcolor": "white",
            "linecolor": "white",
            "ticks": ""
           },
           "bgcolor": "#E5ECF6",
           "radialaxis": {
            "gridcolor": "white",
            "linecolor": "white",
            "ticks": ""
           }
          },
          "scene": {
           "xaxis": {
            "backgroundcolor": "#E5ECF6",
            "gridcolor": "white",
            "gridwidth": 2,
            "linecolor": "white",
            "showbackground": true,
            "ticks": "",
            "zerolinecolor": "white"
           },
           "yaxis": {
            "backgroundcolor": "#E5ECF6",
            "gridcolor": "white",
            "gridwidth": 2,
            "linecolor": "white",
            "showbackground": true,
            "ticks": "",
            "zerolinecolor": "white"
           },
           "zaxis": {
            "backgroundcolor": "#E5ECF6",
            "gridcolor": "white",
            "gridwidth": 2,
            "linecolor": "white",
            "showbackground": true,
            "ticks": "",
            "zerolinecolor": "white"
           }
          },
          "shapedefaults": {
           "line": {
            "color": "#2a3f5f"
           }
          },
          "ternary": {
           "aaxis": {
            "gridcolor": "white",
            "linecolor": "white",
            "ticks": ""
           },
           "baxis": {
            "gridcolor": "white",
            "linecolor": "white",
            "ticks": ""
           },
           "bgcolor": "#E5ECF6",
           "caxis": {
            "gridcolor": "white",
            "linecolor": "white",
            "ticks": ""
           }
          },
          "title": {
           "x": 0.05
          },
          "xaxis": {
           "automargin": true,
           "gridcolor": "white",
           "linecolor": "white",
           "ticks": "",
           "title": {
            "standoff": 15
           },
           "zerolinecolor": "white",
           "zerolinewidth": 2
          },
          "yaxis": {
           "automargin": true,
           "gridcolor": "white",
           "linecolor": "white",
           "ticks": "",
           "title": {
            "standoff": 15
           },
           "zerolinecolor": "white",
           "zerolinewidth": 2
          }
         }
        },
        "xaxis": {
         "title": {
          "text": "Composants"
         }
        },
        "yaxis": {
         "title": {
          "text": "Nombre de pannes"
         }
        }
       }
      }
     },
     "metadata": {},
     "output_type": "display_data"
    }
   ],
   "source": [
    "facteurs1 = facteurs.drop(['Id','Version','D1','D2','Panne'],1) #On fait nos manipulations sur une copie du dataframe.\n",
    "nb_p_comp = facteurs1.sum(0) #On fait la somme des pannes pour chaque composant.\n",
    "comp = ['X1', 'X2', 'X3', 'X4', 'X5', 'X6', 'X7', 'X8', 'X9', 'X10', 'X11', 'X12', 'X13', 'X14', 'X15'] #Les composants en questions\n",
    "\n",
    "#On affiche un diagramme\n",
    "# plt.figure(1,figsize=(10,6))\n",
    "# plt.bar(comp, nb_p_comp)\n",
    "# plt.xlabel('Composants')\n",
    "# plt.ylabel('Nombre de pannes')\n",
    "# plt.show()\n",
    "fig_comp = go.Figure(data=[go.Bar(\n",
    "            x=comp, \n",
    "            y=nb_p_comp,\n",
    "            text=nb_p_comp,\n",
    "            textposition='auto',\n",
    "            name='Occurences des composants par pannes',\n",
    "            marker=dict(\n",
    "                color='rgba(122, 169, 168, 0.8)',\n",
    "            line=dict(color='rgba(122, 169, 168, 1.)', width=3))\n",
    ")])\n",
    "\n",
    "fig_comp.update_layout(\n",
    "    xaxis_title=\"Composants\",\n",
    "    yaxis_title=\"Nombre de pannes\"\n",
    ")\n",
    "fig_comp.show()\n"
   ]
  },
  {
   "cell_type": "markdown",
   "metadata": {},
   "source": [
    "## Étape 3 : Existe-t-il un lien entre le nombre de pannes dans lequel un composant est impliqué et les coûts de réparation associés à ses pannes ?"
   ]
  },
  {
   "cell_type": "markdown",
   "metadata": {},
   "source": [
    "Comme il y a plus de pannes identifiées dans la table facteurs que dans la table coût, on ne garde dans la table facteurs que les lignes concernant les pièces et les pannes répertoriées dans la table coût."
   ]
  },
  {
   "cell_type": "code",
   "execution_count": 297,
   "metadata": {},
   "outputs": [],
   "source": [
    "#Fonction filtre de la table facteurs\n",
    "def filtre_facteurs(df_facteurs, df_cout):\n",
    "    \"\"\"Fonction filtre_facteurs\n",
    "    \n",
    "    Arguments\n",
    "        df_facteurs : DataFrame facteurs\n",
    "            input variable 1\n",
    "        df_cout : DataFrame cout\n",
    "            input variable 2\n",
    "        \n",
    "    Returns\n",
    "        df_facteurs_red : DataFrame facteurs réduit aux pièces et pannes \n",
    "        répertoriées dans le DataFrame cout.\n",
    "\n",
    "        df_cout : Dataframe des couts groupés par identifiants et pannes.\n",
    "        Lorsque les identifiants et les pannes de plusieurs lignes sont identiques, on les regroupe en sommant les couts.\n",
    "    \"\"\"\n",
    "    # On instancie notre df_facteurs_red\n",
    "    df_facteurs_red = df_facteurs\n",
    "\n",
    "    # On enlève les doublons de cout en sommant quand l'identifiant et la panne sont identiques\n",
    "    df_cout_red = df_cout.groupby(['Id','Panne']).sum(0)\n",
    "\n",
    "    # On récupère les identifiants et les pannes des pièces de cout.\n",
    "    cout_id = np.zeros(df_cout_red.size)\n",
    "    cout_panne = np.array(['' for k in range(df_cout_red.size)])\n",
    "\n",
    "    for i in range(df_cout_red.size):\n",
    "        cout_id[i] = df_cout_red.index[i][0]\n",
    "        cout_panne[i] = df_cout_red.index[i][1]\n",
    "    \n",
    "    # On récupère les pannes et identifiants des pièces de facteurs.\n",
    "    facteurs_panne = df_facteurs_red.drop(['Version', 'D1', 'D2', 'X1', 'X2', 'X3', 'X4', 'X5', 'X6', 'X7', 'X8', 'X9', 'X10', 'X11', 'X12', 'X13', 'X14', 'X15'],1)\n",
    "    facteurs_panne = facteurs_panne.to_numpy()\n",
    "\n",
    "    ind_ligne_sup = np.arange(df_facteurs_red.shape[0]) \n",
    "\n",
    "    # On trie ensuite les pannes et identifiants qui nous intéressent, en l'occurence ceux se trouvant dans la table cout\n",
    "    for i in range(cout_panne.size):\n",
    "        ligne_val = []\n",
    "        liste = np.argwhere(facteurs_panne==cout_panne[i])\n",
    "        if (liste.shape[0]>0):\n",
    "            for k in range(liste.shape[0]):\n",
    "                if (facteurs_panne[liste[k][0],0]==int(cout_id[i])):\n",
    "                    ligne_val.append(liste[k][0]) \n",
    "\n",
    "        ligne_val = np.array(ligne_val) \n",
    "             \n",
    "        for j in range(ligne_val.size):\n",
    "            ind_ligne_sup = np.delete(ind_ligne_sup, np.where(ind_ligne_sup == ligne_val[j])) # On enlève les lignes qui vérifient\n",
    "                                                                                                 # la condition ci-dessus de la liste\n",
    "                                                                                                 # des lignes à supprimer. \n",
    "\n",
    "    # On modifie alors df_facteur_red pour ne garder que les idenfiants et les pannes qui nous intéressent\n",
    "    df_facteurs_red = df_facteurs_red.drop(df_facteurs_red.index[ind_ligne_sup])\n",
    "\n",
    "    return df_facteurs_red, df_cout_red"
   ]
  },
  {
   "cell_type": "code",
   "execution_count": 298,
   "metadata": {},
   "outputs": [
    {
     "name": "stderr",
     "output_type": "stream",
     "text": [
      "/Users/martinduguey/Documents/MACS3/S1/Statistiques descriptives/Examen/EnvStatsD/lib/python3.7/site-packages/ipykernel_launcher.py:33: FutureWarning:\n",
      "\n",
      "In a future version of pandas all arguments of DataFrame.drop except for the argument 'labels' will be keyword-only\n",
      "\n"
     ]
    }
   ],
   "source": [
    "# On applique la fonction filtre_facteurs à notre jeu de données\n",
    "\n",
    "df_facteurs_red, df_cout_red = filtre_facteurs(facteurs, cout)"
   ]
  },
  {
   "cell_type": "markdown",
   "metadata": {},
   "source": [
    "Maintenant, on aimerait avoir, pour chaque composant, le cout total des frais de reparation des pannes dans lesquelles il est impliqué. On choisit de travailler sur les dataframes df_facteurs_red et df_cout_red pour être sûr qu'on travaille avec des données complètes."
   ]
  },
  {
   "cell_type": "code",
   "execution_count": 299,
   "metadata": {},
   "outputs": [],
   "source": [
    "# Refonte du DataFrame df_cout_red\n",
    "\n",
    "Id = np.zeros(df_cout_red.shape[0])\n",
    "Panne = np.array(['' for k in range(df_cout_red.shape[0])])\n",
    "ind = np.arange(df_cout_red.shape[0])\n",
    "Id = Id.astype(int)\n",
    "\n",
    "for i in range(df_cout_red.shape[0]):\n",
    "    Id[i] = df_cout_red.index[i][0]\n",
    "    Panne[i] = df_cout_red.index[i][1]\n",
    "\n",
    "df_cout_red.insert(0, \"Id\", Id, allow_duplicates=False)\n",
    "df_cout_red.insert(1, \"Panne\", Panne, allow_duplicates=False)\n",
    "\n",
    "df_cout_red = df_cout_red.set_index(ind)"
   ]
  },
  {
   "cell_type": "code",
   "execution_count": 300,
   "metadata": {},
   "outputs": [],
   "source": [
    "# Fonction get_cout \n",
    "\n",
    "def get_cout(id, panne):\n",
    "    \"\"\"Fonction get_cout \n",
    "\n",
    "        ATTENTION : Fonction basée sur le DataFrame df_cout_red\n",
    "    \n",
    "    Arguments\n",
    "        id : identifiant de la pièce\n",
    "        panne : panne de la pièce\n",
    "        \n",
    "    Returns\n",
    "        res : cout de réparation pour la pièce et la panne correspondante\n",
    "    \"\"\"\n",
    "    # Recherche du cout correspondant\n",
    "    res = df_cout_red.loc[(df_cout_red['Id'] == id) & (df_cout_red['Panne'] == panne), ['Cout']]\n",
    "\n",
    "    # Convertion pour renvoyer un float\n",
    "    res = res.to_numpy()[0][0]\n",
    "\n",
    "    return res"
   ]
  },
  {
   "cell_type": "code",
   "execution_count": 301,
   "metadata": {},
   "outputs": [
    {
     "data": {
      "application/vnd.plotly.v1+json": {
       "config": {
        "plotlyServerURL": "https://plot.ly"
       },
       "data": [
        {
         "histnorm": "probability",
         "marker": {
          "color": "#8993EB"
         },
         "name": "Estimation de la densité de la loi cout",
         "opacity": 0.75,
         "type": "histogram",
         "x": [
          15.84,
          19.14,
          9.9,
          32.56,
          38.94,
          8.14,
          71.5,
          22.44,
          75.9,
          20.46,
          9.9,
          15.62,
          64.24,
          213.18,
          52.36,
          29.7,
          26.62,
          55,
          19.58,
          29.26,
          15.4,
          21.56,
          3.52,
          110,
          33.22,
          12.54,
          40.7,
          110,
          14.52,
          30.36,
          55,
          55,
          31.02,
          22,
          57.86,
          73.7,
          36.08,
          165,
          4.18,
          113.3,
          166.76,
          97.24000000000001,
          13.2,
          16.06,
          1.98,
          0.6599999999999999,
          29.7,
          1.76,
          55,
          87.78,
          33.44,
          19.58,
          14.08,
          23.1,
          24.64,
          115.94,
          67.98,
          55,
          123.42,
          12.32,
          9.459999999999999,
          16.94,
          29.26,
          55,
          90.64,
          1.98,
          55,
          34.98,
          30.14,
          28.38,
          3.3,
          72.16,
          114.4,
          110,
          55
         ],
         "xbins": {
          "end": 200,
          "size": 10,
          "start": 0
         }
        },
        {
         "mode": "lines",
         "name": "Loi exponentielle de paramètre 0.15",
         "type": "scatter",
         "x": [
          0,
          2.0202020202020203,
          4.040404040404041,
          6.0606060606060606,
          8.080808080808081,
          10.101010101010102,
          12.121212121212121,
          14.141414141414142,
          16.161616161616163,
          18.181818181818183,
          20.202020202020204,
          22.222222222222225,
          24.242424242424242,
          26.262626262626263,
          28.282828282828284,
          30.303030303030305,
          32.323232323232325,
          34.343434343434346,
          36.36363636363637,
          38.38383838383839,
          40.40404040404041,
          42.42424242424243,
          44.44444444444445,
          46.46464646464647,
          48.484848484848484,
          50.505050505050505,
          52.525252525252526,
          54.54545454545455,
          56.56565656565657,
          58.58585858585859,
          60.60606060606061,
          62.62626262626263,
          64.64646464646465,
          66.66666666666667,
          68.68686868686869,
          70.70707070707071,
          72.72727272727273,
          74.74747474747475,
          76.76767676767678,
          78.7878787878788,
          80.80808080808082,
          82.82828282828284,
          84.84848484848486,
          86.86868686868688,
          88.8888888888889,
          90.90909090909092,
          92.92929292929294,
          94.94949494949496,
          96.96969696969697,
          98.98989898989899,
          101.01010101010101,
          103.03030303030303,
          105.05050505050505,
          107.07070707070707,
          109.0909090909091,
          111.11111111111111,
          113.13131313131314,
          115.15151515151516,
          117.17171717171718,
          119.1919191919192,
          121.21212121212122,
          123.23232323232324,
          125.25252525252526,
          127.27272727272728,
          129.2929292929293,
          131.31313131313132,
          133.33333333333334,
          135.35353535353536,
          137.37373737373738,
          139.3939393939394,
          141.41414141414143,
          143.43434343434345,
          145.45454545454547,
          147.4747474747475,
          149.4949494949495,
          151.51515151515153,
          153.53535353535355,
          155.55555555555557,
          157.5757575757576,
          159.5959595959596,
          161.61616161616163,
          163.63636363636365,
          165.65656565656568,
          167.6767676767677,
          169.69696969696972,
          171.71717171717174,
          173.73737373737376,
          175.75757575757578,
          177.7777777777778,
          179.79797979797982,
          181.81818181818184,
          183.83838383838386,
          185.85858585858588,
          187.8787878787879,
          189.89898989898992,
          191.91919191919195,
          193.93939393939394,
          195.95959595959596,
          197.97979797979798,
          200
         ],
         "y": [
          0.15,
          0.1107865072378197,
          0.08182433457303652,
          0.06043354822936995,
          0.0446348115221348,
          0.032966232465038034,
          0.024348091677277226,
          0.01798293356554514,
          0.013281775997443316,
          0.009809610484479026,
          0.0072451498862595165,
          0.005351099002087859,
          0.00395219712216731,
          0.002919000767201859,
          0.0021559059974854008,
          0.0015923019692965009,
          0.0011760371576417428,
          0.0008685936605134793,
          0.0006415230523813389,
          0.0004738139885724894,
          0.00034994797916244197,
          0.00025846342884226845,
          0.00019089507020097118,
          0.00014099065384322654,
          0.0001041324139497838,
          0.00007690977621159576,
          0.00005680376985950028,
          0.000041953941737833165,
          0.00003098620446662348,
          0.000022885689102760963,
          0.0000169028370761701,
          0.000012484041880525377,
          0.000009220422641027129,
          0.000006809989464372728,
          0.000005029699647228036,
          0.0000037148190424779144,
          0.000002743678844911134,
          0.000002026417308066668,
          0.000001496664638446474,
          0.0000011054016519989278,
          8.164239207991793e-7,
          6.02991697404983e-7,
          4.4535562699268235e-7,
          3.28929295954857e-7,
          2.4293951884689147e-7,
          1.7942947175389027e-7,
          1.3252242980760356e-7,
          9.787798086035687e-8,
          7.229039756672752e-8,
          5.3392004355007496e-8,
          3.9434091179451606e-8,
          2.9125101519127726e-8,
          2.151112180167382e-8,
          1.588761367449842e-8,
          1.1734221515609997e-8,
          8.6666227791287e-9,
          6.400965781649312e-9,
          4.727604279318178e-9,
          3.491698438054879e-9,
          2.5788871618656667e-9,
          1.904706008157004e-9,
          1.4067715063907004e-9,
          1.0390086778314108e-9,
          7.673876160448487e-10,
          5.667746245277715e-10,
          4.1860654028305604e-10,
          3.0917304336578367e-10,
          2.2834801071054726e-10,
          1.6865252360883884e-10,
          1.2456282684978105e-10,
          9.199920345571019e-11,
          6.79484694634647e-11,
          5.0185157360085956e-11,
          3.7065588660695296e-11,
          2.7375780709547743e-11,
          2.0219114184795146e-11,
          1.49333669331741e-11,
          1.1029437092180716e-11,
          8.14608541494639e-12,
          6.016509005219031e-12,
          4.443653456354031e-12,
          3.281978972031529e-12,
          2.423993247595617e-12,
          1.7903049697945231e-12,
          1.3222775632936349e-12,
          9.766034189082444e-13,
          7.212965449157195e-13,
          5.327328326261306e-13,
          3.934640654503942e-13,
          2.9060339689894667e-13,
          2.1463290222586732e-13,
          1.58522863839469e-13,
          1.1708129601407475e-13,
          8.647351898851088e-14,
          6.386732758200257e-14,
          4.717092099615813e-14,
          3.4839343869036826e-14,
          2.573152814471964e-14,
          1.9004707526967597e-14,
          1.4036434453260262e-14
         ]
        }
       ],
       "layout": {
        "template": {
         "data": {
          "bar": [
           {
            "error_x": {
             "color": "#2a3f5f"
            },
            "error_y": {
             "color": "#2a3f5f"
            },
            "marker": {
             "line": {
              "color": "#E5ECF6",
              "width": 0.5
             },
             "pattern": {
              "fillmode": "overlay",
              "size": 10,
              "solidity": 0.2
             }
            },
            "type": "bar"
           }
          ],
          "barpolar": [
           {
            "marker": {
             "line": {
              "color": "#E5ECF6",
              "width": 0.5
             },
             "pattern": {
              "fillmode": "overlay",
              "size": 10,
              "solidity": 0.2
             }
            },
            "type": "barpolar"
           }
          ],
          "carpet": [
           {
            "aaxis": {
             "endlinecolor": "#2a3f5f",
             "gridcolor": "white",
             "linecolor": "white",
             "minorgridcolor": "white",
             "startlinecolor": "#2a3f5f"
            },
            "baxis": {
             "endlinecolor": "#2a3f5f",
             "gridcolor": "white",
             "linecolor": "white",
             "minorgridcolor": "white",
             "startlinecolor": "#2a3f5f"
            },
            "type": "carpet"
           }
          ],
          "choropleth": [
           {
            "colorbar": {
             "outlinewidth": 0,
             "ticks": ""
            },
            "type": "choropleth"
           }
          ],
          "contour": [
           {
            "colorbar": {
             "outlinewidth": 0,
             "ticks": ""
            },
            "colorscale": [
             [
              0,
              "#0d0887"
             ],
             [
              0.1111111111111111,
              "#46039f"
             ],
             [
              0.2222222222222222,
              "#7201a8"
             ],
             [
              0.3333333333333333,
              "#9c179e"
             ],
             [
              0.4444444444444444,
              "#bd3786"
             ],
             [
              0.5555555555555556,
              "#d8576b"
             ],
             [
              0.6666666666666666,
              "#ed7953"
             ],
             [
              0.7777777777777778,
              "#fb9f3a"
             ],
             [
              0.8888888888888888,
              "#fdca26"
             ],
             [
              1,
              "#f0f921"
             ]
            ],
            "type": "contour"
           }
          ],
          "contourcarpet": [
           {
            "colorbar": {
             "outlinewidth": 0,
             "ticks": ""
            },
            "type": "contourcarpet"
           }
          ],
          "heatmap": [
           {
            "colorbar": {
             "outlinewidth": 0,
             "ticks": ""
            },
            "colorscale": [
             [
              0,
              "#0d0887"
             ],
             [
              0.1111111111111111,
              "#46039f"
             ],
             [
              0.2222222222222222,
              "#7201a8"
             ],
             [
              0.3333333333333333,
              "#9c179e"
             ],
             [
              0.4444444444444444,
              "#bd3786"
             ],
             [
              0.5555555555555556,
              "#d8576b"
             ],
             [
              0.6666666666666666,
              "#ed7953"
             ],
             [
              0.7777777777777778,
              "#fb9f3a"
             ],
             [
              0.8888888888888888,
              "#fdca26"
             ],
             [
              1,
              "#f0f921"
             ]
            ],
            "type": "heatmap"
           }
          ],
          "heatmapgl": [
           {
            "colorbar": {
             "outlinewidth": 0,
             "ticks": ""
            },
            "colorscale": [
             [
              0,
              "#0d0887"
             ],
             [
              0.1111111111111111,
              "#46039f"
             ],
             [
              0.2222222222222222,
              "#7201a8"
             ],
             [
              0.3333333333333333,
              "#9c179e"
             ],
             [
              0.4444444444444444,
              "#bd3786"
             ],
             [
              0.5555555555555556,
              "#d8576b"
             ],
             [
              0.6666666666666666,
              "#ed7953"
             ],
             [
              0.7777777777777778,
              "#fb9f3a"
             ],
             [
              0.8888888888888888,
              "#fdca26"
             ],
             [
              1,
              "#f0f921"
             ]
            ],
            "type": "heatmapgl"
           }
          ],
          "histogram": [
           {
            "marker": {
             "pattern": {
              "fillmode": "overlay",
              "size": 10,
              "solidity": 0.2
             }
            },
            "type": "histogram"
           }
          ],
          "histogram2d": [
           {
            "colorbar": {
             "outlinewidth": 0,
             "ticks": ""
            },
            "colorscale": [
             [
              0,
              "#0d0887"
             ],
             [
              0.1111111111111111,
              "#46039f"
             ],
             [
              0.2222222222222222,
              "#7201a8"
             ],
             [
              0.3333333333333333,
              "#9c179e"
             ],
             [
              0.4444444444444444,
              "#bd3786"
             ],
             [
              0.5555555555555556,
              "#d8576b"
             ],
             [
              0.6666666666666666,
              "#ed7953"
             ],
             [
              0.7777777777777778,
              "#fb9f3a"
             ],
             [
              0.8888888888888888,
              "#fdca26"
             ],
             [
              1,
              "#f0f921"
             ]
            ],
            "type": "histogram2d"
           }
          ],
          "histogram2dcontour": [
           {
            "colorbar": {
             "outlinewidth": 0,
             "ticks": ""
            },
            "colorscale": [
             [
              0,
              "#0d0887"
             ],
             [
              0.1111111111111111,
              "#46039f"
             ],
             [
              0.2222222222222222,
              "#7201a8"
             ],
             [
              0.3333333333333333,
              "#9c179e"
             ],
             [
              0.4444444444444444,
              "#bd3786"
             ],
             [
              0.5555555555555556,
              "#d8576b"
             ],
             [
              0.6666666666666666,
              "#ed7953"
             ],
             [
              0.7777777777777778,
              "#fb9f3a"
             ],
             [
              0.8888888888888888,
              "#fdca26"
             ],
             [
              1,
              "#f0f921"
             ]
            ],
            "type": "histogram2dcontour"
           }
          ],
          "mesh3d": [
           {
            "colorbar": {
             "outlinewidth": 0,
             "ticks": ""
            },
            "type": "mesh3d"
           }
          ],
          "parcoords": [
           {
            "line": {
             "colorbar": {
              "outlinewidth": 0,
              "ticks": ""
             }
            },
            "type": "parcoords"
           }
          ],
          "pie": [
           {
            "automargin": true,
            "type": "pie"
           }
          ],
          "scatter": [
           {
            "marker": {
             "colorbar": {
              "outlinewidth": 0,
              "ticks": ""
             }
            },
            "type": "scatter"
           }
          ],
          "scatter3d": [
           {
            "line": {
             "colorbar": {
              "outlinewidth": 0,
              "ticks": ""
             }
            },
            "marker": {
             "colorbar": {
              "outlinewidth": 0,
              "ticks": ""
             }
            },
            "type": "scatter3d"
           }
          ],
          "scattercarpet": [
           {
            "marker": {
             "colorbar": {
              "outlinewidth": 0,
              "ticks": ""
             }
            },
            "type": "scattercarpet"
           }
          ],
          "scattergeo": [
           {
            "marker": {
             "colorbar": {
              "outlinewidth": 0,
              "ticks": ""
             }
            },
            "type": "scattergeo"
           }
          ],
          "scattergl": [
           {
            "marker": {
             "colorbar": {
              "outlinewidth": 0,
              "ticks": ""
             }
            },
            "type": "scattergl"
           }
          ],
          "scattermapbox": [
           {
            "marker": {
             "colorbar": {
              "outlinewidth": 0,
              "ticks": ""
             }
            },
            "type": "scattermapbox"
           }
          ],
          "scatterpolar": [
           {
            "marker": {
             "colorbar": {
              "outlinewidth": 0,
              "ticks": ""
             }
            },
            "type": "scatterpolar"
           }
          ],
          "scatterpolargl": [
           {
            "marker": {
             "colorbar": {
              "outlinewidth": 0,
              "ticks": ""
             }
            },
            "type": "scatterpolargl"
           }
          ],
          "scatterternary": [
           {
            "marker": {
             "colorbar": {
              "outlinewidth": 0,
              "ticks": ""
             }
            },
            "type": "scatterternary"
           }
          ],
          "surface": [
           {
            "colorbar": {
             "outlinewidth": 0,
             "ticks": ""
            },
            "colorscale": [
             [
              0,
              "#0d0887"
             ],
             [
              0.1111111111111111,
              "#46039f"
             ],
             [
              0.2222222222222222,
              "#7201a8"
             ],
             [
              0.3333333333333333,
              "#9c179e"
             ],
             [
              0.4444444444444444,
              "#bd3786"
             ],
             [
              0.5555555555555556,
              "#d8576b"
             ],
             [
              0.6666666666666666,
              "#ed7953"
             ],
             [
              0.7777777777777778,
              "#fb9f3a"
             ],
             [
              0.8888888888888888,
              "#fdca26"
             ],
             [
              1,
              "#f0f921"
             ]
            ],
            "type": "surface"
           }
          ],
          "table": [
           {
            "cells": {
             "fill": {
              "color": "#EBF0F8"
             },
             "line": {
              "color": "white"
             }
            },
            "header": {
             "fill": {
              "color": "#C8D4E3"
             },
             "line": {
              "color": "white"
             }
            },
            "type": "table"
           }
          ]
         },
         "layout": {
          "annotationdefaults": {
           "arrowcolor": "#2a3f5f",
           "arrowhead": 0,
           "arrowwidth": 1
          },
          "autotypenumbers": "strict",
          "coloraxis": {
           "colorbar": {
            "outlinewidth": 0,
            "ticks": ""
           }
          },
          "colorscale": {
           "diverging": [
            [
             0,
             "#8e0152"
            ],
            [
             0.1,
             "#c51b7d"
            ],
            [
             0.2,
             "#de77ae"
            ],
            [
             0.3,
             "#f1b6da"
            ],
            [
             0.4,
             "#fde0ef"
            ],
            [
             0.5,
             "#f7f7f7"
            ],
            [
             0.6,
             "#e6f5d0"
            ],
            [
             0.7,
             "#b8e186"
            ],
            [
             0.8,
             "#7fbc41"
            ],
            [
             0.9,
             "#4d9221"
            ],
            [
             1,
             "#276419"
            ]
           ],
           "sequential": [
            [
             0,
             "#0d0887"
            ],
            [
             0.1111111111111111,
             "#46039f"
            ],
            [
             0.2222222222222222,
             "#7201a8"
            ],
            [
             0.3333333333333333,
             "#9c179e"
            ],
            [
             0.4444444444444444,
             "#bd3786"
            ],
            [
             0.5555555555555556,
             "#d8576b"
            ],
            [
             0.6666666666666666,
             "#ed7953"
            ],
            [
             0.7777777777777778,
             "#fb9f3a"
            ],
            [
             0.8888888888888888,
             "#fdca26"
            ],
            [
             1,
             "#f0f921"
            ]
           ],
           "sequentialminus": [
            [
             0,
             "#0d0887"
            ],
            [
             0.1111111111111111,
             "#46039f"
            ],
            [
             0.2222222222222222,
             "#7201a8"
            ],
            [
             0.3333333333333333,
             "#9c179e"
            ],
            [
             0.4444444444444444,
             "#bd3786"
            ],
            [
             0.5555555555555556,
             "#d8576b"
            ],
            [
             0.6666666666666666,
             "#ed7953"
            ],
            [
             0.7777777777777778,
             "#fb9f3a"
            ],
            [
             0.8888888888888888,
             "#fdca26"
            ],
            [
             1,
             "#f0f921"
            ]
           ]
          },
          "colorway": [
           "#636efa",
           "#EF553B",
           "#00cc96",
           "#ab63fa",
           "#FFA15A",
           "#19d3f3",
           "#FF6692",
           "#B6E880",
           "#FF97FF",
           "#FECB52"
          ],
          "font": {
           "color": "#2a3f5f"
          },
          "geo": {
           "bgcolor": "white",
           "lakecolor": "white",
           "landcolor": "#E5ECF6",
           "showlakes": true,
           "showland": true,
           "subunitcolor": "white"
          },
          "hoverlabel": {
           "align": "left"
          },
          "hovermode": "closest",
          "mapbox": {
           "style": "light"
          },
          "paper_bgcolor": "white",
          "plot_bgcolor": "#E5ECF6",
          "polar": {
           "angularaxis": {
            "gridcolor": "white",
            "linecolor": "white",
            "ticks": ""
           },
           "bgcolor": "#E5ECF6",
           "radialaxis": {
            "gridcolor": "white",
            "linecolor": "white",
            "ticks": ""
           }
          },
          "scene": {
           "xaxis": {
            "backgroundcolor": "#E5ECF6",
            "gridcolor": "white",
            "gridwidth": 2,
            "linecolor": "white",
            "showbackground": true,
            "ticks": "",
            "zerolinecolor": "white"
           },
           "yaxis": {
            "backgroundcolor": "#E5ECF6",
            "gridcolor": "white",
            "gridwidth": 2,
            "linecolor": "white",
            "showbackground": true,
            "ticks": "",
            "zerolinecolor": "white"
           },
           "zaxis": {
            "backgroundcolor": "#E5ECF6",
            "gridcolor": "white",
            "gridwidth": 2,
            "linecolor": "white",
            "showbackground": true,
            "ticks": "",
            "zerolinecolor": "white"
           }
          },
          "shapedefaults": {
           "line": {
            "color": "#2a3f5f"
           }
          },
          "ternary": {
           "aaxis": {
            "gridcolor": "white",
            "linecolor": "white",
            "ticks": ""
           },
           "baxis": {
            "gridcolor": "white",
            "linecolor": "white",
            "ticks": ""
           },
           "bgcolor": "#E5ECF6",
           "caxis": {
            "gridcolor": "white",
            "linecolor": "white",
            "ticks": ""
           }
          },
          "title": {
           "x": 0.05
          },
          "xaxis": {
           "automargin": true,
           "gridcolor": "white",
           "linecolor": "white",
           "ticks": "",
           "title": {
            "standoff": 15
           },
           "zerolinecolor": "white",
           "zerolinewidth": 2
          },
          "yaxis": {
           "automargin": true,
           "gridcolor": "white",
           "linecolor": "white",
           "ticks": "",
           "title": {
            "standoff": 15
           },
           "zerolinecolor": "white",
           "zerolinewidth": 2
          }
         }
        },
        "xaxis": {
         "title": {
          "text": "Cout"
         }
        },
        "yaxis": {
         "title": {
          "text": "Densité de probabilité"
         }
        }
       }
      }
     },
     "metadata": {},
     "output_type": "display_data"
    }
   ],
   "source": [
    "# Loi du coût \n",
    "param = 0.15\n",
    "dens_cout = lambda x : param*np.exp(-param*x)\n",
    "pts_couts = np.linspace(0,200,100)\n",
    "\n",
    "\n",
    "fig_distribution_cout = go.Figure()\n",
    "fig_distribution_cout.add_trace(go.Histogram(\n",
    "    x=df_cout_red['Cout'],\n",
    "    histnorm='probability',\n",
    "    name='Estimation de la densité de la loi cout', \n",
    "    xbins=dict( # bins \n",
    "        start=0.0,\n",
    "        end=200.0,\n",
    "        size=10\n",
    "    ),\n",
    "    marker_color='#8993EB',\n",
    "    opacity=0.75\n",
    "))\n",
    "fig_distribution_cout.add_trace(go.Scatter(\n",
    "    x=pts_couts, \n",
    "    y=dens_cout(pts_couts), \n",
    "    name='Loi exponentielle de paramètre 0.15',\n",
    "    mode='lines',\n",
    "))\n",
    "fig_distribution_cout.update_layout(\n",
    "    xaxis_title=\"Cout\",\n",
    "    yaxis_title=\"Densité de probabilité\"\n",
    ")\n",
    "fig_distribution_cout.show()"
   ]
  },
  {
   "cell_type": "code",
   "execution_count": 302,
   "metadata": {},
   "outputs": [
    {
     "data": {
      "application/vnd.plotly.v1+json": {
       "config": {
        "plotlyServerURL": "https://plot.ly"
       },
       "data": [
        {
         "histnorm": "probability",
         "marker": {
          "color": "#8993EB"
         },
         "name": "Estimation de la densité de la loi durée",
         "opacity": 0.75,
         "type": "histogram",
         "x": [
          25416.65,
          8832.859999999999,
          23866.93,
          6115.1,
          7.36,
          25874.92,
          20625.9,
          8334.68,
          30752.18,
          1062.61,
          26530.29,
          5474.55,
          137.86,
          6283.74,
          8252.869999999999,
          5242.19,
          26263.75,
          21650.71,
          23946.36,
          18669.85,
          15607.7,
          12672.97,
          1092.22,
          19852.58,
          4412.37,
          3871.01,
          27898.08,
          25408.36,
          762.37,
          15414.77,
          15813.949999999999,
          34173.939999999995,
          42388.33,
          1914.07,
          6290.780000000001,
          1076.1399999999999,
          17845.28,
          12448.3,
          27919.629999999997,
          28107.269999999997,
          7723.129999999999,
          23433.32,
          15358.27,
          13195.669999999998,
          16650.079999999998,
          16069.51,
          24482.88,
          23339.41,
          6260.379999999999,
          5112.12,
          11590.81,
          13533.34,
          21880.73,
          17030.21,
          572.71,
          74.00999999999999,
          6403.31,
          22595.83,
          7285.97,
          22439.16,
          21687.47,
          19947.059999999998,
          15522.89,
          152.38,
          31891.8,
          26687.66,
          6302.349999999999,
          21936.18,
          24846.91,
          27070.119999999995,
          8674.609999999999,
          6076.24,
          30983.129999999997,
          32348.489999999998,
          9676.79,
          10739.509999999998,
          33392.35,
          21245.65,
          23745.01,
          243.08,
          18822.010000000002,
          21146.6,
          2156.53,
          11423.769999999999,
          16855.34,
          3601.97,
          30989.59,
          19884.68,
          20736.92,
          22062.09,
          821.95,
          17900.8,
          1326.98,
          10185.25,
          16698.01,
          13924.98,
          22653.42,
          11101.46,
          28023.67,
          27855.379999999997,
          19675.66,
          36391.65,
          4038.68,
          20284.17,
          33889.759999999995,
          17564.64,
          3255.75,
          3554.99,
          9957.36,
          37252.11,
          2565.33,
          5406.46,
          9832.64,
          20750.77,
          8345.39,
          2740.35,
          27979.2,
          27979.2,
          4006.98,
          4383.9800000000005,
          4807.43,
          23902.489999999998,
          14074.329999999998,
          24815.78,
          6426.13,
          2603.75,
          2041.66,
          887.05,
          13699.16,
          35045.93,
          11088.43,
          10575.47,
          48797.76999999999,
          36198.25,
          20211.489999999998,
          15845.380000000001,
          10775.279999999999,
          20320.28,
          17274.14,
          4296.2,
          566.76,
          21341.760000000002,
          23523.440000000002,
          341.31,
          2410.79,
          30077.72,
          760.27,
          122.12,
          6222.68,
          25011.97,
          23061.7,
          15187.74,
          926.53,
          1062.17,
          10830.67,
          25949.84,
          3145.95,
          29589.71,
          25639.989999999998,
          10546.42,
          33975.270000000004,
          832.4799999999999,
          25395.77,
          33425.78,
          5555.48,
          30545.269999999997,
          19482.48,
          18369.91,
          26019.61,
          26200.97,
          32928.7,
          706.5600000000001,
          2732.88,
          7237.41,
          141.12,
          6322.01,
          2976.45,
          27215.440000000002,
          26107.11,
          2231.96,
          5838.1900000000005,
          29079.22,
          10302.64,
          3480.41,
          28736.59,
          19635.48,
          31743.339999999997,
          21799.34,
          15099.869999999999,
          7687.6900000000005,
          18093.46,
          30485.82,
          10401.32,
          22661.21,
          156.73,
          2397.44,
          1098.8,
          828.2299999999999,
          3712.76,
          4417.84,
          14754.810000000001,
          13112.079999999998,
          18207.519999999997,
          3739.8199999999997,
          26009.79,
          29642.32,
          28126.690000000002,
          548.74,
          13699.630000000001,
          18985.82,
          16294.869999999999,
          6295.87,
          32036.98,
          63636.36,
          5552.48,
          4036.62,
          991.22,
          34357.23,
          1803.85,
          35676.67,
          6002.82,
          34326.2,
          34299.29,
          16195.429999999998,
          1462.6,
          22468.87,
          5978.2,
          5122.78,
          33325.41,
          24502.29,
          10669.669999999998,
          3.15,
          26627.73,
          20494.56,
          5825.92,
          25227.010000000002,
          10732.07,
          22698.010000000002,
          22017.43,
          5859.77,
          33224.05,
          1636.31,
          1138.9399999999998,
          30022.06,
          22731.07,
          4425.23,
          28478.89,
          19638.159999999996,
          20423.54,
          15763.37,
          26511.25,
          56872.799999999996,
          5129.95,
          13214.93,
          29457.760000000002,
          917.19,
          1107.33,
          25787.620000000003,
          22700.940000000002,
          1517.2199999999998,
          13877.05,
          32766.72,
          32766.72,
          7269.67,
          15470.68,
          80846.12,
          1921.19,
          7501.78,
          36103.880000000005,
          37438.16,
          36226.65,
          12963.220000000001,
          27958.1,
          20304.55,
          26168.47,
          5798.58,
          6360.02,
          9111.869999999999,
          9455.41,
          6255.08,
          1134.07,
          49124.85,
          598.0999999999999,
          18097.92,
          28996.54,
          7475.120000000001,
          5079.18,
          21160.79,
          3249.18,
          33458.3,
          23394.800000000003,
          4789.719999999999,
          34819.53,
          30896.14,
          23776.43,
          11636.59,
          41248.76999999999,
          14057.73,
          30083.6,
          793.3199999999999,
          40149.35,
          22133.64,
          4473.13,
          181.8,
          24938.19,
          615.77,
          17447.34,
          19886.010000000002,
          6185.97,
          3303.67,
          32691.089999999997,
          6705.389999999999,
          7032.08,
          5273.64,
          3485.38,
          32972.509999999995,
          29488.58,
          764,
          28831.199999999997,
          7882.04,
          6867.790000000001,
          10406.669999999998,
          12524,
          20192.93,
          3201.1400000000003,
          13973.69,
          30391.010000000002,
          1130.1,
          22438.33,
          14938.26,
          30556.14,
          1608.92,
          472.20000000000005,
          38287.509999999995,
          27707.65,
          5189.6,
          10068.759999999998,
          33370.51,
          330.23,
          18745.46,
          701.2099999999998,
          21140.659999999996,
          25680.99,
          13811.900000000001,
          10829.65,
          14112.84,
          34710.72,
          21320.489999999998,
          864.27,
          34223.53,
          35943.75,
          14142.939999999999,
          7389.79,
          16920.75,
          26075.1,
          2296.09,
          33332.43,
          23090.059999999998,
          9309.720000000001,
          35236.2,
          35313.47,
          15868.21,
          24766.64,
          16939.379999999997,
          22761.93,
          33389.17,
          1877.6799999999998,
          16893.019999999997,
          850.7099999999999,
          210.94,
          44436.42,
          41109.66,
          1463.24,
          25949.32,
          4.04,
          8438.82,
          21966.66,
          32010.239999999998,
          23683.07,
          21536.57,
          9726.73,
          4129.4,
          19540.739999999998,
          8074.65,
          3532.51,
          12972.8,
          23278.120000000003,
          16660.87,
          301.87,
          145.3,
          32508.73,
          39551.89,
          0,
          3004.42,
          3853.83,
          19226.12,
          15875.55,
          19605.31,
          20249.39,
          15228.88,
          33196.100000000006,
          16840.739999999998,
          32202.68,
          24109.1,
          869.79,
          14552.8,
          25516.65,
          3735.26,
          28536.64,
          37039.04,
          5469.16,
          30311.6,
          4795.13,
          23204.89,
          2290.33,
          7805.26,
          18699.83,
          2585.38,
          17736.57,
          32117.149999999998,
          13907.169999999998,
          5470.83,
          0,
          13282.21,
          13025.759999999998,
          21156.82,
          12592.34,
          384.82000000000005,
          9425.619999999999,
          33215.770000000004,
          29564.68,
          12161.82,
          10165.369999999999,
          28334.739999999998,
          28165.61,
          137.07999999999998,
          52665.78,
          30394.67,
          33833.7,
          19833.559999999998,
          31370.469999999998,
          28675.629999999997,
          24813.98,
          23280.68,
          28280.7,
          13927.71,
          28584.71,
          32218.239999999998,
          13303.630000000001,
          9505.74,
          33125.48,
          10286.56,
          21114.54,
          52663.3,
          2896.7,
          14555.519999999999,
          4678.28,
          32174.31,
          3897.3199999999997,
          3888.9300000000003,
          8561.81
         ],
         "xbins": {
          "end": 80000,
          "size": 1000,
          "start": 0
         }
        }
       ],
       "layout": {
        "template": {
         "data": {
          "bar": [
           {
            "error_x": {
             "color": "#2a3f5f"
            },
            "error_y": {
             "color": "#2a3f5f"
            },
            "marker": {
             "line": {
              "color": "#E5ECF6",
              "width": 0.5
             },
             "pattern": {
              "fillmode": "overlay",
              "size": 10,
              "solidity": 0.2
             }
            },
            "type": "bar"
           }
          ],
          "barpolar": [
           {
            "marker": {
             "line": {
              "color": "#E5ECF6",
              "width": 0.5
             },
             "pattern": {
              "fillmode": "overlay",
              "size": 10,
              "solidity": 0.2
             }
            },
            "type": "barpolar"
           }
          ],
          "carpet": [
           {
            "aaxis": {
             "endlinecolor": "#2a3f5f",
             "gridcolor": "white",
             "linecolor": "white",
             "minorgridcolor": "white",
             "startlinecolor": "#2a3f5f"
            },
            "baxis": {
             "endlinecolor": "#2a3f5f",
             "gridcolor": "white",
             "linecolor": "white",
             "minorgridcolor": "white",
             "startlinecolor": "#2a3f5f"
            },
            "type": "carpet"
           }
          ],
          "choropleth": [
           {
            "colorbar": {
             "outlinewidth": 0,
             "ticks": ""
            },
            "type": "choropleth"
           }
          ],
          "contour": [
           {
            "colorbar": {
             "outlinewidth": 0,
             "ticks": ""
            },
            "colorscale": [
             [
              0,
              "#0d0887"
             ],
             [
              0.1111111111111111,
              "#46039f"
             ],
             [
              0.2222222222222222,
              "#7201a8"
             ],
             [
              0.3333333333333333,
              "#9c179e"
             ],
             [
              0.4444444444444444,
              "#bd3786"
             ],
             [
              0.5555555555555556,
              "#d8576b"
             ],
             [
              0.6666666666666666,
              "#ed7953"
             ],
             [
              0.7777777777777778,
              "#fb9f3a"
             ],
             [
              0.8888888888888888,
              "#fdca26"
             ],
             [
              1,
              "#f0f921"
             ]
            ],
            "type": "contour"
           }
          ],
          "contourcarpet": [
           {
            "colorbar": {
             "outlinewidth": 0,
             "ticks": ""
            },
            "type": "contourcarpet"
           }
          ],
          "heatmap": [
           {
            "colorbar": {
             "outlinewidth": 0,
             "ticks": ""
            },
            "colorscale": [
             [
              0,
              "#0d0887"
             ],
             [
              0.1111111111111111,
              "#46039f"
             ],
             [
              0.2222222222222222,
              "#7201a8"
             ],
             [
              0.3333333333333333,
              "#9c179e"
             ],
             [
              0.4444444444444444,
              "#bd3786"
             ],
             [
              0.5555555555555556,
              "#d8576b"
             ],
             [
              0.6666666666666666,
              "#ed7953"
             ],
             [
              0.7777777777777778,
              "#fb9f3a"
             ],
             [
              0.8888888888888888,
              "#fdca26"
             ],
             [
              1,
              "#f0f921"
             ]
            ],
            "type": "heatmap"
           }
          ],
          "heatmapgl": [
           {
            "colorbar": {
             "outlinewidth": 0,
             "ticks": ""
            },
            "colorscale": [
             [
              0,
              "#0d0887"
             ],
             [
              0.1111111111111111,
              "#46039f"
             ],
             [
              0.2222222222222222,
              "#7201a8"
             ],
             [
              0.3333333333333333,
              "#9c179e"
             ],
             [
              0.4444444444444444,
              "#bd3786"
             ],
             [
              0.5555555555555556,
              "#d8576b"
             ],
             [
              0.6666666666666666,
              "#ed7953"
             ],
             [
              0.7777777777777778,
              "#fb9f3a"
             ],
             [
              0.8888888888888888,
              "#fdca26"
             ],
             [
              1,
              "#f0f921"
             ]
            ],
            "type": "heatmapgl"
           }
          ],
          "histogram": [
           {
            "marker": {
             "pattern": {
              "fillmode": "overlay",
              "size": 10,
              "solidity": 0.2
             }
            },
            "type": "histogram"
           }
          ],
          "histogram2d": [
           {
            "colorbar": {
             "outlinewidth": 0,
             "ticks": ""
            },
            "colorscale": [
             [
              0,
              "#0d0887"
             ],
             [
              0.1111111111111111,
              "#46039f"
             ],
             [
              0.2222222222222222,
              "#7201a8"
             ],
             [
              0.3333333333333333,
              "#9c179e"
             ],
             [
              0.4444444444444444,
              "#bd3786"
             ],
             [
              0.5555555555555556,
              "#d8576b"
             ],
             [
              0.6666666666666666,
              "#ed7953"
             ],
             [
              0.7777777777777778,
              "#fb9f3a"
             ],
             [
              0.8888888888888888,
              "#fdca26"
             ],
             [
              1,
              "#f0f921"
             ]
            ],
            "type": "histogram2d"
           }
          ],
          "histogram2dcontour": [
           {
            "colorbar": {
             "outlinewidth": 0,
             "ticks": ""
            },
            "colorscale": [
             [
              0,
              "#0d0887"
             ],
             [
              0.1111111111111111,
              "#46039f"
             ],
             [
              0.2222222222222222,
              "#7201a8"
             ],
             [
              0.3333333333333333,
              "#9c179e"
             ],
             [
              0.4444444444444444,
              "#bd3786"
             ],
             [
              0.5555555555555556,
              "#d8576b"
             ],
             [
              0.6666666666666666,
              "#ed7953"
             ],
             [
              0.7777777777777778,
              "#fb9f3a"
             ],
             [
              0.8888888888888888,
              "#fdca26"
             ],
             [
              1,
              "#f0f921"
             ]
            ],
            "type": "histogram2dcontour"
           }
          ],
          "mesh3d": [
           {
            "colorbar": {
             "outlinewidth": 0,
             "ticks": ""
            },
            "type": "mesh3d"
           }
          ],
          "parcoords": [
           {
            "line": {
             "colorbar": {
              "outlinewidth": 0,
              "ticks": ""
             }
            },
            "type": "parcoords"
           }
          ],
          "pie": [
           {
            "automargin": true,
            "type": "pie"
           }
          ],
          "scatter": [
           {
            "marker": {
             "colorbar": {
              "outlinewidth": 0,
              "ticks": ""
             }
            },
            "type": "scatter"
           }
          ],
          "scatter3d": [
           {
            "line": {
             "colorbar": {
              "outlinewidth": 0,
              "ticks": ""
             }
            },
            "marker": {
             "colorbar": {
              "outlinewidth": 0,
              "ticks": ""
             }
            },
            "type": "scatter3d"
           }
          ],
          "scattercarpet": [
           {
            "marker": {
             "colorbar": {
              "outlinewidth": 0,
              "ticks": ""
             }
            },
            "type": "scattercarpet"
           }
          ],
          "scattergeo": [
           {
            "marker": {
             "colorbar": {
              "outlinewidth": 0,
              "ticks": ""
             }
            },
            "type": "scattergeo"
           }
          ],
          "scattergl": [
           {
            "marker": {
             "colorbar": {
              "outlinewidth": 0,
              "ticks": ""
             }
            },
            "type": "scattergl"
           }
          ],
          "scattermapbox": [
           {
            "marker": {
             "colorbar": {
              "outlinewidth": 0,
              "ticks": ""
             }
            },
            "type": "scattermapbox"
           }
          ],
          "scatterpolar": [
           {
            "marker": {
             "colorbar": {
              "outlinewidth": 0,
              "ticks": ""
             }
            },
            "type": "scatterpolar"
           }
          ],
          "scatterpolargl": [
           {
            "marker": {
             "colorbar": {
              "outlinewidth": 0,
              "ticks": ""
             }
            },
            "type": "scatterpolargl"
           }
          ],
          "scatterternary": [
           {
            "marker": {
             "colorbar": {
              "outlinewidth": 0,
              "ticks": ""
             }
            },
            "type": "scatterternary"
           }
          ],
          "surface": [
           {
            "colorbar": {
             "outlinewidth": 0,
             "ticks": ""
            },
            "colorscale": [
             [
              0,
              "#0d0887"
             ],
             [
              0.1111111111111111,
              "#46039f"
             ],
             [
              0.2222222222222222,
              "#7201a8"
             ],
             [
              0.3333333333333333,
              "#9c179e"
             ],
             [
              0.4444444444444444,
              "#bd3786"
             ],
             [
              0.5555555555555556,
              "#d8576b"
             ],
             [
              0.6666666666666666,
              "#ed7953"
             ],
             [
              0.7777777777777778,
              "#fb9f3a"
             ],
             [
              0.8888888888888888,
              "#fdca26"
             ],
             [
              1,
              "#f0f921"
             ]
            ],
            "type": "surface"
           }
          ],
          "table": [
           {
            "cells": {
             "fill": {
              "color": "#EBF0F8"
             },
             "line": {
              "color": "white"
             }
            },
            "header": {
             "fill": {
              "color": "#C8D4E3"
             },
             "line": {
              "color": "white"
             }
            },
            "type": "table"
           }
          ]
         },
         "layout": {
          "annotationdefaults": {
           "arrowcolor": "#2a3f5f",
           "arrowhead": 0,
           "arrowwidth": 1
          },
          "autotypenumbers": "strict",
          "coloraxis": {
           "colorbar": {
            "outlinewidth": 0,
            "ticks": ""
           }
          },
          "colorscale": {
           "diverging": [
            [
             0,
             "#8e0152"
            ],
            [
             0.1,
             "#c51b7d"
            ],
            [
             0.2,
             "#de77ae"
            ],
            [
             0.3,
             "#f1b6da"
            ],
            [
             0.4,
             "#fde0ef"
            ],
            [
             0.5,
             "#f7f7f7"
            ],
            [
             0.6,
             "#e6f5d0"
            ],
            [
             0.7,
             "#b8e186"
            ],
            [
             0.8,
             "#7fbc41"
            ],
            [
             0.9,
             "#4d9221"
            ],
            [
             1,
             "#276419"
            ]
           ],
           "sequential": [
            [
             0,
             "#0d0887"
            ],
            [
             0.1111111111111111,
             "#46039f"
            ],
            [
             0.2222222222222222,
             "#7201a8"
            ],
            [
             0.3333333333333333,
             "#9c179e"
            ],
            [
             0.4444444444444444,
             "#bd3786"
            ],
            [
             0.5555555555555556,
             "#d8576b"
            ],
            [
             0.6666666666666666,
             "#ed7953"
            ],
            [
             0.7777777777777778,
             "#fb9f3a"
            ],
            [
             0.8888888888888888,
             "#fdca26"
            ],
            [
             1,
             "#f0f921"
            ]
           ],
           "sequentialminus": [
            [
             0,
             "#0d0887"
            ],
            [
             0.1111111111111111,
             "#46039f"
            ],
            [
             0.2222222222222222,
             "#7201a8"
            ],
            [
             0.3333333333333333,
             "#9c179e"
            ],
            [
             0.4444444444444444,
             "#bd3786"
            ],
            [
             0.5555555555555556,
             "#d8576b"
            ],
            [
             0.6666666666666666,
             "#ed7953"
            ],
            [
             0.7777777777777778,
             "#fb9f3a"
            ],
            [
             0.8888888888888888,
             "#fdca26"
            ],
            [
             1,
             "#f0f921"
            ]
           ]
          },
          "colorway": [
           "#636efa",
           "#EF553B",
           "#00cc96",
           "#ab63fa",
           "#FFA15A",
           "#19d3f3",
           "#FF6692",
           "#B6E880",
           "#FF97FF",
           "#FECB52"
          ],
          "font": {
           "color": "#2a3f5f"
          },
          "geo": {
           "bgcolor": "white",
           "lakecolor": "white",
           "landcolor": "#E5ECF6",
           "showlakes": true,
           "showland": true,
           "subunitcolor": "white"
          },
          "hoverlabel": {
           "align": "left"
          },
          "hovermode": "closest",
          "mapbox": {
           "style": "light"
          },
          "paper_bgcolor": "white",
          "plot_bgcolor": "#E5ECF6",
          "polar": {
           "angularaxis": {
            "gridcolor": "white",
            "linecolor": "white",
            "ticks": ""
           },
           "bgcolor": "#E5ECF6",
           "radialaxis": {
            "gridcolor": "white",
            "linecolor": "white",
            "ticks": ""
           }
          },
          "scene": {
           "xaxis": {
            "backgroundcolor": "#E5ECF6",
            "gridcolor": "white",
            "gridwidth": 2,
            "linecolor": "white",
            "showbackground": true,
            "ticks": "",
            "zerolinecolor": "white"
           },
           "yaxis": {
            "backgroundcolor": "#E5ECF6",
            "gridcolor": "white",
            "gridwidth": 2,
            "linecolor": "white",
            "showbackground": true,
            "ticks": "",
            "zerolinecolor": "white"
           },
           "zaxis": {
            "backgroundcolor": "#E5ECF6",
            "gridcolor": "white",
            "gridwidth": 2,
            "linecolor": "white",
            "showbackground": true,
            "ticks": "",
            "zerolinecolor": "white"
           }
          },
          "shapedefaults": {
           "line": {
            "color": "#2a3f5f"
           }
          },
          "ternary": {
           "aaxis": {
            "gridcolor": "white",
            "linecolor": "white",
            "ticks": ""
           },
           "baxis": {
            "gridcolor": "white",
            "linecolor": "white",
            "ticks": ""
           },
           "bgcolor": "#E5ECF6",
           "caxis": {
            "gridcolor": "white",
            "linecolor": "white",
            "ticks": ""
           }
          },
          "title": {
           "x": 0.05
          },
          "xaxis": {
           "automargin": true,
           "gridcolor": "white",
           "linecolor": "white",
           "ticks": "",
           "title": {
            "standoff": 15
           },
           "zerolinecolor": "white",
           "zerolinewidth": 2
          },
          "yaxis": {
           "automargin": true,
           "gridcolor": "white",
           "linecolor": "white",
           "ticks": "",
           "title": {
            "standoff": 15
           },
           "zerolinecolor": "white",
           "zerolinewidth": 2
          }
         }
        },
        "xaxis": {
         "title": {
          "text": "Durée"
         }
        },
        "yaxis": {
         "title": {
          "text": "Densité de probabilité"
         }
        }
       }
      }
     },
     "metadata": {},
     "output_type": "display_data"
    }
   ],
   "source": [
    "# Loi de la durée\n",
    "\n",
    "fig_distribution_duree = go.Figure()\n",
    "fig_distribution_duree.add_trace(go.Histogram(\n",
    "    x=facteurs['D1']+facteurs['D2'],\n",
    "    histnorm='probability',\n",
    "    name='Estimation de la densité de la loi durée', \n",
    "    xbins=dict( # bins \n",
    "        start=0.0,\n",
    "        end=80000.0,\n",
    "        size=1000\n",
    "    ),\n",
    "    marker_color='#8993EB',\n",
    "    opacity=0.75\n",
    "))\n",
    "fig_distribution_duree.update_layout(\n",
    "    xaxis_title=\"Durée\",\n",
    "    yaxis_title=\"Densité de probabilité\"\n",
    ")\n",
    "fig_distribution_duree.show()"
   ]
  },
  {
   "cell_type": "markdown",
   "metadata": {},
   "source": [
    "#### 3.1 Identification des tendances"
   ]
  },
  {
   "cell_type": "code",
   "execution_count": 303,
   "metadata": {},
   "outputs": [],
   "source": [
    "# Comptage \n",
    "\n",
    "occurrences = np.zeros(15)\n",
    "cout_rep = np.zeros(15)\n",
    "\n",
    "for i in range(df_facteurs_red.shape[0]):\n",
    "    for j in range(15):\n",
    "        comp_def = df_facteurs_red.iloc[i,j+5]\n",
    "        if (comp_def == 1):\n",
    "            occurrences[j] += comp_def\n",
    "            cout_rep[j] += get_cout(df_facteurs_red.iloc[i,0], df_facteurs_red.iloc[i,4])\n"
   ]
  },
  {
   "cell_type": "code",
   "execution_count": 304,
   "metadata": {},
   "outputs": [
    {
     "data": {
      "application/vnd.plotly.v1+json": {
       "config": {
        "plotlyServerURL": "https://plot.ly"
       },
       "data": [
        {
         "marker": {
          "color": "rgba(122, 169, 168, 0.8)",
          "line": {
           "color": "rgba(122, 169, 168, 1.)",
           "width": 3
          }
         },
         "name": "Occurences",
         "orientation": "h",
         "text": [
          0,
          1,
          3,
          4,
          5,
          6,
          6,
          7,
          8,
          11,
          13,
          22,
          25,
          35,
          35
         ],
         "textposition": "outside",
         "type": "bar",
         "x": [
          0,
          1,
          3,
          4,
          5,
          6,
          6,
          7,
          8,
          11,
          13,
          22,
          25,
          35,
          35
         ],
         "y": [
          "X12",
          "X8",
          "X11",
          "X13",
          "X3",
          "X5",
          "X10",
          "X15",
          "X9",
          "X2",
          "X7",
          "X14",
          "X1",
          "X4",
          "X6"
         ]
        }
       ],
       "layout": {
        "barmode": "stack",
        "template": {
         "data": {
          "bar": [
           {
            "error_x": {
             "color": "#2a3f5f"
            },
            "error_y": {
             "color": "#2a3f5f"
            },
            "marker": {
             "line": {
              "color": "#E5ECF6",
              "width": 0.5
             },
             "pattern": {
              "fillmode": "overlay",
              "size": 10,
              "solidity": 0.2
             }
            },
            "type": "bar"
           }
          ],
          "barpolar": [
           {
            "marker": {
             "line": {
              "color": "#E5ECF6",
              "width": 0.5
             },
             "pattern": {
              "fillmode": "overlay",
              "size": 10,
              "solidity": 0.2
             }
            },
            "type": "barpolar"
           }
          ],
          "carpet": [
           {
            "aaxis": {
             "endlinecolor": "#2a3f5f",
             "gridcolor": "white",
             "linecolor": "white",
             "minorgridcolor": "white",
             "startlinecolor": "#2a3f5f"
            },
            "baxis": {
             "endlinecolor": "#2a3f5f",
             "gridcolor": "white",
             "linecolor": "white",
             "minorgridcolor": "white",
             "startlinecolor": "#2a3f5f"
            },
            "type": "carpet"
           }
          ],
          "choropleth": [
           {
            "colorbar": {
             "outlinewidth": 0,
             "ticks": ""
            },
            "type": "choropleth"
           }
          ],
          "contour": [
           {
            "colorbar": {
             "outlinewidth": 0,
             "ticks": ""
            },
            "colorscale": [
             [
              0,
              "#0d0887"
             ],
             [
              0.1111111111111111,
              "#46039f"
             ],
             [
              0.2222222222222222,
              "#7201a8"
             ],
             [
              0.3333333333333333,
              "#9c179e"
             ],
             [
              0.4444444444444444,
              "#bd3786"
             ],
             [
              0.5555555555555556,
              "#d8576b"
             ],
             [
              0.6666666666666666,
              "#ed7953"
             ],
             [
              0.7777777777777778,
              "#fb9f3a"
             ],
             [
              0.8888888888888888,
              "#fdca26"
             ],
             [
              1,
              "#f0f921"
             ]
            ],
            "type": "contour"
           }
          ],
          "contourcarpet": [
           {
            "colorbar": {
             "outlinewidth": 0,
             "ticks": ""
            },
            "type": "contourcarpet"
           }
          ],
          "heatmap": [
           {
            "colorbar": {
             "outlinewidth": 0,
             "ticks": ""
            },
            "colorscale": [
             [
              0,
              "#0d0887"
             ],
             [
              0.1111111111111111,
              "#46039f"
             ],
             [
              0.2222222222222222,
              "#7201a8"
             ],
             [
              0.3333333333333333,
              "#9c179e"
             ],
             [
              0.4444444444444444,
              "#bd3786"
             ],
             [
              0.5555555555555556,
              "#d8576b"
             ],
             [
              0.6666666666666666,
              "#ed7953"
             ],
             [
              0.7777777777777778,
              "#fb9f3a"
             ],
             [
              0.8888888888888888,
              "#fdca26"
             ],
             [
              1,
              "#f0f921"
             ]
            ],
            "type": "heatmap"
           }
          ],
          "heatmapgl": [
           {
            "colorbar": {
             "outlinewidth": 0,
             "ticks": ""
            },
            "colorscale": [
             [
              0,
              "#0d0887"
             ],
             [
              0.1111111111111111,
              "#46039f"
             ],
             [
              0.2222222222222222,
              "#7201a8"
             ],
             [
              0.3333333333333333,
              "#9c179e"
             ],
             [
              0.4444444444444444,
              "#bd3786"
             ],
             [
              0.5555555555555556,
              "#d8576b"
             ],
             [
              0.6666666666666666,
              "#ed7953"
             ],
             [
              0.7777777777777778,
              "#fb9f3a"
             ],
             [
              0.8888888888888888,
              "#fdca26"
             ],
             [
              1,
              "#f0f921"
             ]
            ],
            "type": "heatmapgl"
           }
          ],
          "histogram": [
           {
            "marker": {
             "pattern": {
              "fillmode": "overlay",
              "size": 10,
              "solidity": 0.2
             }
            },
            "type": "histogram"
           }
          ],
          "histogram2d": [
           {
            "colorbar": {
             "outlinewidth": 0,
             "ticks": ""
            },
            "colorscale": [
             [
              0,
              "#0d0887"
             ],
             [
              0.1111111111111111,
              "#46039f"
             ],
             [
              0.2222222222222222,
              "#7201a8"
             ],
             [
              0.3333333333333333,
              "#9c179e"
             ],
             [
              0.4444444444444444,
              "#bd3786"
             ],
             [
              0.5555555555555556,
              "#d8576b"
             ],
             [
              0.6666666666666666,
              "#ed7953"
             ],
             [
              0.7777777777777778,
              "#fb9f3a"
             ],
             [
              0.8888888888888888,
              "#fdca26"
             ],
             [
              1,
              "#f0f921"
             ]
            ],
            "type": "histogram2d"
           }
          ],
          "histogram2dcontour": [
           {
            "colorbar": {
             "outlinewidth": 0,
             "ticks": ""
            },
            "colorscale": [
             [
              0,
              "#0d0887"
             ],
             [
              0.1111111111111111,
              "#46039f"
             ],
             [
              0.2222222222222222,
              "#7201a8"
             ],
             [
              0.3333333333333333,
              "#9c179e"
             ],
             [
              0.4444444444444444,
              "#bd3786"
             ],
             [
              0.5555555555555556,
              "#d8576b"
             ],
             [
              0.6666666666666666,
              "#ed7953"
             ],
             [
              0.7777777777777778,
              "#fb9f3a"
             ],
             [
              0.8888888888888888,
              "#fdca26"
             ],
             [
              1,
              "#f0f921"
             ]
            ],
            "type": "histogram2dcontour"
           }
          ],
          "mesh3d": [
           {
            "colorbar": {
             "outlinewidth": 0,
             "ticks": ""
            },
            "type": "mesh3d"
           }
          ],
          "parcoords": [
           {
            "line": {
             "colorbar": {
              "outlinewidth": 0,
              "ticks": ""
             }
            },
            "type": "parcoords"
           }
          ],
          "pie": [
           {
            "automargin": true,
            "type": "pie"
           }
          ],
          "scatter": [
           {
            "marker": {
             "colorbar": {
              "outlinewidth": 0,
              "ticks": ""
             }
            },
            "type": "scatter"
           }
          ],
          "scatter3d": [
           {
            "line": {
             "colorbar": {
              "outlinewidth": 0,
              "ticks": ""
             }
            },
            "marker": {
             "colorbar": {
              "outlinewidth": 0,
              "ticks": ""
             }
            },
            "type": "scatter3d"
           }
          ],
          "scattercarpet": [
           {
            "marker": {
             "colorbar": {
              "outlinewidth": 0,
              "ticks": ""
             }
            },
            "type": "scattercarpet"
           }
          ],
          "scattergeo": [
           {
            "marker": {
             "colorbar": {
              "outlinewidth": 0,
              "ticks": ""
             }
            },
            "type": "scattergeo"
           }
          ],
          "scattergl": [
           {
            "marker": {
             "colorbar": {
              "outlinewidth": 0,
              "ticks": ""
             }
            },
            "type": "scattergl"
           }
          ],
          "scattermapbox": [
           {
            "marker": {
             "colorbar": {
              "outlinewidth": 0,
              "ticks": ""
             }
            },
            "type": "scattermapbox"
           }
          ],
          "scatterpolar": [
           {
            "marker": {
             "colorbar": {
              "outlinewidth": 0,
              "ticks": ""
             }
            },
            "type": "scatterpolar"
           }
          ],
          "scatterpolargl": [
           {
            "marker": {
             "colorbar": {
              "outlinewidth": 0,
              "ticks": ""
             }
            },
            "type": "scatterpolargl"
           }
          ],
          "scatterternary": [
           {
            "marker": {
             "colorbar": {
              "outlinewidth": 0,
              "ticks": ""
             }
            },
            "type": "scatterternary"
           }
          ],
          "surface": [
           {
            "colorbar": {
             "outlinewidth": 0,
             "ticks": ""
            },
            "colorscale": [
             [
              0,
              "#0d0887"
             ],
             [
              0.1111111111111111,
              "#46039f"
             ],
             [
              0.2222222222222222,
              "#7201a8"
             ],
             [
              0.3333333333333333,
              "#9c179e"
             ],
             [
              0.4444444444444444,
              "#bd3786"
             ],
             [
              0.5555555555555556,
              "#d8576b"
             ],
             [
              0.6666666666666666,
              "#ed7953"
             ],
             [
              0.7777777777777778,
              "#fb9f3a"
             ],
             [
              0.8888888888888888,
              "#fdca26"
             ],
             [
              1,
              "#f0f921"
             ]
            ],
            "type": "surface"
           }
          ],
          "table": [
           {
            "cells": {
             "fill": {
              "color": "#EBF0F8"
             },
             "line": {
              "color": "white"
             }
            },
            "header": {
             "fill": {
              "color": "#C8D4E3"
             },
             "line": {
              "color": "white"
             }
            },
            "type": "table"
           }
          ]
         },
         "layout": {
          "annotationdefaults": {
           "arrowcolor": "#2a3f5f",
           "arrowhead": 0,
           "arrowwidth": 1
          },
          "autotypenumbers": "strict",
          "coloraxis": {
           "colorbar": {
            "outlinewidth": 0,
            "ticks": ""
           }
          },
          "colorscale": {
           "diverging": [
            [
             0,
             "#8e0152"
            ],
            [
             0.1,
             "#c51b7d"
            ],
            [
             0.2,
             "#de77ae"
            ],
            [
             0.3,
             "#f1b6da"
            ],
            [
             0.4,
             "#fde0ef"
            ],
            [
             0.5,
             "#f7f7f7"
            ],
            [
             0.6,
             "#e6f5d0"
            ],
            [
             0.7,
             "#b8e186"
            ],
            [
             0.8,
             "#7fbc41"
            ],
            [
             0.9,
             "#4d9221"
            ],
            [
             1,
             "#276419"
            ]
           ],
           "sequential": [
            [
             0,
             "#0d0887"
            ],
            [
             0.1111111111111111,
             "#46039f"
            ],
            [
             0.2222222222222222,
             "#7201a8"
            ],
            [
             0.3333333333333333,
             "#9c179e"
            ],
            [
             0.4444444444444444,
             "#bd3786"
            ],
            [
             0.5555555555555556,
             "#d8576b"
            ],
            [
             0.6666666666666666,
             "#ed7953"
            ],
            [
             0.7777777777777778,
             "#fb9f3a"
            ],
            [
             0.8888888888888888,
             "#fdca26"
            ],
            [
             1,
             "#f0f921"
            ]
           ],
           "sequentialminus": [
            [
             0,
             "#0d0887"
            ],
            [
             0.1111111111111111,
             "#46039f"
            ],
            [
             0.2222222222222222,
             "#7201a8"
            ],
            [
             0.3333333333333333,
             "#9c179e"
            ],
            [
             0.4444444444444444,
             "#bd3786"
            ],
            [
             0.5555555555555556,
             "#d8576b"
            ],
            [
             0.6666666666666666,
             "#ed7953"
            ],
            [
             0.7777777777777778,
             "#fb9f3a"
            ],
            [
             0.8888888888888888,
             "#fdca26"
            ],
            [
             1,
             "#f0f921"
            ]
           ]
          },
          "colorway": [
           "#636efa",
           "#EF553B",
           "#00cc96",
           "#ab63fa",
           "#FFA15A",
           "#19d3f3",
           "#FF6692",
           "#B6E880",
           "#FF97FF",
           "#FECB52"
          ],
          "font": {
           "color": "#2a3f5f"
          },
          "geo": {
           "bgcolor": "white",
           "lakecolor": "white",
           "landcolor": "#E5ECF6",
           "showlakes": true,
           "showland": true,
           "subunitcolor": "white"
          },
          "hoverlabel": {
           "align": "left"
          },
          "hovermode": "closest",
          "mapbox": {
           "style": "light"
          },
          "paper_bgcolor": "white",
          "plot_bgcolor": "#E5ECF6",
          "polar": {
           "angularaxis": {
            "gridcolor": "white",
            "linecolor": "white",
            "ticks": ""
           },
           "bgcolor": "#E5ECF6",
           "radialaxis": {
            "gridcolor": "white",
            "linecolor": "white",
            "ticks": ""
           }
          },
          "scene": {
           "xaxis": {
            "backgroundcolor": "#E5ECF6",
            "gridcolor": "white",
            "gridwidth": 2,
            "linecolor": "white",
            "showbackground": true,
            "ticks": "",
            "zerolinecolor": "white"
           },
           "yaxis": {
            "backgroundcolor": "#E5ECF6",
            "gridcolor": "white",
            "gridwidth": 2,
            "linecolor": "white",
            "showbackground": true,
            "ticks": "",
            "zerolinecolor": "white"
           },
           "zaxis": {
            "backgroundcolor": "#E5ECF6",
            "gridcolor": "white",
            "gridwidth": 2,
            "linecolor": "white",
            "showbackground": true,
            "ticks": "",
            "zerolinecolor": "white"
           }
          },
          "shapedefaults": {
           "line": {
            "color": "#2a3f5f"
           }
          },
          "ternary": {
           "aaxis": {
            "gridcolor": "white",
            "linecolor": "white",
            "ticks": ""
           },
           "baxis": {
            "gridcolor": "white",
            "linecolor": "white",
            "ticks": ""
           },
           "bgcolor": "#E5ECF6",
           "caxis": {
            "gridcolor": "white",
            "linecolor": "white",
            "ticks": ""
           }
          },
          "title": {
           "x": 0.05
          },
          "xaxis": {
           "automargin": true,
           "gridcolor": "white",
           "linecolor": "white",
           "ticks": "",
           "title": {
            "standoff": 15
           },
           "zerolinecolor": "white",
           "zerolinewidth": 2
          },
          "yaxis": {
           "automargin": true,
           "gridcolor": "white",
           "linecolor": "white",
           "ticks": "",
           "title": {
            "standoff": 15
           },
           "zerolinecolor": "white",
           "zerolinewidth": 2
          }
         }
        },
        "xaxis": {
         "title": {
          "text": "Nombre de pannes"
         }
        },
        "yaxis": {
         "title": {
          "text": "Composants"
         }
        }
       }
      }
     },
     "metadata": {},
     "output_type": "display_data"
    }
   ],
   "source": [
    "# Affichage bar plot \n",
    "\n",
    "occurences = occurrences.astype(int)\n",
    "cout_rep = cout_rep.astype(float)\n",
    "donnees_barh = {'Comp' : comp, 'Occ' : occurrences, 'Cout' : cout_rep}\n",
    "df_barh = pd.DataFrame(data=donnees_barh)\n",
    "\n",
    "df_barh_occ = df_barh.sort_values(by=['Occ'])\n",
    "#plt.figure(1,figsize=(10,6))\n",
    "#plt.barh(df_barh_occ['Comp'], df_barh_occ['Occ'])\n",
    "#plt.show()\n",
    "\n",
    "fig = go.Figure()\n",
    "fig.add_trace(go.Bar(\n",
    "    y=df_barh_occ['Comp'],\n",
    "    x=df_barh_occ['Occ'],\n",
    "    text=df_barh_occ['Occ'],\n",
    "    textposition='outside',\n",
    "    name='Occurences',\n",
    "    orientation='h',\n",
    "    marker=dict(\n",
    "        color='rgba(122, 169, 168, 0.8)',\n",
    "        line=dict(color='rgba(122, 169, 168, 1.)', width=3)\n",
    "    )\n",
    "))\n",
    "\n",
    "fig.update_layout(\n",
    "    xaxis_title=\"Nombre de pannes\",\n",
    "    yaxis_title=\"Composants\",\n",
    "    barmode='stack')\n",
    "fig.show()\n",
    "\n"
   ]
  },
  {
   "cell_type": "code",
   "execution_count": 305,
   "metadata": {},
   "outputs": [
    {
     "data": {
      "application/vnd.plotly.v1+json": {
       "config": {
        "plotlyServerURL": "https://plot.ly"
       },
       "data": [
        {
         "marker": {
          "color": "rgba(122, 169, 168, 0.8)",
          "line": {
           "color": "rgba(122, 169, 168, 1.)",
           "width": 3
          }
         },
         "name": "Cout",
         "orientation": "h",
         "text": [
          0,
          71,
          130,
          217,
          414,
          119,
          212,
          249,
          549,
          745,
          381,
          1350,
          1504,
          2025,
          1732
         ],
         "textposition": "outside",
         "type": "bar",
         "x": [
          0,
          71.5,
          130.46,
          217.79999999999998,
          414.03999999999996,
          119.68,
          212.08,
          249.48,
          549.78,
          745.1400000000001,
          381.70000000000005,
          1350.14,
          1504.5800000000002,
          2025.1000000000006,
          1732.7200000000005
         ],
         "y": [
          "X12",
          "X8",
          "X11",
          "X13",
          "X3",
          "X5",
          "X10",
          "X15",
          "X9",
          "X2",
          "X7",
          "X14",
          "X1",
          "X4",
          "X6"
         ]
        }
       ],
       "layout": {
        "barmode": "stack",
        "template": {
         "data": {
          "bar": [
           {
            "error_x": {
             "color": "#2a3f5f"
            },
            "error_y": {
             "color": "#2a3f5f"
            },
            "marker": {
             "line": {
              "color": "#E5ECF6",
              "width": 0.5
             },
             "pattern": {
              "fillmode": "overlay",
              "size": 10,
              "solidity": 0.2
             }
            },
            "type": "bar"
           }
          ],
          "barpolar": [
           {
            "marker": {
             "line": {
              "color": "#E5ECF6",
              "width": 0.5
             },
             "pattern": {
              "fillmode": "overlay",
              "size": 10,
              "solidity": 0.2
             }
            },
            "type": "barpolar"
           }
          ],
          "carpet": [
           {
            "aaxis": {
             "endlinecolor": "#2a3f5f",
             "gridcolor": "white",
             "linecolor": "white",
             "minorgridcolor": "white",
             "startlinecolor": "#2a3f5f"
            },
            "baxis": {
             "endlinecolor": "#2a3f5f",
             "gridcolor": "white",
             "linecolor": "white",
             "minorgridcolor": "white",
             "startlinecolor": "#2a3f5f"
            },
            "type": "carpet"
           }
          ],
          "choropleth": [
           {
            "colorbar": {
             "outlinewidth": 0,
             "ticks": ""
            },
            "type": "choropleth"
           }
          ],
          "contour": [
           {
            "colorbar": {
             "outlinewidth": 0,
             "ticks": ""
            },
            "colorscale": [
             [
              0,
              "#0d0887"
             ],
             [
              0.1111111111111111,
              "#46039f"
             ],
             [
              0.2222222222222222,
              "#7201a8"
             ],
             [
              0.3333333333333333,
              "#9c179e"
             ],
             [
              0.4444444444444444,
              "#bd3786"
             ],
             [
              0.5555555555555556,
              "#d8576b"
             ],
             [
              0.6666666666666666,
              "#ed7953"
             ],
             [
              0.7777777777777778,
              "#fb9f3a"
             ],
             [
              0.8888888888888888,
              "#fdca26"
             ],
             [
              1,
              "#f0f921"
             ]
            ],
            "type": "contour"
           }
          ],
          "contourcarpet": [
           {
            "colorbar": {
             "outlinewidth": 0,
             "ticks": ""
            },
            "type": "contourcarpet"
           }
          ],
          "heatmap": [
           {
            "colorbar": {
             "outlinewidth": 0,
             "ticks": ""
            },
            "colorscale": [
             [
              0,
              "#0d0887"
             ],
             [
              0.1111111111111111,
              "#46039f"
             ],
             [
              0.2222222222222222,
              "#7201a8"
             ],
             [
              0.3333333333333333,
              "#9c179e"
             ],
             [
              0.4444444444444444,
              "#bd3786"
             ],
             [
              0.5555555555555556,
              "#d8576b"
             ],
             [
              0.6666666666666666,
              "#ed7953"
             ],
             [
              0.7777777777777778,
              "#fb9f3a"
             ],
             [
              0.8888888888888888,
              "#fdca26"
             ],
             [
              1,
              "#f0f921"
             ]
            ],
            "type": "heatmap"
           }
          ],
          "heatmapgl": [
           {
            "colorbar": {
             "outlinewidth": 0,
             "ticks": ""
            },
            "colorscale": [
             [
              0,
              "#0d0887"
             ],
             [
              0.1111111111111111,
              "#46039f"
             ],
             [
              0.2222222222222222,
              "#7201a8"
             ],
             [
              0.3333333333333333,
              "#9c179e"
             ],
             [
              0.4444444444444444,
              "#bd3786"
             ],
             [
              0.5555555555555556,
              "#d8576b"
             ],
             [
              0.6666666666666666,
              "#ed7953"
             ],
             [
              0.7777777777777778,
              "#fb9f3a"
             ],
             [
              0.8888888888888888,
              "#fdca26"
             ],
             [
              1,
              "#f0f921"
             ]
            ],
            "type": "heatmapgl"
           }
          ],
          "histogram": [
           {
            "marker": {
             "pattern": {
              "fillmode": "overlay",
              "size": 10,
              "solidity": 0.2
             }
            },
            "type": "histogram"
           }
          ],
          "histogram2d": [
           {
            "colorbar": {
             "outlinewidth": 0,
             "ticks": ""
            },
            "colorscale": [
             [
              0,
              "#0d0887"
             ],
             [
              0.1111111111111111,
              "#46039f"
             ],
             [
              0.2222222222222222,
              "#7201a8"
             ],
             [
              0.3333333333333333,
              "#9c179e"
             ],
             [
              0.4444444444444444,
              "#bd3786"
             ],
             [
              0.5555555555555556,
              "#d8576b"
             ],
             [
              0.6666666666666666,
              "#ed7953"
             ],
             [
              0.7777777777777778,
              "#fb9f3a"
             ],
             [
              0.8888888888888888,
              "#fdca26"
             ],
             [
              1,
              "#f0f921"
             ]
            ],
            "type": "histogram2d"
           }
          ],
          "histogram2dcontour": [
           {
            "colorbar": {
             "outlinewidth": 0,
             "ticks": ""
            },
            "colorscale": [
             [
              0,
              "#0d0887"
             ],
             [
              0.1111111111111111,
              "#46039f"
             ],
             [
              0.2222222222222222,
              "#7201a8"
             ],
             [
              0.3333333333333333,
              "#9c179e"
             ],
             [
              0.4444444444444444,
              "#bd3786"
             ],
             [
              0.5555555555555556,
              "#d8576b"
             ],
             [
              0.6666666666666666,
              "#ed7953"
             ],
             [
              0.7777777777777778,
              "#fb9f3a"
             ],
             [
              0.8888888888888888,
              "#fdca26"
             ],
             [
              1,
              "#f0f921"
             ]
            ],
            "type": "histogram2dcontour"
           }
          ],
          "mesh3d": [
           {
            "colorbar": {
             "outlinewidth": 0,
             "ticks": ""
            },
            "type": "mesh3d"
           }
          ],
          "parcoords": [
           {
            "line": {
             "colorbar": {
              "outlinewidth": 0,
              "ticks": ""
             }
            },
            "type": "parcoords"
           }
          ],
          "pie": [
           {
            "automargin": true,
            "type": "pie"
           }
          ],
          "scatter": [
           {
            "marker": {
             "colorbar": {
              "outlinewidth": 0,
              "ticks": ""
             }
            },
            "type": "scatter"
           }
          ],
          "scatter3d": [
           {
            "line": {
             "colorbar": {
              "outlinewidth": 0,
              "ticks": ""
             }
            },
            "marker": {
             "colorbar": {
              "outlinewidth": 0,
              "ticks": ""
             }
            },
            "type": "scatter3d"
           }
          ],
          "scattercarpet": [
           {
            "marker": {
             "colorbar": {
              "outlinewidth": 0,
              "ticks": ""
             }
            },
            "type": "scattercarpet"
           }
          ],
          "scattergeo": [
           {
            "marker": {
             "colorbar": {
              "outlinewidth": 0,
              "ticks": ""
             }
            },
            "type": "scattergeo"
           }
          ],
          "scattergl": [
           {
            "marker": {
             "colorbar": {
              "outlinewidth": 0,
              "ticks": ""
             }
            },
            "type": "scattergl"
           }
          ],
          "scattermapbox": [
           {
            "marker": {
             "colorbar": {
              "outlinewidth": 0,
              "ticks": ""
             }
            },
            "type": "scattermapbox"
           }
          ],
          "scatterpolar": [
           {
            "marker": {
             "colorbar": {
              "outlinewidth": 0,
              "ticks": ""
             }
            },
            "type": "scatterpolar"
           }
          ],
          "scatterpolargl": [
           {
            "marker": {
             "colorbar": {
              "outlinewidth": 0,
              "ticks": ""
             }
            },
            "type": "scatterpolargl"
           }
          ],
          "scatterternary": [
           {
            "marker": {
             "colorbar": {
              "outlinewidth": 0,
              "ticks": ""
             }
            },
            "type": "scatterternary"
           }
          ],
          "surface": [
           {
            "colorbar": {
             "outlinewidth": 0,
             "ticks": ""
            },
            "colorscale": [
             [
              0,
              "#0d0887"
             ],
             [
              0.1111111111111111,
              "#46039f"
             ],
             [
              0.2222222222222222,
              "#7201a8"
             ],
             [
              0.3333333333333333,
              "#9c179e"
             ],
             [
              0.4444444444444444,
              "#bd3786"
             ],
             [
              0.5555555555555556,
              "#d8576b"
             ],
             [
              0.6666666666666666,
              "#ed7953"
             ],
             [
              0.7777777777777778,
              "#fb9f3a"
             ],
             [
              0.8888888888888888,
              "#fdca26"
             ],
             [
              1,
              "#f0f921"
             ]
            ],
            "type": "surface"
           }
          ],
          "table": [
           {
            "cells": {
             "fill": {
              "color": "#EBF0F8"
             },
             "line": {
              "color": "white"
             }
            },
            "header": {
             "fill": {
              "color": "#C8D4E3"
             },
             "line": {
              "color": "white"
             }
            },
            "type": "table"
           }
          ]
         },
         "layout": {
          "annotationdefaults": {
           "arrowcolor": "#2a3f5f",
           "arrowhead": 0,
           "arrowwidth": 1
          },
          "autotypenumbers": "strict",
          "coloraxis": {
           "colorbar": {
            "outlinewidth": 0,
            "ticks": ""
           }
          },
          "colorscale": {
           "diverging": [
            [
             0,
             "#8e0152"
            ],
            [
             0.1,
             "#c51b7d"
            ],
            [
             0.2,
             "#de77ae"
            ],
            [
             0.3,
             "#f1b6da"
            ],
            [
             0.4,
             "#fde0ef"
            ],
            [
             0.5,
             "#f7f7f7"
            ],
            [
             0.6,
             "#e6f5d0"
            ],
            [
             0.7,
             "#b8e186"
            ],
            [
             0.8,
             "#7fbc41"
            ],
            [
             0.9,
             "#4d9221"
            ],
            [
             1,
             "#276419"
            ]
           ],
           "sequential": [
            [
             0,
             "#0d0887"
            ],
            [
             0.1111111111111111,
             "#46039f"
            ],
            [
             0.2222222222222222,
             "#7201a8"
            ],
            [
             0.3333333333333333,
             "#9c179e"
            ],
            [
             0.4444444444444444,
             "#bd3786"
            ],
            [
             0.5555555555555556,
             "#d8576b"
            ],
            [
             0.6666666666666666,
             "#ed7953"
            ],
            [
             0.7777777777777778,
             "#fb9f3a"
            ],
            [
             0.8888888888888888,
             "#fdca26"
            ],
            [
             1,
             "#f0f921"
            ]
           ],
           "sequentialminus": [
            [
             0,
             "#0d0887"
            ],
            [
             0.1111111111111111,
             "#46039f"
            ],
            [
             0.2222222222222222,
             "#7201a8"
            ],
            [
             0.3333333333333333,
             "#9c179e"
            ],
            [
             0.4444444444444444,
             "#bd3786"
            ],
            [
             0.5555555555555556,
             "#d8576b"
            ],
            [
             0.6666666666666666,
             "#ed7953"
            ],
            [
             0.7777777777777778,
             "#fb9f3a"
            ],
            [
             0.8888888888888888,
             "#fdca26"
            ],
            [
             1,
             "#f0f921"
            ]
           ]
          },
          "colorway": [
           "#636efa",
           "#EF553B",
           "#00cc96",
           "#ab63fa",
           "#FFA15A",
           "#19d3f3",
           "#FF6692",
           "#B6E880",
           "#FF97FF",
           "#FECB52"
          ],
          "font": {
           "color": "#2a3f5f"
          },
          "geo": {
           "bgcolor": "white",
           "lakecolor": "white",
           "landcolor": "#E5ECF6",
           "showlakes": true,
           "showland": true,
           "subunitcolor": "white"
          },
          "hoverlabel": {
           "align": "left"
          },
          "hovermode": "closest",
          "mapbox": {
           "style": "light"
          },
          "paper_bgcolor": "white",
          "plot_bgcolor": "#E5ECF6",
          "polar": {
           "angularaxis": {
            "gridcolor": "white",
            "linecolor": "white",
            "ticks": ""
           },
           "bgcolor": "#E5ECF6",
           "radialaxis": {
            "gridcolor": "white",
            "linecolor": "white",
            "ticks": ""
           }
          },
          "scene": {
           "xaxis": {
            "backgroundcolor": "#E5ECF6",
            "gridcolor": "white",
            "gridwidth": 2,
            "linecolor": "white",
            "showbackground": true,
            "ticks": "",
            "zerolinecolor": "white"
           },
           "yaxis": {
            "backgroundcolor": "#E5ECF6",
            "gridcolor": "white",
            "gridwidth": 2,
            "linecolor": "white",
            "showbackground": true,
            "ticks": "",
            "zerolinecolor": "white"
           },
           "zaxis": {
            "backgroundcolor": "#E5ECF6",
            "gridcolor": "white",
            "gridwidth": 2,
            "linecolor": "white",
            "showbackground": true,
            "ticks": "",
            "zerolinecolor": "white"
           }
          },
          "shapedefaults": {
           "line": {
            "color": "#2a3f5f"
           }
          },
          "ternary": {
           "aaxis": {
            "gridcolor": "white",
            "linecolor": "white",
            "ticks": ""
           },
           "baxis": {
            "gridcolor": "white",
            "linecolor": "white",
            "ticks": ""
           },
           "bgcolor": "#E5ECF6",
           "caxis": {
            "gridcolor": "white",
            "linecolor": "white",
            "ticks": ""
           }
          },
          "title": {
           "x": 0.05
          },
          "xaxis": {
           "automargin": true,
           "gridcolor": "white",
           "linecolor": "white",
           "ticks": "",
           "title": {
            "standoff": 15
           },
           "zerolinecolor": "white",
           "zerolinewidth": 2
          },
          "yaxis": {
           "automargin": true,
           "gridcolor": "white",
           "linecolor": "white",
           "ticks": "",
           "title": {
            "standoff": 15
           },
           "zerolinecolor": "white",
           "zerolinewidth": 2
          }
         }
        },
        "xaxis": {
         "title": {
          "text": "Cout des réparations"
         }
        },
        "yaxis": {
         "title": {
          "text": "Composants"
         }
        }
       }
      }
     },
     "metadata": {},
     "output_type": "display_data"
    }
   ],
   "source": [
    "df_barh_cout = df_barh.sort_values(by=['Occ'])\n",
    "fig = go.Figure()\n",
    "fig.add_trace(go.Bar(\n",
    "    y=df_barh_cout['Comp'],\n",
    "    x=df_barh_cout['Cout'],\n",
    "    text=df_barh_cout['Cout'].astype(int),\n",
    "    textposition='outside',\n",
    "    name='Cout',\n",
    "    orientation='h',\n",
    "    marker=dict(\n",
    "        color='rgba(122, 169, 168, 0.8)',\n",
    "        line=dict(color='rgba(122, 169, 168, 1.)', width=3)\n",
    "    )\n",
    "))\n",
    "\n",
    "fig.update_layout(\n",
    "    xaxis_title=\"Cout des réparations\",\n",
    "    yaxis_title=\"Composants\",\n",
    "    barmode='stack')\n",
    "fig.show()"
   ]
  },
  {
   "cell_type": "code",
   "execution_count": 306,
   "metadata": {},
   "outputs": [],
   "source": [
    "# Comptage (en prenant en compte les versions)\n",
    "\n",
    "occurrences_v1 = np.zeros(15)\n",
    "occurrences_v2 = np.zeros(15)\n",
    "occurrences_v3 = np.zeros(15)\n",
    "cout_rep_v1 = np.zeros(15)\n",
    "cout_rep_v2 = np.zeros(15)\n",
    "cout_rep_v3 = np.zeros(15)\n",
    "\n",
    "\n",
    "for i in range(df_facteurs_red.shape[0]):\n",
    "    for j in range(15):\n",
    "        comp_def = df_facteurs_red.iloc[i,j+5]\n",
    "        if (comp_def == 1):\n",
    "            if(df_facteurs_red.iloc[i,1]=='v1'):\n",
    "                occurrences_v1[j] += comp_def\n",
    "                cout_rep_v1[j] += get_cout(df_facteurs_red.iloc[i,0], df_facteurs_red.iloc[i,4])\n",
    "            if(df_facteurs_red.iloc[i,1]=='v2'):\n",
    "                occurrences_v2[j] += comp_def\n",
    "                cout_rep_v2[j] += get_cout(df_facteurs_red.iloc[i,0], df_facteurs_red.iloc[i,4])\n",
    "            if(df_facteurs_red.iloc[i,1]=='v3'):\n",
    "                occurrences_v3[j] += comp_def\n",
    "                cout_rep_v3[j] += get_cout(df_facteurs_red.iloc[i,0], df_facteurs_red.iloc[i,4])\n"
   ]
  },
  {
   "cell_type": "code",
   "execution_count": 307,
   "metadata": {},
   "outputs": [
    {
     "data": {
      "application/vnd.plotly.v1+json": {
       "config": {
        "plotlyServerURL": "https://plot.ly"
       },
       "data": [
        {
         "marker": {
          "color": "rgba(118, 68, 138, 0.8)",
          "line": {
           "color": "rgba(118, 68, 138, 1.)",
           "width": 3
          }
         },
         "name": "v1",
         "orientation": "h",
         "type": "bar",
         "x": [
          0,
          1,
          2,
          4,
          2,
          3,
          3,
          3,
          5,
          5,
          7,
          13,
          14,
          19,
          18
         ],
         "y": [
          "X12",
          "X8",
          "X11",
          "X13",
          "X3",
          "X5",
          "X10",
          "X15",
          "X9",
          "X2",
          "X7",
          "X14",
          "X1",
          "X4",
          "X6"
         ]
        },
        {
         "marker": {
          "color": "rgba(155, 89, 182, 0.8)",
          "line": {
           "color": "rgba(155, 89, 182, 1.)",
           "width": 3
          }
         },
         "name": "v2",
         "orientation": "h",
         "type": "bar",
         "x": [
          0,
          0,
          0,
          0,
          0,
          0,
          0,
          0,
          0,
          1,
          1,
          1,
          2,
          4,
          4
         ],
         "y": [
          "X12",
          "X8",
          "X11",
          "X13",
          "X3",
          "X5",
          "X10",
          "X15",
          "X9",
          "X2",
          "X7",
          "X14",
          "X1",
          "X4",
          "X6"
         ]
        },
        {
         "marker": {
          "color": "rgba(195, 155, 211, 0.8)",
          "line": {
           "color": "rgba(195, 155, 211, 1)",
           "width": 3
          }
         },
         "name": "v3",
         "orientation": "h",
         "text": [
          0,
          1,
          3,
          4,
          5,
          6,
          6,
          7,
          8,
          11,
          13,
          22,
          25,
          35,
          35
         ],
         "textposition": "outside",
         "type": "bar",
         "x": [
          0,
          0,
          1,
          0,
          3,
          3,
          3,
          4,
          3,
          5,
          5,
          8,
          9,
          12,
          13
         ],
         "y": [
          "X12",
          "X8",
          "X11",
          "X13",
          "X3",
          "X5",
          "X10",
          "X15",
          "X9",
          "X2",
          "X7",
          "X14",
          "X1",
          "X4",
          "X6"
         ]
        }
       ],
       "layout": {
        "barmode": "stack",
        "template": {
         "data": {
          "bar": [
           {
            "error_x": {
             "color": "#2a3f5f"
            },
            "error_y": {
             "color": "#2a3f5f"
            },
            "marker": {
             "line": {
              "color": "#E5ECF6",
              "width": 0.5
             },
             "pattern": {
              "fillmode": "overlay",
              "size": 10,
              "solidity": 0.2
             }
            },
            "type": "bar"
           }
          ],
          "barpolar": [
           {
            "marker": {
             "line": {
              "color": "#E5ECF6",
              "width": 0.5
             },
             "pattern": {
              "fillmode": "overlay",
              "size": 10,
              "solidity": 0.2
             }
            },
            "type": "barpolar"
           }
          ],
          "carpet": [
           {
            "aaxis": {
             "endlinecolor": "#2a3f5f",
             "gridcolor": "white",
             "linecolor": "white",
             "minorgridcolor": "white",
             "startlinecolor": "#2a3f5f"
            },
            "baxis": {
             "endlinecolor": "#2a3f5f",
             "gridcolor": "white",
             "linecolor": "white",
             "minorgridcolor": "white",
             "startlinecolor": "#2a3f5f"
            },
            "type": "carpet"
           }
          ],
          "choropleth": [
           {
            "colorbar": {
             "outlinewidth": 0,
             "ticks": ""
            },
            "type": "choropleth"
           }
          ],
          "contour": [
           {
            "colorbar": {
             "outlinewidth": 0,
             "ticks": ""
            },
            "colorscale": [
             [
              0,
              "#0d0887"
             ],
             [
              0.1111111111111111,
              "#46039f"
             ],
             [
              0.2222222222222222,
              "#7201a8"
             ],
             [
              0.3333333333333333,
              "#9c179e"
             ],
             [
              0.4444444444444444,
              "#bd3786"
             ],
             [
              0.5555555555555556,
              "#d8576b"
             ],
             [
              0.6666666666666666,
              "#ed7953"
             ],
             [
              0.7777777777777778,
              "#fb9f3a"
             ],
             [
              0.8888888888888888,
              "#fdca26"
             ],
             [
              1,
              "#f0f921"
             ]
            ],
            "type": "contour"
           }
          ],
          "contourcarpet": [
           {
            "colorbar": {
             "outlinewidth": 0,
             "ticks": ""
            },
            "type": "contourcarpet"
           }
          ],
          "heatmap": [
           {
            "colorbar": {
             "outlinewidth": 0,
             "ticks": ""
            },
            "colorscale": [
             [
              0,
              "#0d0887"
             ],
             [
              0.1111111111111111,
              "#46039f"
             ],
             [
              0.2222222222222222,
              "#7201a8"
             ],
             [
              0.3333333333333333,
              "#9c179e"
             ],
             [
              0.4444444444444444,
              "#bd3786"
             ],
             [
              0.5555555555555556,
              "#d8576b"
             ],
             [
              0.6666666666666666,
              "#ed7953"
             ],
             [
              0.7777777777777778,
              "#fb9f3a"
             ],
             [
              0.8888888888888888,
              "#fdca26"
             ],
             [
              1,
              "#f0f921"
             ]
            ],
            "type": "heatmap"
           }
          ],
          "heatmapgl": [
           {
            "colorbar": {
             "outlinewidth": 0,
             "ticks": ""
            },
            "colorscale": [
             [
              0,
              "#0d0887"
             ],
             [
              0.1111111111111111,
              "#46039f"
             ],
             [
              0.2222222222222222,
              "#7201a8"
             ],
             [
              0.3333333333333333,
              "#9c179e"
             ],
             [
              0.4444444444444444,
              "#bd3786"
             ],
             [
              0.5555555555555556,
              "#d8576b"
             ],
             [
              0.6666666666666666,
              "#ed7953"
             ],
             [
              0.7777777777777778,
              "#fb9f3a"
             ],
             [
              0.8888888888888888,
              "#fdca26"
             ],
             [
              1,
              "#f0f921"
             ]
            ],
            "type": "heatmapgl"
           }
          ],
          "histogram": [
           {
            "marker": {
             "pattern": {
              "fillmode": "overlay",
              "size": 10,
              "solidity": 0.2
             }
            },
            "type": "histogram"
           }
          ],
          "histogram2d": [
           {
            "colorbar": {
             "outlinewidth": 0,
             "ticks": ""
            },
            "colorscale": [
             [
              0,
              "#0d0887"
             ],
             [
              0.1111111111111111,
              "#46039f"
             ],
             [
              0.2222222222222222,
              "#7201a8"
             ],
             [
              0.3333333333333333,
              "#9c179e"
             ],
             [
              0.4444444444444444,
              "#bd3786"
             ],
             [
              0.5555555555555556,
              "#d8576b"
             ],
             [
              0.6666666666666666,
              "#ed7953"
             ],
             [
              0.7777777777777778,
              "#fb9f3a"
             ],
             [
              0.8888888888888888,
              "#fdca26"
             ],
             [
              1,
              "#f0f921"
             ]
            ],
            "type": "histogram2d"
           }
          ],
          "histogram2dcontour": [
           {
            "colorbar": {
             "outlinewidth": 0,
             "ticks": ""
            },
            "colorscale": [
             [
              0,
              "#0d0887"
             ],
             [
              0.1111111111111111,
              "#46039f"
             ],
             [
              0.2222222222222222,
              "#7201a8"
             ],
             [
              0.3333333333333333,
              "#9c179e"
             ],
             [
              0.4444444444444444,
              "#bd3786"
             ],
             [
              0.5555555555555556,
              "#d8576b"
             ],
             [
              0.6666666666666666,
              "#ed7953"
             ],
             [
              0.7777777777777778,
              "#fb9f3a"
             ],
             [
              0.8888888888888888,
              "#fdca26"
             ],
             [
              1,
              "#f0f921"
             ]
            ],
            "type": "histogram2dcontour"
           }
          ],
          "mesh3d": [
           {
            "colorbar": {
             "outlinewidth": 0,
             "ticks": ""
            },
            "type": "mesh3d"
           }
          ],
          "parcoords": [
           {
            "line": {
             "colorbar": {
              "outlinewidth": 0,
              "ticks": ""
             }
            },
            "type": "parcoords"
           }
          ],
          "pie": [
           {
            "automargin": true,
            "type": "pie"
           }
          ],
          "scatter": [
           {
            "marker": {
             "colorbar": {
              "outlinewidth": 0,
              "ticks": ""
             }
            },
            "type": "scatter"
           }
          ],
          "scatter3d": [
           {
            "line": {
             "colorbar": {
              "outlinewidth": 0,
              "ticks": ""
             }
            },
            "marker": {
             "colorbar": {
              "outlinewidth": 0,
              "ticks": ""
             }
            },
            "type": "scatter3d"
           }
          ],
          "scattercarpet": [
           {
            "marker": {
             "colorbar": {
              "outlinewidth": 0,
              "ticks": ""
             }
            },
            "type": "scattercarpet"
           }
          ],
          "scattergeo": [
           {
            "marker": {
             "colorbar": {
              "outlinewidth": 0,
              "ticks": ""
             }
            },
            "type": "scattergeo"
           }
          ],
          "scattergl": [
           {
            "marker": {
             "colorbar": {
              "outlinewidth": 0,
              "ticks": ""
             }
            },
            "type": "scattergl"
           }
          ],
          "scattermapbox": [
           {
            "marker": {
             "colorbar": {
              "outlinewidth": 0,
              "ticks": ""
             }
            },
            "type": "scattermapbox"
           }
          ],
          "scatterpolar": [
           {
            "marker": {
             "colorbar": {
              "outlinewidth": 0,
              "ticks": ""
             }
            },
            "type": "scatterpolar"
           }
          ],
          "scatterpolargl": [
           {
            "marker": {
             "colorbar": {
              "outlinewidth": 0,
              "ticks": ""
             }
            },
            "type": "scatterpolargl"
           }
          ],
          "scatterternary": [
           {
            "marker": {
             "colorbar": {
              "outlinewidth": 0,
              "ticks": ""
             }
            },
            "type": "scatterternary"
           }
          ],
          "surface": [
           {
            "colorbar": {
             "outlinewidth": 0,
             "ticks": ""
            },
            "colorscale": [
             [
              0,
              "#0d0887"
             ],
             [
              0.1111111111111111,
              "#46039f"
             ],
             [
              0.2222222222222222,
              "#7201a8"
             ],
             [
              0.3333333333333333,
              "#9c179e"
             ],
             [
              0.4444444444444444,
              "#bd3786"
             ],
             [
              0.5555555555555556,
              "#d8576b"
             ],
             [
              0.6666666666666666,
              "#ed7953"
             ],
             [
              0.7777777777777778,
              "#fb9f3a"
             ],
             [
              0.8888888888888888,
              "#fdca26"
             ],
             [
              1,
              "#f0f921"
             ]
            ],
            "type": "surface"
           }
          ],
          "table": [
           {
            "cells": {
             "fill": {
              "color": "#EBF0F8"
             },
             "line": {
              "color": "white"
             }
            },
            "header": {
             "fill": {
              "color": "#C8D4E3"
             },
             "line": {
              "color": "white"
             }
            },
            "type": "table"
           }
          ]
         },
         "layout": {
          "annotationdefaults": {
           "arrowcolor": "#2a3f5f",
           "arrowhead": 0,
           "arrowwidth": 1
          },
          "autotypenumbers": "strict",
          "coloraxis": {
           "colorbar": {
            "outlinewidth": 0,
            "ticks": ""
           }
          },
          "colorscale": {
           "diverging": [
            [
             0,
             "#8e0152"
            ],
            [
             0.1,
             "#c51b7d"
            ],
            [
             0.2,
             "#de77ae"
            ],
            [
             0.3,
             "#f1b6da"
            ],
            [
             0.4,
             "#fde0ef"
            ],
            [
             0.5,
             "#f7f7f7"
            ],
            [
             0.6,
             "#e6f5d0"
            ],
            [
             0.7,
             "#b8e186"
            ],
            [
             0.8,
             "#7fbc41"
            ],
            [
             0.9,
             "#4d9221"
            ],
            [
             1,
             "#276419"
            ]
           ],
           "sequential": [
            [
             0,
             "#0d0887"
            ],
            [
             0.1111111111111111,
             "#46039f"
            ],
            [
             0.2222222222222222,
             "#7201a8"
            ],
            [
             0.3333333333333333,
             "#9c179e"
            ],
            [
             0.4444444444444444,
             "#bd3786"
            ],
            [
             0.5555555555555556,
             "#d8576b"
            ],
            [
             0.6666666666666666,
             "#ed7953"
            ],
            [
             0.7777777777777778,
             "#fb9f3a"
            ],
            [
             0.8888888888888888,
             "#fdca26"
            ],
            [
             1,
             "#f0f921"
            ]
           ],
           "sequentialminus": [
            [
             0,
             "#0d0887"
            ],
            [
             0.1111111111111111,
             "#46039f"
            ],
            [
             0.2222222222222222,
             "#7201a8"
            ],
            [
             0.3333333333333333,
             "#9c179e"
            ],
            [
             0.4444444444444444,
             "#bd3786"
            ],
            [
             0.5555555555555556,
             "#d8576b"
            ],
            [
             0.6666666666666666,
             "#ed7953"
            ],
            [
             0.7777777777777778,
             "#fb9f3a"
            ],
            [
             0.8888888888888888,
             "#fdca26"
            ],
            [
             1,
             "#f0f921"
            ]
           ]
          },
          "colorway": [
           "#636efa",
           "#EF553B",
           "#00cc96",
           "#ab63fa",
           "#FFA15A",
           "#19d3f3",
           "#FF6692",
           "#B6E880",
           "#FF97FF",
           "#FECB52"
          ],
          "font": {
           "color": "#2a3f5f"
          },
          "geo": {
           "bgcolor": "white",
           "lakecolor": "white",
           "landcolor": "#E5ECF6",
           "showlakes": true,
           "showland": true,
           "subunitcolor": "white"
          },
          "hoverlabel": {
           "align": "left"
          },
          "hovermode": "closest",
          "mapbox": {
           "style": "light"
          },
          "paper_bgcolor": "white",
          "plot_bgcolor": "#E5ECF6",
          "polar": {
           "angularaxis": {
            "gridcolor": "white",
            "linecolor": "white",
            "ticks": ""
           },
           "bgcolor": "#E5ECF6",
           "radialaxis": {
            "gridcolor": "white",
            "linecolor": "white",
            "ticks": ""
           }
          },
          "scene": {
           "xaxis": {
            "backgroundcolor": "#E5ECF6",
            "gridcolor": "white",
            "gridwidth": 2,
            "linecolor": "white",
            "showbackground": true,
            "ticks": "",
            "zerolinecolor": "white"
           },
           "yaxis": {
            "backgroundcolor": "#E5ECF6",
            "gridcolor": "white",
            "gridwidth": 2,
            "linecolor": "white",
            "showbackground": true,
            "ticks": "",
            "zerolinecolor": "white"
           },
           "zaxis": {
            "backgroundcolor": "#E5ECF6",
            "gridcolor": "white",
            "gridwidth": 2,
            "linecolor": "white",
            "showbackground": true,
            "ticks": "",
            "zerolinecolor": "white"
           }
          },
          "shapedefaults": {
           "line": {
            "color": "#2a3f5f"
           }
          },
          "ternary": {
           "aaxis": {
            "gridcolor": "white",
            "linecolor": "white",
            "ticks": ""
           },
           "baxis": {
            "gridcolor": "white",
            "linecolor": "white",
            "ticks": ""
           },
           "bgcolor": "#E5ECF6",
           "caxis": {
            "gridcolor": "white",
            "linecolor": "white",
            "ticks": ""
           }
          },
          "title": {
           "x": 0.05
          },
          "xaxis": {
           "automargin": true,
           "gridcolor": "white",
           "linecolor": "white",
           "ticks": "",
           "title": {
            "standoff": 15
           },
           "zerolinecolor": "white",
           "zerolinewidth": 2
          },
          "yaxis": {
           "automargin": true,
           "gridcolor": "white",
           "linecolor": "white",
           "ticks": "",
           "title": {
            "standoff": 15
           },
           "zerolinecolor": "white",
           "zerolinewidth": 2
          }
         }
        },
        "xaxis": {
         "title": {
          "text": "Nombre de pannes"
         }
        },
        "yaxis": {
         "title": {
          "text": "Composants"
         }
        }
       }
      }
     },
     "metadata": {},
     "output_type": "display_data"
    }
   ],
   "source": [
    "# Affichage bar plot\n",
    "\n",
    "donnees_barh_version = {'Comp' : comp, 'Occ_v1' : occurrences_v1, 'Occ_v2' : occurrences_v2, 'Occ_v3' : occurrences_v3, 'Occ_tot' : occurrences_v1+occurrences_v2+occurrences_v3, 'Cout_v1' : cout_rep_v1, 'Cout_v2' : cout_rep_v2, 'Cout_v3' : cout_rep_v3, 'Cout_tot' : cout_rep_v1+cout_rep_v2+cout_rep_v3}\n",
    "df_barh_version = pd.DataFrame(data=donnees_barh_version)\n",
    "\n",
    "df_barh_version_occ = df_barh_version.sort_values(by=['Occ_tot'])\n",
    "\n",
    "fig_occ = go.Figure()\n",
    "fig_occ.add_trace(go.Bar(\n",
    "    y=df_barh_version_occ['Comp'],\n",
    "    x=df_barh_version_occ['Occ_v1'],\n",
    "    name='v1',\n",
    "    orientation='h',\n",
    "    marker=dict(\n",
    "        color='rgba(118, 68, 138, 0.8)',\n",
    "        line=dict(color='rgba(118, 68, 138, 1.)', width=3)\n",
    "    )\n",
    "))\n",
    "fig_occ.add_trace(go.Bar(\n",
    "    y=df_barh_version_occ['Comp'],\n",
    "    x=df_barh_version_occ['Occ_v2'],\n",
    "    name='v2',\n",
    "    orientation='h',\n",
    "    marker=dict(\n",
    "        color='rgba(155, 89, 182, 0.8)',\n",
    "        line=dict(color='rgba(155, 89, 182, 1.)', width=3)\n",
    "    )\n",
    "))\n",
    "fig_occ.add_trace(go.Bar(\n",
    "    y=df_barh_version_occ['Comp'],\n",
    "    x=df_barh_version_occ['Occ_v3'],\n",
    "    text=df_barh_version_occ['Occ_tot'],\n",
    "    textposition='outside',\n",
    "    name='v3',\n",
    "    orientation='h',\n",
    "    marker=dict(\n",
    "        color='rgba(195, 155, 211, 0.8)',\n",
    "        line=dict(color='rgba(195, 155, 211, 1)', width=3)\n",
    "    )\n",
    "))\n",
    "\n",
    "fig_occ.update_layout(\n",
    "    xaxis_title=\"Nombre de pannes\",\n",
    "    yaxis_title=\"Composants\",\n",
    "    barmode='stack')\n",
    "fig_occ.show()"
   ]
  },
  {
   "cell_type": "code",
   "execution_count": 308,
   "metadata": {},
   "outputs": [
    {
     "data": {
      "application/vnd.plotly.v1+json": {
       "config": {
        "plotlyServerURL": "https://plot.ly"
       },
       "data": [
        {
         "marker": {
          "color": "rgba(118, 68, 138, 0.8)",
          "line": {
           "color": "rgba(118, 68, 138, 1.)",
           "width": 3
          }
         },
         "name": "v1",
         "orientation": "h",
         "type": "bar",
         "x": [
          0,
          71.5,
          78.1,
          217.79999999999998,
          60.72,
          71.94,
          145.20000000000002,
          193.16,
          245.73999999999998,
          385.88,
          174.24,
          560.34,
          914.7600000000001,
          1039.28,
          864.1600000000001
         ],
         "y": [
          "X12",
          "X8",
          "X11",
          "X13",
          "X3",
          "X5",
          "X10",
          "X15",
          "X9",
          "X2",
          "X7",
          "X14",
          "X1",
          "X4",
          "X6"
         ]
        },
        {
         "marker": {
          "color": "rgba(155, 89, 182, 0.8)",
          "line": {
           "color": "rgba(155, 89, 182, 1.)",
           "width": 3
          }
         },
         "name": "v2",
         "orientation": "h",
         "type": "bar",
         "x": [
          0,
          0,
          0,
          0,
          0,
          0,
          0,
          0,
          0,
          36.08,
          22.44,
          113.3,
          22.22,
          181.72,
          80.74000000000001
         ],
         "y": [
          "X12",
          "X8",
          "X11",
          "X13",
          "X3",
          "X5",
          "X10",
          "X15",
          "X9",
          "X2",
          "X7",
          "X14",
          "X1",
          "X4",
          "X6"
         ]
        },
        {
         "marker": {
          "color": "rgba(195, 155, 211, 0.8)",
          "line": {
           "color": "rgba(195, 155, 211, 1.)",
           "width": 3
          }
         },
         "name": "v3",
         "orientation": "h",
         "text": [
          0,
          71,
          130,
          217,
          414,
          119,
          212,
          249,
          549,
          745,
          381,
          1350,
          1504,
          2025,
          1732
         ],
         "textposition": "outside",
         "type": "bar",
         "x": [
          0,
          0,
          52.36,
          0,
          353.32000000000005,
          47.739999999999995,
          66.88000000000001,
          56.31999999999999,
          304.04,
          323.18,
          185.01999999999998,
          676.5,
          567.6,
          804.1,
          787.82
         ],
         "y": [
          "X12",
          "X8",
          "X11",
          "X13",
          "X3",
          "X5",
          "X10",
          "X15",
          "X9",
          "X2",
          "X7",
          "X14",
          "X1",
          "X4",
          "X6"
         ]
        }
       ],
       "layout": {
        "barmode": "stack",
        "template": {
         "data": {
          "bar": [
           {
            "error_x": {
             "color": "#2a3f5f"
            },
            "error_y": {
             "color": "#2a3f5f"
            },
            "marker": {
             "line": {
              "color": "#E5ECF6",
              "width": 0.5
             },
             "pattern": {
              "fillmode": "overlay",
              "size": 10,
              "solidity": 0.2
             }
            },
            "type": "bar"
           }
          ],
          "barpolar": [
           {
            "marker": {
             "line": {
              "color": "#E5ECF6",
              "width": 0.5
             },
             "pattern": {
              "fillmode": "overlay",
              "size": 10,
              "solidity": 0.2
             }
            },
            "type": "barpolar"
           }
          ],
          "carpet": [
           {
            "aaxis": {
             "endlinecolor": "#2a3f5f",
             "gridcolor": "white",
             "linecolor": "white",
             "minorgridcolor": "white",
             "startlinecolor": "#2a3f5f"
            },
            "baxis": {
             "endlinecolor": "#2a3f5f",
             "gridcolor": "white",
             "linecolor": "white",
             "minorgridcolor": "white",
             "startlinecolor": "#2a3f5f"
            },
            "type": "carpet"
           }
          ],
          "choropleth": [
           {
            "colorbar": {
             "outlinewidth": 0,
             "ticks": ""
            },
            "type": "choropleth"
           }
          ],
          "contour": [
           {
            "colorbar": {
             "outlinewidth": 0,
             "ticks": ""
            },
            "colorscale": [
             [
              0,
              "#0d0887"
             ],
             [
              0.1111111111111111,
              "#46039f"
             ],
             [
              0.2222222222222222,
              "#7201a8"
             ],
             [
              0.3333333333333333,
              "#9c179e"
             ],
             [
              0.4444444444444444,
              "#bd3786"
             ],
             [
              0.5555555555555556,
              "#d8576b"
             ],
             [
              0.6666666666666666,
              "#ed7953"
             ],
             [
              0.7777777777777778,
              "#fb9f3a"
             ],
             [
              0.8888888888888888,
              "#fdca26"
             ],
             [
              1,
              "#f0f921"
             ]
            ],
            "type": "contour"
           }
          ],
          "contourcarpet": [
           {
            "colorbar": {
             "outlinewidth": 0,
             "ticks": ""
            },
            "type": "contourcarpet"
           }
          ],
          "heatmap": [
           {
            "colorbar": {
             "outlinewidth": 0,
             "ticks": ""
            },
            "colorscale": [
             [
              0,
              "#0d0887"
             ],
             [
              0.1111111111111111,
              "#46039f"
             ],
             [
              0.2222222222222222,
              "#7201a8"
             ],
             [
              0.3333333333333333,
              "#9c179e"
             ],
             [
              0.4444444444444444,
              "#bd3786"
             ],
             [
              0.5555555555555556,
              "#d8576b"
             ],
             [
              0.6666666666666666,
              "#ed7953"
             ],
             [
              0.7777777777777778,
              "#fb9f3a"
             ],
             [
              0.8888888888888888,
              "#fdca26"
             ],
             [
              1,
              "#f0f921"
             ]
            ],
            "type": "heatmap"
           }
          ],
          "heatmapgl": [
           {
            "colorbar": {
             "outlinewidth": 0,
             "ticks": ""
            },
            "colorscale": [
             [
              0,
              "#0d0887"
             ],
             [
              0.1111111111111111,
              "#46039f"
             ],
             [
              0.2222222222222222,
              "#7201a8"
             ],
             [
              0.3333333333333333,
              "#9c179e"
             ],
             [
              0.4444444444444444,
              "#bd3786"
             ],
             [
              0.5555555555555556,
              "#d8576b"
             ],
             [
              0.6666666666666666,
              "#ed7953"
             ],
             [
              0.7777777777777778,
              "#fb9f3a"
             ],
             [
              0.8888888888888888,
              "#fdca26"
             ],
             [
              1,
              "#f0f921"
             ]
            ],
            "type": "heatmapgl"
           }
          ],
          "histogram": [
           {
            "marker": {
             "pattern": {
              "fillmode": "overlay",
              "size": 10,
              "solidity": 0.2
             }
            },
            "type": "histogram"
           }
          ],
          "histogram2d": [
           {
            "colorbar": {
             "outlinewidth": 0,
             "ticks": ""
            },
            "colorscale": [
             [
              0,
              "#0d0887"
             ],
             [
              0.1111111111111111,
              "#46039f"
             ],
             [
              0.2222222222222222,
              "#7201a8"
             ],
             [
              0.3333333333333333,
              "#9c179e"
             ],
             [
              0.4444444444444444,
              "#bd3786"
             ],
             [
              0.5555555555555556,
              "#d8576b"
             ],
             [
              0.6666666666666666,
              "#ed7953"
             ],
             [
              0.7777777777777778,
              "#fb9f3a"
             ],
             [
              0.8888888888888888,
              "#fdca26"
             ],
             [
              1,
              "#f0f921"
             ]
            ],
            "type": "histogram2d"
           }
          ],
          "histogram2dcontour": [
           {
            "colorbar": {
             "outlinewidth": 0,
             "ticks": ""
            },
            "colorscale": [
             [
              0,
              "#0d0887"
             ],
             [
              0.1111111111111111,
              "#46039f"
             ],
             [
              0.2222222222222222,
              "#7201a8"
             ],
             [
              0.3333333333333333,
              "#9c179e"
             ],
             [
              0.4444444444444444,
              "#bd3786"
             ],
             [
              0.5555555555555556,
              "#d8576b"
             ],
             [
              0.6666666666666666,
              "#ed7953"
             ],
             [
              0.7777777777777778,
              "#fb9f3a"
             ],
             [
              0.8888888888888888,
              "#fdca26"
             ],
             [
              1,
              "#f0f921"
             ]
            ],
            "type": "histogram2dcontour"
           }
          ],
          "mesh3d": [
           {
            "colorbar": {
             "outlinewidth": 0,
             "ticks": ""
            },
            "type": "mesh3d"
           }
          ],
          "parcoords": [
           {
            "line": {
             "colorbar": {
              "outlinewidth": 0,
              "ticks": ""
             }
            },
            "type": "parcoords"
           }
          ],
          "pie": [
           {
            "automargin": true,
            "type": "pie"
           }
          ],
          "scatter": [
           {
            "marker": {
             "colorbar": {
              "outlinewidth": 0,
              "ticks": ""
             }
            },
            "type": "scatter"
           }
          ],
          "scatter3d": [
           {
            "line": {
             "colorbar": {
              "outlinewidth": 0,
              "ticks": ""
             }
            },
            "marker": {
             "colorbar": {
              "outlinewidth": 0,
              "ticks": ""
             }
            },
            "type": "scatter3d"
           }
          ],
          "scattercarpet": [
           {
            "marker": {
             "colorbar": {
              "outlinewidth": 0,
              "ticks": ""
             }
            },
            "type": "scattercarpet"
           }
          ],
          "scattergeo": [
           {
            "marker": {
             "colorbar": {
              "outlinewidth": 0,
              "ticks": ""
             }
            },
            "type": "scattergeo"
           }
          ],
          "scattergl": [
           {
            "marker": {
             "colorbar": {
              "outlinewidth": 0,
              "ticks": ""
             }
            },
            "type": "scattergl"
           }
          ],
          "scattermapbox": [
           {
            "marker": {
             "colorbar": {
              "outlinewidth": 0,
              "ticks": ""
             }
            },
            "type": "scattermapbox"
           }
          ],
          "scatterpolar": [
           {
            "marker": {
             "colorbar": {
              "outlinewidth": 0,
              "ticks": ""
             }
            },
            "type": "scatterpolar"
           }
          ],
          "scatterpolargl": [
           {
            "marker": {
             "colorbar": {
              "outlinewidth": 0,
              "ticks": ""
             }
            },
            "type": "scatterpolargl"
           }
          ],
          "scatterternary": [
           {
            "marker": {
             "colorbar": {
              "outlinewidth": 0,
              "ticks": ""
             }
            },
            "type": "scatterternary"
           }
          ],
          "surface": [
           {
            "colorbar": {
             "outlinewidth": 0,
             "ticks": ""
            },
            "colorscale": [
             [
              0,
              "#0d0887"
             ],
             [
              0.1111111111111111,
              "#46039f"
             ],
             [
              0.2222222222222222,
              "#7201a8"
             ],
             [
              0.3333333333333333,
              "#9c179e"
             ],
             [
              0.4444444444444444,
              "#bd3786"
             ],
             [
              0.5555555555555556,
              "#d8576b"
             ],
             [
              0.6666666666666666,
              "#ed7953"
             ],
             [
              0.7777777777777778,
              "#fb9f3a"
             ],
             [
              0.8888888888888888,
              "#fdca26"
             ],
             [
              1,
              "#f0f921"
             ]
            ],
            "type": "surface"
           }
          ],
          "table": [
           {
            "cells": {
             "fill": {
              "color": "#EBF0F8"
             },
             "line": {
              "color": "white"
             }
            },
            "header": {
             "fill": {
              "color": "#C8D4E3"
             },
             "line": {
              "color": "white"
             }
            },
            "type": "table"
           }
          ]
         },
         "layout": {
          "annotationdefaults": {
           "arrowcolor": "#2a3f5f",
           "arrowhead": 0,
           "arrowwidth": 1
          },
          "autotypenumbers": "strict",
          "coloraxis": {
           "colorbar": {
            "outlinewidth": 0,
            "ticks": ""
           }
          },
          "colorscale": {
           "diverging": [
            [
             0,
             "#8e0152"
            ],
            [
             0.1,
             "#c51b7d"
            ],
            [
             0.2,
             "#de77ae"
            ],
            [
             0.3,
             "#f1b6da"
            ],
            [
             0.4,
             "#fde0ef"
            ],
            [
             0.5,
             "#f7f7f7"
            ],
            [
             0.6,
             "#e6f5d0"
            ],
            [
             0.7,
             "#b8e186"
            ],
            [
             0.8,
             "#7fbc41"
            ],
            [
             0.9,
             "#4d9221"
            ],
            [
             1,
             "#276419"
            ]
           ],
           "sequential": [
            [
             0,
             "#0d0887"
            ],
            [
             0.1111111111111111,
             "#46039f"
            ],
            [
             0.2222222222222222,
             "#7201a8"
            ],
            [
             0.3333333333333333,
             "#9c179e"
            ],
            [
             0.4444444444444444,
             "#bd3786"
            ],
            [
             0.5555555555555556,
             "#d8576b"
            ],
            [
             0.6666666666666666,
             "#ed7953"
            ],
            [
             0.7777777777777778,
             "#fb9f3a"
            ],
            [
             0.8888888888888888,
             "#fdca26"
            ],
            [
             1,
             "#f0f921"
            ]
           ],
           "sequentialminus": [
            [
             0,
             "#0d0887"
            ],
            [
             0.1111111111111111,
             "#46039f"
            ],
            [
             0.2222222222222222,
             "#7201a8"
            ],
            [
             0.3333333333333333,
             "#9c179e"
            ],
            [
             0.4444444444444444,
             "#bd3786"
            ],
            [
             0.5555555555555556,
             "#d8576b"
            ],
            [
             0.6666666666666666,
             "#ed7953"
            ],
            [
             0.7777777777777778,
             "#fb9f3a"
            ],
            [
             0.8888888888888888,
             "#fdca26"
            ],
            [
             1,
             "#f0f921"
            ]
           ]
          },
          "colorway": [
           "#636efa",
           "#EF553B",
           "#00cc96",
           "#ab63fa",
           "#FFA15A",
           "#19d3f3",
           "#FF6692",
           "#B6E880",
           "#FF97FF",
           "#FECB52"
          ],
          "font": {
           "color": "#2a3f5f"
          },
          "geo": {
           "bgcolor": "white",
           "lakecolor": "white",
           "landcolor": "#E5ECF6",
           "showlakes": true,
           "showland": true,
           "subunitcolor": "white"
          },
          "hoverlabel": {
           "align": "left"
          },
          "hovermode": "closest",
          "mapbox": {
           "style": "light"
          },
          "paper_bgcolor": "white",
          "plot_bgcolor": "#E5ECF6",
          "polar": {
           "angularaxis": {
            "gridcolor": "white",
            "linecolor": "white",
            "ticks": ""
           },
           "bgcolor": "#E5ECF6",
           "radialaxis": {
            "gridcolor": "white",
            "linecolor": "white",
            "ticks": ""
           }
          },
          "scene": {
           "xaxis": {
            "backgroundcolor": "#E5ECF6",
            "gridcolor": "white",
            "gridwidth": 2,
            "linecolor": "white",
            "showbackground": true,
            "ticks": "",
            "zerolinecolor": "white"
           },
           "yaxis": {
            "backgroundcolor": "#E5ECF6",
            "gridcolor": "white",
            "gridwidth": 2,
            "linecolor": "white",
            "showbackground": true,
            "ticks": "",
            "zerolinecolor": "white"
           },
           "zaxis": {
            "backgroundcolor": "#E5ECF6",
            "gridcolor": "white",
            "gridwidth": 2,
            "linecolor": "white",
            "showbackground": true,
            "ticks": "",
            "zerolinecolor": "white"
           }
          },
          "shapedefaults": {
           "line": {
            "color": "#2a3f5f"
           }
          },
          "ternary": {
           "aaxis": {
            "gridcolor": "white",
            "linecolor": "white",
            "ticks": ""
           },
           "baxis": {
            "gridcolor": "white",
            "linecolor": "white",
            "ticks": ""
           },
           "bgcolor": "#E5ECF6",
           "caxis": {
            "gridcolor": "white",
            "linecolor": "white",
            "ticks": ""
           }
          },
          "title": {
           "x": 0.05
          },
          "xaxis": {
           "automargin": true,
           "gridcolor": "white",
           "linecolor": "white",
           "ticks": "",
           "title": {
            "standoff": 15
           },
           "zerolinecolor": "white",
           "zerolinewidth": 2
          },
          "yaxis": {
           "automargin": true,
           "gridcolor": "white",
           "linecolor": "white",
           "ticks": "",
           "title": {
            "standoff": 15
           },
           "zerolinecolor": "white",
           "zerolinewidth": 2
          }
         }
        },
        "xaxis": {
         "title": {
          "text": "Cout des réparations"
         }
        },
        "yaxis": {
         "title": {
          "text": "Composants"
         }
        }
       }
      }
     },
     "metadata": {},
     "output_type": "display_data"
    }
   ],
   "source": [
    "# Affichage bar plot\n",
    "\n",
    "df_barh_version_cout = df_barh_version.sort_values(by=['Occ_tot'])\n",
    "\n",
    "fig_cout = go.Figure()\n",
    "fig_cout.add_trace(go.Bar(\n",
    "    y=df_barh_version_cout['Comp'],\n",
    "    x=df_barh_version_cout['Cout_v1'],\n",
    "    name='v1',\n",
    "    orientation='h',\n",
    "    marker=dict(\n",
    "        color='rgba(118, 68, 138, 0.8)',\n",
    "        line=dict(color='rgba(118, 68, 138, 1.)', width=3)\n",
    "    )\n",
    "))\n",
    "fig_cout.add_trace(go.Bar(\n",
    "    y=df_barh_version_cout['Comp'],\n",
    "    x=df_barh_version_cout['Cout_v2'],\n",
    "    name='v2',\n",
    "    orientation='h',\n",
    "    marker=dict(\n",
    "        color='rgba(155, 89, 182, 0.8)',\n",
    "        line=dict(color='rgba(155, 89, 182, 1.)', width=3)\n",
    "    )\n",
    "))\n",
    "fig_cout.add_trace(go.Bar(\n",
    "    y=df_barh_version_cout['Comp'],\n",
    "    x=df_barh_version_cout['Cout_v3'],\n",
    "    text=df_barh_version_cout['Cout_tot'].astype(int),\n",
    "    textposition='outside',\n",
    "    name='v3',\n",
    "    orientation='h',\n",
    "    marker=dict(\n",
    "        color='rgba(195, 155, 211, 0.8)',\n",
    "        line=dict(color='rgba(195, 155, 211, 1.)', width=3)\n",
    "    )\n",
    "))\n",
    "\n",
    "fig_cout.update_layout(\n",
    "    xaxis_title=\"Cout des réparations\",\n",
    "    yaxis_title=\"Composants\",\n",
    "    barmode='stack')\n",
    "fig_cout.show()"
   ]
  },
  {
   "cell_type": "code",
   "execution_count": 309,
   "metadata": {},
   "outputs": [
    {
     "data": {
      "application/vnd.plotly.v1+json": {
       "config": {
        "plotlyServerURL": "https://plot.ly"
       },
       "data": [
        {
         "hovertemplate": "Composant=X1<br>Occurences=%{x}<br>Cout=%{y}<extra></extra>",
         "legendgroup": "X1",
         "marker": {
          "color": "#636efa",
          "symbol": "circle"
         },
         "mode": "markers",
         "name": "X1",
         "orientation": "v",
         "showlegend": true,
         "type": "scatter",
         "x": [
          25
         ],
         "xaxis": "x",
         "y": [
          1504.5800000000002
         ],
         "yaxis": "y"
        },
        {
         "hovertemplate": "Composant=X2<br>Occurences=%{x}<br>Cout=%{y}<extra></extra>",
         "legendgroup": "X2",
         "marker": {
          "color": "#EF553B",
          "symbol": "circle"
         },
         "mode": "markers",
         "name": "X2",
         "orientation": "v",
         "showlegend": true,
         "type": "scatter",
         "x": [
          11
         ],
         "xaxis": "x",
         "y": [
          745.1400000000001
         ],
         "yaxis": "y"
        },
        {
         "hovertemplate": "Composant=X3<br>Occurences=%{x}<br>Cout=%{y}<extra></extra>",
         "legendgroup": "X3",
         "marker": {
          "color": "#00cc96",
          "symbol": "circle"
         },
         "mode": "markers",
         "name": "X3",
         "orientation": "v",
         "showlegend": true,
         "type": "scatter",
         "x": [
          5
         ],
         "xaxis": "x",
         "y": [
          414.03999999999996
         ],
         "yaxis": "y"
        },
        {
         "hovertemplate": "Composant=X4<br>Occurences=%{x}<br>Cout=%{y}<extra></extra>",
         "legendgroup": "X4",
         "marker": {
          "color": "#ab63fa",
          "symbol": "circle"
         },
         "mode": "markers",
         "name": "X4",
         "orientation": "v",
         "showlegend": true,
         "type": "scatter",
         "x": [
          35
         ],
         "xaxis": "x",
         "y": [
          2025.1000000000006
         ],
         "yaxis": "y"
        },
        {
         "hovertemplate": "Composant=X5<br>Occurences=%{x}<br>Cout=%{y}<extra></extra>",
         "legendgroup": "X5",
         "marker": {
          "color": "#FFA15A",
          "symbol": "circle"
         },
         "mode": "markers",
         "name": "X5",
         "orientation": "v",
         "showlegend": true,
         "type": "scatter",
         "x": [
          6
         ],
         "xaxis": "x",
         "y": [
          119.68
         ],
         "yaxis": "y"
        },
        {
         "hovertemplate": "Composant=X6<br>Occurences=%{x}<br>Cout=%{y}<extra></extra>",
         "legendgroup": "X6",
         "marker": {
          "color": "#19d3f3",
          "symbol": "circle"
         },
         "mode": "markers",
         "name": "X6",
         "orientation": "v",
         "showlegend": true,
         "type": "scatter",
         "x": [
          35
         ],
         "xaxis": "x",
         "y": [
          1732.7200000000005
         ],
         "yaxis": "y"
        },
        {
         "hovertemplate": "Composant=X7<br>Occurences=%{x}<br>Cout=%{y}<extra></extra>",
         "legendgroup": "X7",
         "marker": {
          "color": "#FF6692",
          "symbol": "circle"
         },
         "mode": "markers",
         "name": "X7",
         "orientation": "v",
         "showlegend": true,
         "type": "scatter",
         "x": [
          13
         ],
         "xaxis": "x",
         "y": [
          381.70000000000005
         ],
         "yaxis": "y"
        },
        {
         "hovertemplate": "Composant=X8<br>Occurences=%{x}<br>Cout=%{y}<extra></extra>",
         "legendgroup": "X8",
         "marker": {
          "color": "#B6E880",
          "symbol": "circle"
         },
         "mode": "markers",
         "name": "X8",
         "orientation": "v",
         "showlegend": true,
         "type": "scatter",
         "x": [
          1
         ],
         "xaxis": "x",
         "y": [
          71.5
         ],
         "yaxis": "y"
        },
        {
         "hovertemplate": "Composant=X9<br>Occurences=%{x}<br>Cout=%{y}<extra></extra>",
         "legendgroup": "X9",
         "marker": {
          "color": "#FF97FF",
          "symbol": "circle"
         },
         "mode": "markers",
         "name": "X9",
         "orientation": "v",
         "showlegend": true,
         "type": "scatter",
         "x": [
          8
         ],
         "xaxis": "x",
         "y": [
          549.78
         ],
         "yaxis": "y"
        },
        {
         "hovertemplate": "Composant=X10<br>Occurences=%{x}<br>Cout=%{y}<extra></extra>",
         "legendgroup": "X10",
         "marker": {
          "color": "#FECB52",
          "symbol": "circle"
         },
         "mode": "markers",
         "name": "X10",
         "orientation": "v",
         "showlegend": true,
         "type": "scatter",
         "x": [
          6
         ],
         "xaxis": "x",
         "y": [
          212.08
         ],
         "yaxis": "y"
        },
        {
         "hovertemplate": "Composant=X11<br>Occurences=%{x}<br>Cout=%{y}<extra></extra>",
         "legendgroup": "X11",
         "marker": {
          "color": "#636efa",
          "symbol": "circle"
         },
         "mode": "markers",
         "name": "X11",
         "orientation": "v",
         "showlegend": true,
         "type": "scatter",
         "x": [
          3
         ],
         "xaxis": "x",
         "y": [
          130.46
         ],
         "yaxis": "y"
        },
        {
         "hovertemplate": "Composant=X12<br>Occurences=%{x}<br>Cout=%{y}<extra></extra>",
         "legendgroup": "X12",
         "marker": {
          "color": "#EF553B",
          "symbol": "circle"
         },
         "mode": "markers",
         "name": "X12",
         "orientation": "v",
         "showlegend": true,
         "type": "scatter",
         "x": [
          0
         ],
         "xaxis": "x",
         "y": [
          0
         ],
         "yaxis": "y"
        },
        {
         "hovertemplate": "Composant=X13<br>Occurences=%{x}<br>Cout=%{y}<extra></extra>",
         "legendgroup": "X13",
         "marker": {
          "color": "#00cc96",
          "symbol": "circle"
         },
         "mode": "markers",
         "name": "X13",
         "orientation": "v",
         "showlegend": true,
         "type": "scatter",
         "x": [
          4
         ],
         "xaxis": "x",
         "y": [
          217.79999999999998
         ],
         "yaxis": "y"
        },
        {
         "hovertemplate": "Composant=X14<br>Occurences=%{x}<br>Cout=%{y}<extra></extra>",
         "legendgroup": "X14",
         "marker": {
          "color": "#ab63fa",
          "symbol": "circle"
         },
         "mode": "markers",
         "name": "X14",
         "orientation": "v",
         "showlegend": true,
         "type": "scatter",
         "x": [
          22
         ],
         "xaxis": "x",
         "y": [
          1350.14
         ],
         "yaxis": "y"
        },
        {
         "hovertemplate": "Composant=X15<br>Occurences=%{x}<br>Cout=%{y}<extra></extra>",
         "legendgroup": "X15",
         "marker": {
          "color": "#FFA15A",
          "symbol": "circle"
         },
         "mode": "markers",
         "name": "X15",
         "orientation": "v",
         "showlegend": true,
         "type": "scatter",
         "x": [
          7
         ],
         "xaxis": "x",
         "y": [
          249.48
         ],
         "yaxis": "y"
        }
       ],
       "layout": {
        "legend": {
         "title": {
          "text": "Composant"
         },
         "tracegroupgap": 0
        },
        "margin": {
         "t": 60
        },
        "template": {
         "data": {
          "bar": [
           {
            "error_x": {
             "color": "#2a3f5f"
            },
            "error_y": {
             "color": "#2a3f5f"
            },
            "marker": {
             "line": {
              "color": "#E5ECF6",
              "width": 0.5
             },
             "pattern": {
              "fillmode": "overlay",
              "size": 10,
              "solidity": 0.2
             }
            },
            "type": "bar"
           }
          ],
          "barpolar": [
           {
            "marker": {
             "line": {
              "color": "#E5ECF6",
              "width": 0.5
             },
             "pattern": {
              "fillmode": "overlay",
              "size": 10,
              "solidity": 0.2
             }
            },
            "type": "barpolar"
           }
          ],
          "carpet": [
           {
            "aaxis": {
             "endlinecolor": "#2a3f5f",
             "gridcolor": "white",
             "linecolor": "white",
             "minorgridcolor": "white",
             "startlinecolor": "#2a3f5f"
            },
            "baxis": {
             "endlinecolor": "#2a3f5f",
             "gridcolor": "white",
             "linecolor": "white",
             "minorgridcolor": "white",
             "startlinecolor": "#2a3f5f"
            },
            "type": "carpet"
           }
          ],
          "choropleth": [
           {
            "colorbar": {
             "outlinewidth": 0,
             "ticks": ""
            },
            "type": "choropleth"
           }
          ],
          "contour": [
           {
            "colorbar": {
             "outlinewidth": 0,
             "ticks": ""
            },
            "colorscale": [
             [
              0,
              "#0d0887"
             ],
             [
              0.1111111111111111,
              "#46039f"
             ],
             [
              0.2222222222222222,
              "#7201a8"
             ],
             [
              0.3333333333333333,
              "#9c179e"
             ],
             [
              0.4444444444444444,
              "#bd3786"
             ],
             [
              0.5555555555555556,
              "#d8576b"
             ],
             [
              0.6666666666666666,
              "#ed7953"
             ],
             [
              0.7777777777777778,
              "#fb9f3a"
             ],
             [
              0.8888888888888888,
              "#fdca26"
             ],
             [
              1,
              "#f0f921"
             ]
            ],
            "type": "contour"
           }
          ],
          "contourcarpet": [
           {
            "colorbar": {
             "outlinewidth": 0,
             "ticks": ""
            },
            "type": "contourcarpet"
           }
          ],
          "heatmap": [
           {
            "colorbar": {
             "outlinewidth": 0,
             "ticks": ""
            },
            "colorscale": [
             [
              0,
              "#0d0887"
             ],
             [
              0.1111111111111111,
              "#46039f"
             ],
             [
              0.2222222222222222,
              "#7201a8"
             ],
             [
              0.3333333333333333,
              "#9c179e"
             ],
             [
              0.4444444444444444,
              "#bd3786"
             ],
             [
              0.5555555555555556,
              "#d8576b"
             ],
             [
              0.6666666666666666,
              "#ed7953"
             ],
             [
              0.7777777777777778,
              "#fb9f3a"
             ],
             [
              0.8888888888888888,
              "#fdca26"
             ],
             [
              1,
              "#f0f921"
             ]
            ],
            "type": "heatmap"
           }
          ],
          "heatmapgl": [
           {
            "colorbar": {
             "outlinewidth": 0,
             "ticks": ""
            },
            "colorscale": [
             [
              0,
              "#0d0887"
             ],
             [
              0.1111111111111111,
              "#46039f"
             ],
             [
              0.2222222222222222,
              "#7201a8"
             ],
             [
              0.3333333333333333,
              "#9c179e"
             ],
             [
              0.4444444444444444,
              "#bd3786"
             ],
             [
              0.5555555555555556,
              "#d8576b"
             ],
             [
              0.6666666666666666,
              "#ed7953"
             ],
             [
              0.7777777777777778,
              "#fb9f3a"
             ],
             [
              0.8888888888888888,
              "#fdca26"
             ],
             [
              1,
              "#f0f921"
             ]
            ],
            "type": "heatmapgl"
           }
          ],
          "histogram": [
           {
            "marker": {
             "pattern": {
              "fillmode": "overlay",
              "size": 10,
              "solidity": 0.2
             }
            },
            "type": "histogram"
           }
          ],
          "histogram2d": [
           {
            "colorbar": {
             "outlinewidth": 0,
             "ticks": ""
            },
            "colorscale": [
             [
              0,
              "#0d0887"
             ],
             [
              0.1111111111111111,
              "#46039f"
             ],
             [
              0.2222222222222222,
              "#7201a8"
             ],
             [
              0.3333333333333333,
              "#9c179e"
             ],
             [
              0.4444444444444444,
              "#bd3786"
             ],
             [
              0.5555555555555556,
              "#d8576b"
             ],
             [
              0.6666666666666666,
              "#ed7953"
             ],
             [
              0.7777777777777778,
              "#fb9f3a"
             ],
             [
              0.8888888888888888,
              "#fdca26"
             ],
             [
              1,
              "#f0f921"
             ]
            ],
            "type": "histogram2d"
           }
          ],
          "histogram2dcontour": [
           {
            "colorbar": {
             "outlinewidth": 0,
             "ticks": ""
            },
            "colorscale": [
             [
              0,
              "#0d0887"
             ],
             [
              0.1111111111111111,
              "#46039f"
             ],
             [
              0.2222222222222222,
              "#7201a8"
             ],
             [
              0.3333333333333333,
              "#9c179e"
             ],
             [
              0.4444444444444444,
              "#bd3786"
             ],
             [
              0.5555555555555556,
              "#d8576b"
             ],
             [
              0.6666666666666666,
              "#ed7953"
             ],
             [
              0.7777777777777778,
              "#fb9f3a"
             ],
             [
              0.8888888888888888,
              "#fdca26"
             ],
             [
              1,
              "#f0f921"
             ]
            ],
            "type": "histogram2dcontour"
           }
          ],
          "mesh3d": [
           {
            "colorbar": {
             "outlinewidth": 0,
             "ticks": ""
            },
            "type": "mesh3d"
           }
          ],
          "parcoords": [
           {
            "line": {
             "colorbar": {
              "outlinewidth": 0,
              "ticks": ""
             }
            },
            "type": "parcoords"
           }
          ],
          "pie": [
           {
            "automargin": true,
            "type": "pie"
           }
          ],
          "scatter": [
           {
            "marker": {
             "colorbar": {
              "outlinewidth": 0,
              "ticks": ""
             }
            },
            "type": "scatter"
           }
          ],
          "scatter3d": [
           {
            "line": {
             "colorbar": {
              "outlinewidth": 0,
              "ticks": ""
             }
            },
            "marker": {
             "colorbar": {
              "outlinewidth": 0,
              "ticks": ""
             }
            },
            "type": "scatter3d"
           }
          ],
          "scattercarpet": [
           {
            "marker": {
             "colorbar": {
              "outlinewidth": 0,
              "ticks": ""
             }
            },
            "type": "scattercarpet"
           }
          ],
          "scattergeo": [
           {
            "marker": {
             "colorbar": {
              "outlinewidth": 0,
              "ticks": ""
             }
            },
            "type": "scattergeo"
           }
          ],
          "scattergl": [
           {
            "marker": {
             "colorbar": {
              "outlinewidth": 0,
              "ticks": ""
             }
            },
            "type": "scattergl"
           }
          ],
          "scattermapbox": [
           {
            "marker": {
             "colorbar": {
              "outlinewidth": 0,
              "ticks": ""
             }
            },
            "type": "scattermapbox"
           }
          ],
          "scatterpolar": [
           {
            "marker": {
             "colorbar": {
              "outlinewidth": 0,
              "ticks": ""
             }
            },
            "type": "scatterpolar"
           }
          ],
          "scatterpolargl": [
           {
            "marker": {
             "colorbar": {
              "outlinewidth": 0,
              "ticks": ""
             }
            },
            "type": "scatterpolargl"
           }
          ],
          "scatterternary": [
           {
            "marker": {
             "colorbar": {
              "outlinewidth": 0,
              "ticks": ""
             }
            },
            "type": "scatterternary"
           }
          ],
          "surface": [
           {
            "colorbar": {
             "outlinewidth": 0,
             "ticks": ""
            },
            "colorscale": [
             [
              0,
              "#0d0887"
             ],
             [
              0.1111111111111111,
              "#46039f"
             ],
             [
              0.2222222222222222,
              "#7201a8"
             ],
             [
              0.3333333333333333,
              "#9c179e"
             ],
             [
              0.4444444444444444,
              "#bd3786"
             ],
             [
              0.5555555555555556,
              "#d8576b"
             ],
             [
              0.6666666666666666,
              "#ed7953"
             ],
             [
              0.7777777777777778,
              "#fb9f3a"
             ],
             [
              0.8888888888888888,
              "#fdca26"
             ],
             [
              1,
              "#f0f921"
             ]
            ],
            "type": "surface"
           }
          ],
          "table": [
           {
            "cells": {
             "fill": {
              "color": "#EBF0F8"
             },
             "line": {
              "color": "white"
             }
            },
            "header": {
             "fill": {
              "color": "#C8D4E3"
             },
             "line": {
              "color": "white"
             }
            },
            "type": "table"
           }
          ]
         },
         "layout": {
          "annotationdefaults": {
           "arrowcolor": "#2a3f5f",
           "arrowhead": 0,
           "arrowwidth": 1
          },
          "autotypenumbers": "strict",
          "coloraxis": {
           "colorbar": {
            "outlinewidth": 0,
            "ticks": ""
           }
          },
          "colorscale": {
           "diverging": [
            [
             0,
             "#8e0152"
            ],
            [
             0.1,
             "#c51b7d"
            ],
            [
             0.2,
             "#de77ae"
            ],
            [
             0.3,
             "#f1b6da"
            ],
            [
             0.4,
             "#fde0ef"
            ],
            [
             0.5,
             "#f7f7f7"
            ],
            [
             0.6,
             "#e6f5d0"
            ],
            [
             0.7,
             "#b8e186"
            ],
            [
             0.8,
             "#7fbc41"
            ],
            [
             0.9,
             "#4d9221"
            ],
            [
             1,
             "#276419"
            ]
           ],
           "sequential": [
            [
             0,
             "#0d0887"
            ],
            [
             0.1111111111111111,
             "#46039f"
            ],
            [
             0.2222222222222222,
             "#7201a8"
            ],
            [
             0.3333333333333333,
             "#9c179e"
            ],
            [
             0.4444444444444444,
             "#bd3786"
            ],
            [
             0.5555555555555556,
             "#d8576b"
            ],
            [
             0.6666666666666666,
             "#ed7953"
            ],
            [
             0.7777777777777778,
             "#fb9f3a"
            ],
            [
             0.8888888888888888,
             "#fdca26"
            ],
            [
             1,
             "#f0f921"
            ]
           ],
           "sequentialminus": [
            [
             0,
             "#0d0887"
            ],
            [
             0.1111111111111111,
             "#46039f"
            ],
            [
             0.2222222222222222,
             "#7201a8"
            ],
            [
             0.3333333333333333,
             "#9c179e"
            ],
            [
             0.4444444444444444,
             "#bd3786"
            ],
            [
             0.5555555555555556,
             "#d8576b"
            ],
            [
             0.6666666666666666,
             "#ed7953"
            ],
            [
             0.7777777777777778,
             "#fb9f3a"
            ],
            [
             0.8888888888888888,
             "#fdca26"
            ],
            [
             1,
             "#f0f921"
            ]
           ]
          },
          "colorway": [
           "#636efa",
           "#EF553B",
           "#00cc96",
           "#ab63fa",
           "#FFA15A",
           "#19d3f3",
           "#FF6692",
           "#B6E880",
           "#FF97FF",
           "#FECB52"
          ],
          "font": {
           "color": "#2a3f5f"
          },
          "geo": {
           "bgcolor": "white",
           "lakecolor": "white",
           "landcolor": "#E5ECF6",
           "showlakes": true,
           "showland": true,
           "subunitcolor": "white"
          },
          "hoverlabel": {
           "align": "left"
          },
          "hovermode": "closest",
          "mapbox": {
           "style": "light"
          },
          "paper_bgcolor": "white",
          "plot_bgcolor": "#E5ECF6",
          "polar": {
           "angularaxis": {
            "gridcolor": "white",
            "linecolor": "white",
            "ticks": ""
           },
           "bgcolor": "#E5ECF6",
           "radialaxis": {
            "gridcolor": "white",
            "linecolor": "white",
            "ticks": ""
           }
          },
          "scene": {
           "xaxis": {
            "backgroundcolor": "#E5ECF6",
            "gridcolor": "white",
            "gridwidth": 2,
            "linecolor": "white",
            "showbackground": true,
            "ticks": "",
            "zerolinecolor": "white"
           },
           "yaxis": {
            "backgroundcolor": "#E5ECF6",
            "gridcolor": "white",
            "gridwidth": 2,
            "linecolor": "white",
            "showbackground": true,
            "ticks": "",
            "zerolinecolor": "white"
           },
           "zaxis": {
            "backgroundcolor": "#E5ECF6",
            "gridcolor": "white",
            "gridwidth": 2,
            "linecolor": "white",
            "showbackground": true,
            "ticks": "",
            "zerolinecolor": "white"
           }
          },
          "shapedefaults": {
           "line": {
            "color": "#2a3f5f"
           }
          },
          "ternary": {
           "aaxis": {
            "gridcolor": "white",
            "linecolor": "white",
            "ticks": ""
           },
           "baxis": {
            "gridcolor": "white",
            "linecolor": "white",
            "ticks": ""
           },
           "bgcolor": "#E5ECF6",
           "caxis": {
            "gridcolor": "white",
            "linecolor": "white",
            "ticks": ""
           }
          },
          "title": {
           "x": 0.05
          },
          "xaxis": {
           "automargin": true,
           "gridcolor": "white",
           "linecolor": "white",
           "ticks": "",
           "title": {
            "standoff": 15
           },
           "zerolinecolor": "white",
           "zerolinewidth": 2
          },
          "yaxis": {
           "automargin": true,
           "gridcolor": "white",
           "linecolor": "white",
           "ticks": "",
           "title": {
            "standoff": 15
           },
           "zerolinecolor": "white",
           "zerolinewidth": 2
          }
         }
        },
        "xaxis": {
         "anchor": "y",
         "domain": [
          0,
          1
         ],
         "title": {
          "text": "Occurences"
         }
        },
        "yaxis": {
         "anchor": "x",
         "domain": [
          0,
          1
         ],
         "title": {
          "text": "Cout"
         }
        }
       }
      }
     },
     "metadata": {},
     "output_type": "display_data"
    }
   ],
   "source": [
    "fig = px.scatter(df_barh, x=\"Occ\", y=\"Cout\", color=\"Comp\",\n",
    "                labels={\n",
    "                     \"Occ\": \"Occurences\",\n",
    "                     \"Cout\": \"Cout\",\n",
    "                     \"Comp\": \"Composant\"\n",
    "                 })\n",
    "fig.show()"
   ]
  },
  {
   "cell_type": "markdown",
   "metadata": {},
   "source": [
    "#### 3.2 Modèle linéaire"
   ]
  },
  {
   "cell_type": "code",
   "execution_count": 310,
   "metadata": {},
   "outputs": [
    {
     "data": {
      "application/vnd.plotly.v1+json": {
       "config": {
        "plotlyServerURL": "https://plot.ly"
       },
       "data": [
        {
         "hovertemplate": "occurences=%{x}<br>modèle=%{y}<extra></extra>",
         "legendgroup": "",
         "line": {
          "color": "#636efa",
          "dash": "solid"
         },
         "marker": {
          "symbol": "circle"
         },
         "mode": "lines",
         "name": "",
         "orientation": "v",
         "showlegend": false,
         "type": "scatter",
         "x": [
          0,
          0.35353535353535354,
          0.7070707070707071,
          1.0606060606060606,
          1.4141414141414141,
          1.7676767676767677,
          2.121212121212121,
          2.474747474747475,
          2.8282828282828283,
          3.1818181818181817,
          3.5353535353535355,
          3.888888888888889,
          4.242424242424242,
          4.595959595959596,
          4.94949494949495,
          5.303030303030303,
          5.656565656565657,
          6.01010101010101,
          6.363636363636363,
          6.717171717171717,
          7.070707070707071,
          7.424242424242424,
          7.777777777777778,
          8.131313131313131,
          8.484848484848484,
          8.83838383838384,
          9.191919191919192,
          9.545454545454545,
          9.8989898989899,
          10.252525252525253,
          10.606060606060606,
          10.95959595959596,
          11.313131313131313,
          11.666666666666666,
          12.02020202020202,
          12.373737373737374,
          12.727272727272727,
          13.080808080808081,
          13.434343434343434,
          13.787878787878787,
          14.141414141414142,
          14.494949494949495,
          14.848484848484848,
          15.202020202020202,
          15.555555555555555,
          15.909090909090908,
          16.262626262626263,
          16.616161616161616,
          16.96969696969697,
          17.32323232323232,
          17.67676767676768,
          18.03030303030303,
          18.383838383838384,
          18.737373737373737,
          19.09090909090909,
          19.444444444444443,
          19.7979797979798,
          20.151515151515152,
          20.505050505050505,
          20.858585858585858,
          21.21212121212121,
          21.565656565656564,
          21.91919191919192,
          22.272727272727273,
          22.626262626262626,
          22.97979797979798,
          23.333333333333332,
          23.68686868686869,
          24.04040404040404,
          24.393939393939394,
          24.747474747474747,
          25.1010101010101,
          25.454545454545453,
          25.80808080808081,
          26.161616161616163,
          26.515151515151516,
          26.86868686868687,
          27.22222222222222,
          27.575757575757574,
          27.92929292929293,
          28.282828282828284,
          28.636363636363637,
          28.98989898989899,
          29.343434343434343,
          29.696969696969695,
          30.050505050505052,
          30.404040404040405,
          30.757575757575758,
          31.11111111111111,
          31.464646464646464,
          31.818181818181817,
          32.17171717171717,
          32.525252525252526,
          32.878787878787875,
          33.23232323232323,
          33.58585858585859,
          33.93939393939394,
          34.292929292929294,
          34.64646464646464,
          35
         ],
         "xaxis": "x",
         "y": [
          -28.72158097776571,
          -8.925508093490528,
          10.870564790784655,
          30.66663767505983,
          50.46271055933502,
          70.25878344361021,
          90.05485632788537,
          109.85092921216057,
          129.64700209643576,
          149.44307498071092,
          169.23914786498614,
          189.0352207492613,
          208.83129363353646,
          228.62736651781165,
          248.42343940208684,
          268.21951228636203,
          288.0155851706372,
          307.8116580549124,
          327.60773093918755,
          347.40380382346274,
          367.199876707738,
          386.9959495920131,
          406.7920224762883,
          426.5880953605635,
          446.38416824483863,
          466.1802411291139,
          485.976314013389,
          505.7723868976642,
          525.5684597819394,
          545.3645326662146,
          565.1606055504898,
          584.956678434765,
          604.7527513190402,
          624.5488242033153,
          644.3448970875905,
          664.1409699718657,
          683.9370428561408,
          703.7331157404161,
          723.5291886246912,
          743.3252615089664,
          763.1213343932417,
          782.9174072775168,
          802.713480161792,
          822.5095530460671,
          842.3056259303423,
          862.1016988146175,
          881.8977716988927,
          901.6938445831679,
          921.489917467443,
          941.2859903517182,
          961.0820632359935,
          980.8781361202687,
          1000.6742090045437,
          1020.4702818888189,
          1040.266354773094,
          1060.0624276573694,
          1079.8585005416444,
          1099.6545734259198,
          1119.4506463101948,
          1139.2467191944702,
          1159.0427920787452,
          1178.8388649630206,
          1198.6349378472955,
          1218.431010731571,
          1238.227083615846,
          1258.0231565001213,
          1277.8192293843963,
          1297.6153022686717,
          1317.4113751529467,
          1337.207448037222,
          1357.003520921497,
          1376.799593805772,
          1396.5956666900474,
          1416.3917395743229,
          1436.1878124585978,
          1455.9838853428732,
          1475.7799582271482,
          1495.5760311114232,
          1515.3721039956986,
          1535.168176879974,
          1554.964249764249,
          1574.760322648524,
          1594.5563955327993,
          1614.3524684170743,
          1634.1485413013497,
          1653.9446141856251,
          1673.7406870699,
          1693.536759954175,
          1713.3328328384505,
          1733.1289057227254,
          1752.9249786070009,
          1772.7210514912758,
          1792.5171243755512,
          1812.3131972598262,
          1832.1092701441016,
          1851.9053430283766,
          1871.7014159126516,
          1891.497488796927,
          1911.293561681202,
          1931.0896345654774
         ],
         "yaxis": "y"
        },
        {
         "hovertemplate": "Composant=X1<br>Occurences=%{x}<br>Cout=%{y}<extra></extra>",
         "legendgroup": "X1",
         "marker": {
          "color": "#636efa",
          "symbol": "circle"
         },
         "mode": "markers",
         "name": "X1",
         "orientation": "v",
         "showlegend": true,
         "type": "scatter",
         "x": [
          25
         ],
         "xaxis": "x",
         "y": [
          1504.5800000000002
         ],
         "yaxis": "y"
        },
        {
         "hovertemplate": "Composant=X2<br>Occurences=%{x}<br>Cout=%{y}<extra></extra>",
         "legendgroup": "X2",
         "marker": {
          "color": "#EF553B",
          "symbol": "circle"
         },
         "mode": "markers",
         "name": "X2",
         "orientation": "v",
         "showlegend": true,
         "type": "scatter",
         "x": [
          11
         ],
         "xaxis": "x",
         "y": [
          745.1400000000001
         ],
         "yaxis": "y"
        },
        {
         "hovertemplate": "Composant=X3<br>Occurences=%{x}<br>Cout=%{y}<extra></extra>",
         "legendgroup": "X3",
         "marker": {
          "color": "#00cc96",
          "symbol": "circle"
         },
         "mode": "markers",
         "name": "X3",
         "orientation": "v",
         "showlegend": true,
         "type": "scatter",
         "x": [
          5
         ],
         "xaxis": "x",
         "y": [
          414.03999999999996
         ],
         "yaxis": "y"
        },
        {
         "hovertemplate": "Composant=X4<br>Occurences=%{x}<br>Cout=%{y}<extra></extra>",
         "legendgroup": "X4",
         "marker": {
          "color": "#ab63fa",
          "symbol": "circle"
         },
         "mode": "markers",
         "name": "X4",
         "orientation": "v",
         "showlegend": true,
         "type": "scatter",
         "x": [
          35
         ],
         "xaxis": "x",
         "y": [
          2025.1000000000006
         ],
         "yaxis": "y"
        },
        {
         "hovertemplate": "Composant=X5<br>Occurences=%{x}<br>Cout=%{y}<extra></extra>",
         "legendgroup": "X5",
         "marker": {
          "color": "#FFA15A",
          "symbol": "circle"
         },
         "mode": "markers",
         "name": "X5",
         "orientation": "v",
         "showlegend": true,
         "type": "scatter",
         "x": [
          6
         ],
         "xaxis": "x",
         "y": [
          119.68
         ],
         "yaxis": "y"
        },
        {
         "hovertemplate": "Composant=X6<br>Occurences=%{x}<br>Cout=%{y}<extra></extra>",
         "legendgroup": "X6",
         "marker": {
          "color": "#19d3f3",
          "symbol": "circle"
         },
         "mode": "markers",
         "name": "X6",
         "orientation": "v",
         "showlegend": true,
         "type": "scatter",
         "x": [
          35
         ],
         "xaxis": "x",
         "y": [
          1732.7200000000005
         ],
         "yaxis": "y"
        },
        {
         "hovertemplate": "Composant=X7<br>Occurences=%{x}<br>Cout=%{y}<extra></extra>",
         "legendgroup": "X7",
         "marker": {
          "color": "#FF6692",
          "symbol": "circle"
         },
         "mode": "markers",
         "name": "X7",
         "orientation": "v",
         "showlegend": true,
         "type": "scatter",
         "x": [
          13
         ],
         "xaxis": "x",
         "y": [
          381.70000000000005
         ],
         "yaxis": "y"
        },
        {
         "hovertemplate": "Composant=X8<br>Occurences=%{x}<br>Cout=%{y}<extra></extra>",
         "legendgroup": "X8",
         "marker": {
          "color": "#B6E880",
          "symbol": "circle"
         },
         "mode": "markers",
         "name": "X8",
         "orientation": "v",
         "showlegend": true,
         "type": "scatter",
         "x": [
          1
         ],
         "xaxis": "x",
         "y": [
          71.5
         ],
         "yaxis": "y"
        },
        {
         "hovertemplate": "Composant=X9<br>Occurences=%{x}<br>Cout=%{y}<extra></extra>",
         "legendgroup": "X9",
         "marker": {
          "color": "#FF97FF",
          "symbol": "circle"
         },
         "mode": "markers",
         "name": "X9",
         "orientation": "v",
         "showlegend": true,
         "type": "scatter",
         "x": [
          8
         ],
         "xaxis": "x",
         "y": [
          549.78
         ],
         "yaxis": "y"
        },
        {
         "hovertemplate": "Composant=X10<br>Occurences=%{x}<br>Cout=%{y}<extra></extra>",
         "legendgroup": "X10",
         "marker": {
          "color": "#FECB52",
          "symbol": "circle"
         },
         "mode": "markers",
         "name": "X10",
         "orientation": "v",
         "showlegend": true,
         "type": "scatter",
         "x": [
          6
         ],
         "xaxis": "x",
         "y": [
          212.08
         ],
         "yaxis": "y"
        },
        {
         "hovertemplate": "Composant=X11<br>Occurences=%{x}<br>Cout=%{y}<extra></extra>",
         "legendgroup": "X11",
         "marker": {
          "color": "#636efa",
          "symbol": "circle"
         },
         "mode": "markers",
         "name": "X11",
         "orientation": "v",
         "showlegend": true,
         "type": "scatter",
         "x": [
          3
         ],
         "xaxis": "x",
         "y": [
          130.46
         ],
         "yaxis": "y"
        },
        {
         "hovertemplate": "Composant=X12<br>Occurences=%{x}<br>Cout=%{y}<extra></extra>",
         "legendgroup": "X12",
         "marker": {
          "color": "#EF553B",
          "symbol": "circle"
         },
         "mode": "markers",
         "name": "X12",
         "orientation": "v",
         "showlegend": true,
         "type": "scatter",
         "x": [
          0
         ],
         "xaxis": "x",
         "y": [
          0
         ],
         "yaxis": "y"
        },
        {
         "hovertemplate": "Composant=X13<br>Occurences=%{x}<br>Cout=%{y}<extra></extra>",
         "legendgroup": "X13",
         "marker": {
          "color": "#00cc96",
          "symbol": "circle"
         },
         "mode": "markers",
         "name": "X13",
         "orientation": "v",
         "showlegend": true,
         "type": "scatter",
         "x": [
          4
         ],
         "xaxis": "x",
         "y": [
          217.79999999999998
         ],
         "yaxis": "y"
        },
        {
         "hovertemplate": "Composant=X14<br>Occurences=%{x}<br>Cout=%{y}<extra></extra>",
         "legendgroup": "X14",
         "marker": {
          "color": "#ab63fa",
          "symbol": "circle"
         },
         "mode": "markers",
         "name": "X14",
         "orientation": "v",
         "showlegend": true,
         "type": "scatter",
         "x": [
          22
         ],
         "xaxis": "x",
         "y": [
          1350.14
         ],
         "yaxis": "y"
        },
        {
         "hovertemplate": "Composant=X15<br>Occurences=%{x}<br>Cout=%{y}<extra></extra>",
         "legendgroup": "X15",
         "marker": {
          "color": "#FFA15A",
          "symbol": "circle"
         },
         "mode": "markers",
         "name": "X15",
         "orientation": "v",
         "showlegend": true,
         "type": "scatter",
         "x": [
          7
         ],
         "xaxis": "x",
         "y": [
          249.48
         ],
         "yaxis": "y"
        }
       ],
       "layout": {
        "template": {
         "data": {
          "bar": [
           {
            "error_x": {
             "color": "#2a3f5f"
            },
            "error_y": {
             "color": "#2a3f5f"
            },
            "marker": {
             "line": {
              "color": "#E5ECF6",
              "width": 0.5
             },
             "pattern": {
              "fillmode": "overlay",
              "size": 10,
              "solidity": 0.2
             }
            },
            "type": "bar"
           }
          ],
          "barpolar": [
           {
            "marker": {
             "line": {
              "color": "#E5ECF6",
              "width": 0.5
             },
             "pattern": {
              "fillmode": "overlay",
              "size": 10,
              "solidity": 0.2
             }
            },
            "type": "barpolar"
           }
          ],
          "carpet": [
           {
            "aaxis": {
             "endlinecolor": "#2a3f5f",
             "gridcolor": "white",
             "linecolor": "white",
             "minorgridcolor": "white",
             "startlinecolor": "#2a3f5f"
            },
            "baxis": {
             "endlinecolor": "#2a3f5f",
             "gridcolor": "white",
             "linecolor": "white",
             "minorgridcolor": "white",
             "startlinecolor": "#2a3f5f"
            },
            "type": "carpet"
           }
          ],
          "choropleth": [
           {
            "colorbar": {
             "outlinewidth": 0,
             "ticks": ""
            },
            "type": "choropleth"
           }
          ],
          "contour": [
           {
            "colorbar": {
             "outlinewidth": 0,
             "ticks": ""
            },
            "colorscale": [
             [
              0,
              "#0d0887"
             ],
             [
              0.1111111111111111,
              "#46039f"
             ],
             [
              0.2222222222222222,
              "#7201a8"
             ],
             [
              0.3333333333333333,
              "#9c179e"
             ],
             [
              0.4444444444444444,
              "#bd3786"
             ],
             [
              0.5555555555555556,
              "#d8576b"
             ],
             [
              0.6666666666666666,
              "#ed7953"
             ],
             [
              0.7777777777777778,
              "#fb9f3a"
             ],
             [
              0.8888888888888888,
              "#fdca26"
             ],
             [
              1,
              "#f0f921"
             ]
            ],
            "type": "contour"
           }
          ],
          "contourcarpet": [
           {
            "colorbar": {
             "outlinewidth": 0,
             "ticks": ""
            },
            "type": "contourcarpet"
           }
          ],
          "heatmap": [
           {
            "colorbar": {
             "outlinewidth": 0,
             "ticks": ""
            },
            "colorscale": [
             [
              0,
              "#0d0887"
             ],
             [
              0.1111111111111111,
              "#46039f"
             ],
             [
              0.2222222222222222,
              "#7201a8"
             ],
             [
              0.3333333333333333,
              "#9c179e"
             ],
             [
              0.4444444444444444,
              "#bd3786"
             ],
             [
              0.5555555555555556,
              "#d8576b"
             ],
             [
              0.6666666666666666,
              "#ed7953"
             ],
             [
              0.7777777777777778,
              "#fb9f3a"
             ],
             [
              0.8888888888888888,
              "#fdca26"
             ],
             [
              1,
              "#f0f921"
             ]
            ],
            "type": "heatmap"
           }
          ],
          "heatmapgl": [
           {
            "colorbar": {
             "outlinewidth": 0,
             "ticks": ""
            },
            "colorscale": [
             [
              0,
              "#0d0887"
             ],
             [
              0.1111111111111111,
              "#46039f"
             ],
             [
              0.2222222222222222,
              "#7201a8"
             ],
             [
              0.3333333333333333,
              "#9c179e"
             ],
             [
              0.4444444444444444,
              "#bd3786"
             ],
             [
              0.5555555555555556,
              "#d8576b"
             ],
             [
              0.6666666666666666,
              "#ed7953"
             ],
             [
              0.7777777777777778,
              "#fb9f3a"
             ],
             [
              0.8888888888888888,
              "#fdca26"
             ],
             [
              1,
              "#f0f921"
             ]
            ],
            "type": "heatmapgl"
           }
          ],
          "histogram": [
           {
            "marker": {
             "pattern": {
              "fillmode": "overlay",
              "size": 10,
              "solidity": 0.2
             }
            },
            "type": "histogram"
           }
          ],
          "histogram2d": [
           {
            "colorbar": {
             "outlinewidth": 0,
             "ticks": ""
            },
            "colorscale": [
             [
              0,
              "#0d0887"
             ],
             [
              0.1111111111111111,
              "#46039f"
             ],
             [
              0.2222222222222222,
              "#7201a8"
             ],
             [
              0.3333333333333333,
              "#9c179e"
             ],
             [
              0.4444444444444444,
              "#bd3786"
             ],
             [
              0.5555555555555556,
              "#d8576b"
             ],
             [
              0.6666666666666666,
              "#ed7953"
             ],
             [
              0.7777777777777778,
              "#fb9f3a"
             ],
             [
              0.8888888888888888,
              "#fdca26"
             ],
             [
              1,
              "#f0f921"
             ]
            ],
            "type": "histogram2d"
           }
          ],
          "histogram2dcontour": [
           {
            "colorbar": {
             "outlinewidth": 0,
             "ticks": ""
            },
            "colorscale": [
             [
              0,
              "#0d0887"
             ],
             [
              0.1111111111111111,
              "#46039f"
             ],
             [
              0.2222222222222222,
              "#7201a8"
             ],
             [
              0.3333333333333333,
              "#9c179e"
             ],
             [
              0.4444444444444444,
              "#bd3786"
             ],
             [
              0.5555555555555556,
              "#d8576b"
             ],
             [
              0.6666666666666666,
              "#ed7953"
             ],
             [
              0.7777777777777778,
              "#fb9f3a"
             ],
             [
              0.8888888888888888,
              "#fdca26"
             ],
             [
              1,
              "#f0f921"
             ]
            ],
            "type": "histogram2dcontour"
           }
          ],
          "mesh3d": [
           {
            "colorbar": {
             "outlinewidth": 0,
             "ticks": ""
            },
            "type": "mesh3d"
           }
          ],
          "parcoords": [
           {
            "line": {
             "colorbar": {
              "outlinewidth": 0,
              "ticks": ""
             }
            },
            "type": "parcoords"
           }
          ],
          "pie": [
           {
            "automargin": true,
            "type": "pie"
           }
          ],
          "scatter": [
           {
            "marker": {
             "colorbar": {
              "outlinewidth": 0,
              "ticks": ""
             }
            },
            "type": "scatter"
           }
          ],
          "scatter3d": [
           {
            "line": {
             "colorbar": {
              "outlinewidth": 0,
              "ticks": ""
             }
            },
            "marker": {
             "colorbar": {
              "outlinewidth": 0,
              "ticks": ""
             }
            },
            "type": "scatter3d"
           }
          ],
          "scattercarpet": [
           {
            "marker": {
             "colorbar": {
              "outlinewidth": 0,
              "ticks": ""
             }
            },
            "type": "scattercarpet"
           }
          ],
          "scattergeo": [
           {
            "marker": {
             "colorbar": {
              "outlinewidth": 0,
              "ticks": ""
             }
            },
            "type": "scattergeo"
           }
          ],
          "scattergl": [
           {
            "marker": {
             "colorbar": {
              "outlinewidth": 0,
              "ticks": ""
             }
            },
            "type": "scattergl"
           }
          ],
          "scattermapbox": [
           {
            "marker": {
             "colorbar": {
              "outlinewidth": 0,
              "ticks": ""
             }
            },
            "type": "scattermapbox"
           }
          ],
          "scatterpolar": [
           {
            "marker": {
             "colorbar": {
              "outlinewidth": 0,
              "ticks": ""
             }
            },
            "type": "scatterpolar"
           }
          ],
          "scatterpolargl": [
           {
            "marker": {
             "colorbar": {
              "outlinewidth": 0,
              "ticks": ""
             }
            },
            "type": "scatterpolargl"
           }
          ],
          "scatterternary": [
           {
            "marker": {
             "colorbar": {
              "outlinewidth": 0,
              "ticks": ""
             }
            },
            "type": "scatterternary"
           }
          ],
          "surface": [
           {
            "colorbar": {
             "outlinewidth": 0,
             "ticks": ""
            },
            "colorscale": [
             [
              0,
              "#0d0887"
             ],
             [
              0.1111111111111111,
              "#46039f"
             ],
             [
              0.2222222222222222,
              "#7201a8"
             ],
             [
              0.3333333333333333,
              "#9c179e"
             ],
             [
              0.4444444444444444,
              "#bd3786"
             ],
             [
              0.5555555555555556,
              "#d8576b"
             ],
             [
              0.6666666666666666,
              "#ed7953"
             ],
             [
              0.7777777777777778,
              "#fb9f3a"
             ],
             [
              0.8888888888888888,
              "#fdca26"
             ],
             [
              1,
              "#f0f921"
             ]
            ],
            "type": "surface"
           }
          ],
          "table": [
           {
            "cells": {
             "fill": {
              "color": "#EBF0F8"
             },
             "line": {
              "color": "white"
             }
            },
            "header": {
             "fill": {
              "color": "#C8D4E3"
             },
             "line": {
              "color": "white"
             }
            },
            "type": "table"
           }
          ]
         },
         "layout": {
          "annotationdefaults": {
           "arrowcolor": "#2a3f5f",
           "arrowhead": 0,
           "arrowwidth": 1
          },
          "autotypenumbers": "strict",
          "coloraxis": {
           "colorbar": {
            "outlinewidth": 0,
            "ticks": ""
           }
          },
          "colorscale": {
           "diverging": [
            [
             0,
             "#8e0152"
            ],
            [
             0.1,
             "#c51b7d"
            ],
            [
             0.2,
             "#de77ae"
            ],
            [
             0.3,
             "#f1b6da"
            ],
            [
             0.4,
             "#fde0ef"
            ],
            [
             0.5,
             "#f7f7f7"
            ],
            [
             0.6,
             "#e6f5d0"
            ],
            [
             0.7,
             "#b8e186"
            ],
            [
             0.8,
             "#7fbc41"
            ],
            [
             0.9,
             "#4d9221"
            ],
            [
             1,
             "#276419"
            ]
           ],
           "sequential": [
            [
             0,
             "#0d0887"
            ],
            [
             0.1111111111111111,
             "#46039f"
            ],
            [
             0.2222222222222222,
             "#7201a8"
            ],
            [
             0.3333333333333333,
             "#9c179e"
            ],
            [
             0.4444444444444444,
             "#bd3786"
            ],
            [
             0.5555555555555556,
             "#d8576b"
            ],
            [
             0.6666666666666666,
             "#ed7953"
            ],
            [
             0.7777777777777778,
             "#fb9f3a"
            ],
            [
             0.8888888888888888,
             "#fdca26"
            ],
            [
             1,
             "#f0f921"
            ]
           ],
           "sequentialminus": [
            [
             0,
             "#0d0887"
            ],
            [
             0.1111111111111111,
             "#46039f"
            ],
            [
             0.2222222222222222,
             "#7201a8"
            ],
            [
             0.3333333333333333,
             "#9c179e"
            ],
            [
             0.4444444444444444,
             "#bd3786"
            ],
            [
             0.5555555555555556,
             "#d8576b"
            ],
            [
             0.6666666666666666,
             "#ed7953"
            ],
            [
             0.7777777777777778,
             "#fb9f3a"
            ],
            [
             0.8888888888888888,
             "#fdca26"
            ],
            [
             1,
             "#f0f921"
            ]
           ]
          },
          "colorway": [
           "#636efa",
           "#EF553B",
           "#00cc96",
           "#ab63fa",
           "#FFA15A",
           "#19d3f3",
           "#FF6692",
           "#B6E880",
           "#FF97FF",
           "#FECB52"
          ],
          "font": {
           "color": "#2a3f5f"
          },
          "geo": {
           "bgcolor": "white",
           "lakecolor": "white",
           "landcolor": "#E5ECF6",
           "showlakes": true,
           "showland": true,
           "subunitcolor": "white"
          },
          "hoverlabel": {
           "align": "left"
          },
          "hovermode": "closest",
          "mapbox": {
           "style": "light"
          },
          "paper_bgcolor": "white",
          "plot_bgcolor": "#E5ECF6",
          "polar": {
           "angularaxis": {
            "gridcolor": "white",
            "linecolor": "white",
            "ticks": ""
           },
           "bgcolor": "#E5ECF6",
           "radialaxis": {
            "gridcolor": "white",
            "linecolor": "white",
            "ticks": ""
           }
          },
          "scene": {
           "xaxis": {
            "backgroundcolor": "#E5ECF6",
            "gridcolor": "white",
            "gridwidth": 2,
            "linecolor": "white",
            "showbackground": true,
            "ticks": "",
            "zerolinecolor": "white"
           },
           "yaxis": {
            "backgroundcolor": "#E5ECF6",
            "gridcolor": "white",
            "gridwidth": 2,
            "linecolor": "white",
            "showbackground": true,
            "ticks": "",
            "zerolinecolor": "white"
           },
           "zaxis": {
            "backgroundcolor": "#E5ECF6",
            "gridcolor": "white",
            "gridwidth": 2,
            "linecolor": "white",
            "showbackground": true,
            "ticks": "",
            "zerolinecolor": "white"
           }
          },
          "shapedefaults": {
           "line": {
            "color": "#2a3f5f"
           }
          },
          "ternary": {
           "aaxis": {
            "gridcolor": "white",
            "linecolor": "white",
            "ticks": ""
           },
           "baxis": {
            "gridcolor": "white",
            "linecolor": "white",
            "ticks": ""
           },
           "bgcolor": "#E5ECF6",
           "caxis": {
            "gridcolor": "white",
            "linecolor": "white",
            "ticks": ""
           }
          },
          "title": {
           "x": 0.05
          },
          "xaxis": {
           "automargin": true,
           "gridcolor": "white",
           "linecolor": "white",
           "ticks": "",
           "title": {
            "standoff": 15
           },
           "zerolinecolor": "white",
           "zerolinewidth": 2
          },
          "yaxis": {
           "automargin": true,
           "gridcolor": "white",
           "linecolor": "white",
           "ticks": "",
           "title": {
            "standoff": 15
           },
           "zerolinecolor": "white",
           "zerolinewidth": 2
          }
         }
        },
        "xaxis": {
         "title": {
          "text": "Occurences"
         }
        },
        "yaxis": {
         "title": {
          "text": "Cout"
         }
        }
       }
      }
     },
     "metadata": {},
     "output_type": "display_data"
    }
   ],
   "source": [
    "# Régression linéaire \n",
    "x = np.array(df_barh['Occ'])\n",
    "y = np.array(df_barh['Cout'])\n",
    "\n",
    "coef_directeur, ordonne_ao, corr, p_value, err = stats.linregress(x, y)\n",
    "\n",
    "x_occ = np.linspace(0,35,100)\n",
    "fig1 = px.line(x=x_occ, y= coef_directeur*x_occ + ordonne_ao, labels={'x':'occurences', 'y':'modèle'})\n",
    "fig2 = px.scatter(df_barh, x=\"Occ\", y=\"Cout\", color=\"Comp\", labels={\n",
    "                     \"Occ\": \"Occurences\",\n",
    "                     \"Cout\": \"Cout\",\n",
    "                     \"Comp\": \"Composant\"\n",
    "                 })\n",
    "fig = go.Figure(data=fig1.data + fig2.data)\n",
    "fig.update_layout(\n",
    "    xaxis_title='Occurences',\n",
    "    yaxis_title='Cout'\n",
    ")\n",
    "fig.show()\n"
   ]
  },
  {
   "cell_type": "markdown",
   "metadata": {},
   "source": [
    "#### 3.3 Éléments du modèle"
   ]
  },
  {
   "cell_type": "code",
   "execution_count": 311,
   "metadata": {},
   "outputs": [
    {
     "name": "stdout",
     "output_type": "stream",
     "text": [
      "Coefficient directeur : \n",
      "55.994606158378375\n",
      "Ordonnée à l'origine : \n",
      "-28.72158097776571\n",
      "Correlation : \n",
      "0.9743889244768242\n",
      "p-value : \n",
      "8.345558229892926e-10\n",
      "R^2 : \n",
      "0.9494337761431023\n"
     ]
    }
   ],
   "source": [
    "print(\"Coefficient directeur : \")\n",
    "print(coef_directeur)\n",
    "print(\"Ordonnée à l'origine : \")\n",
    "print(ordonne_ao)\n",
    "print(\"Correlation : \")\n",
    "print(corr)\n",
    "print(\"p-value : \")\n",
    "print(p_value)\n",
    "print(\"R^2 : \")\n",
    "print(corr**2)"
   ]
  },
  {
   "cell_type": "markdown",
   "metadata": {},
   "source": [
    "## Etape 4 : Existe-t-il un lien entre le nombre de pannes dans lequel un composant est impliqué et la durée d'utilisation des pièces auxquelles il est associé?"
   ]
  },
  {
   "cell_type": "markdown",
   "metadata": {},
   "source": [
    "#### 4.1 Identification des tendances"
   ]
  },
  {
   "cell_type": "code",
   "execution_count": 312,
   "metadata": {},
   "outputs": [],
   "source": [
    "# Comptage \n",
    "\n",
    "occurrences2_v1 = np.zeros(15)\n",
    "occurrences2_v2 = np.zeros(15)\n",
    "occurrences2_v3 = np.zeros(15)\n",
    "duree_v1 = np.zeros(15)\n",
    "duree_v2 = np.zeros(15)\n",
    "duree_v3 = np.zeros(15)\n",
    "\n",
    "for i in range(facteurs.shape[0]):\n",
    "    for j in range(15):\n",
    "        comp_def = facteurs.iloc[i,j+5]\n",
    "        if (comp_def == 1):\n",
    "            if(facteurs.iloc[i,1]=='v1'):\n",
    "                occurrences2_v1[j] += comp_def\n",
    "                duree_v1[j] += facteurs.iloc[i,2] + facteurs.iloc[i,3]\n",
    "            if(facteurs.iloc[i,1]=='v2'):\n",
    "                occurrences2_v2[j] += comp_def\n",
    "                duree_v2[j] += facteurs.iloc[i,2] + facteurs.iloc[i,3]\n",
    "            if(facteurs.iloc[i,1]=='v3'):\n",
    "                occurrences2_v3[j] += comp_def\n",
    "                duree_v3[j] += facteurs.iloc[i,2] + facteurs.iloc[i,3]"
   ]
  },
  {
   "cell_type": "code",
   "execution_count": 313,
   "metadata": {},
   "outputs": [
    {
     "data": {
      "application/vnd.plotly.v1+json": {
       "config": {
        "plotlyServerURL": "https://plot.ly"
       },
       "data": [
        {
         "marker": {
          "color": "rgba(118, 68, 138, 0.8)",
          "line": {
           "color": "rgba(118, 68, 138, 1.)",
           "width": 3
          }
         },
         "name": "v1",
         "orientation": "h",
         "type": "bar",
         "x": [
          0,
          177036.37,
          135014.50000000003,
          139944.69,
          258971.27999999997,
          297059.5,
          353947.6200000001,
          468353.09999999986,
          468627.84,
          718729.6100000002,
          479971.8900000001,
          1162929.0699999998,
          1451955.2400000005,
          1888348.9300000002,
          2007382.0100000002
         ],
         "y": [
          "X12",
          "X8",
          "X11",
          "X5",
          "X13",
          "X9",
          "X15",
          "X10",
          "X3",
          "X7",
          "X2",
          "X1",
          "X14",
          "X4",
          "X6"
         ]
        },
        {
         "marker": {
          "color": "rgba(155, 89, 182, 0.8)",
          "line": {
           "color": "rgba(155, 89, 182, 1.)",
           "width": 3
          }
         },
         "name": "v2",
         "orientation": "h",
         "type": "bar",
         "x": [
          0,
          8832.859999999999,
          30896.14,
          0,
          0,
          22017.43,
          0,
          58324.41,
          32543.46,
          13576.87,
          4626.87,
          52298.009999999995,
          7440.039999999999,
          100913.70999999999,
          116213.9
         ],
         "y": [
          "X12",
          "X8",
          "X11",
          "X5",
          "X13",
          "X9",
          "X15",
          "X10",
          "X3",
          "X7",
          "X2",
          "X1",
          "X14",
          "X4",
          "X6"
         ]
        },
        {
         "marker": {
          "color": "rgba(195, 155, 211, 0.8)",
          "line": {
           "color": "rgba(195, 155, 211, 1)",
           "width": 3
          }
         },
         "name": "v3",
         "orientation": "h",
         "text": [
          0,
          419772,
          328218,
          278577,
          426455,
          672750,
          901394,
          904582,
          1118796,
          1328347,
          1475659,
          2651974,
          3019811,
          4080891,
          4352385
         ],
         "textposition": "outside",
         "type": "bar",
         "x": [
          0,
          233903.64999999997,
          162307.56,
          138632.36999999997,
          167484.59,
          353673.32,
          547447.0800000001,
          377904.83,
          617625.31,
          596040.98,
          991060.2899999998,
          1436747.2399999998,
          1560416.62,
          2091628.69,
          2228789.94
         ],
         "y": [
          "X12",
          "X8",
          "X11",
          "X5",
          "X13",
          "X9",
          "X15",
          "X10",
          "X3",
          "X7",
          "X2",
          "X1",
          "X14",
          "X4",
          "X6"
         ]
        }
       ],
       "layout": {
        "barmode": "stack",
        "template": {
         "data": {
          "bar": [
           {
            "error_x": {
             "color": "#2a3f5f"
            },
            "error_y": {
             "color": "#2a3f5f"
            },
            "marker": {
             "line": {
              "color": "#E5ECF6",
              "width": 0.5
             },
             "pattern": {
              "fillmode": "overlay",
              "size": 10,
              "solidity": 0.2
             }
            },
            "type": "bar"
           }
          ],
          "barpolar": [
           {
            "marker": {
             "line": {
              "color": "#E5ECF6",
              "width": 0.5
             },
             "pattern": {
              "fillmode": "overlay",
              "size": 10,
              "solidity": 0.2
             }
            },
            "type": "barpolar"
           }
          ],
          "carpet": [
           {
            "aaxis": {
             "endlinecolor": "#2a3f5f",
             "gridcolor": "white",
             "linecolor": "white",
             "minorgridcolor": "white",
             "startlinecolor": "#2a3f5f"
            },
            "baxis": {
             "endlinecolor": "#2a3f5f",
             "gridcolor": "white",
             "linecolor": "white",
             "minorgridcolor": "white",
             "startlinecolor": "#2a3f5f"
            },
            "type": "carpet"
           }
          ],
          "choropleth": [
           {
            "colorbar": {
             "outlinewidth": 0,
             "ticks": ""
            },
            "type": "choropleth"
           }
          ],
          "contour": [
           {
            "colorbar": {
             "outlinewidth": 0,
             "ticks": ""
            },
            "colorscale": [
             [
              0,
              "#0d0887"
             ],
             [
              0.1111111111111111,
              "#46039f"
             ],
             [
              0.2222222222222222,
              "#7201a8"
             ],
             [
              0.3333333333333333,
              "#9c179e"
             ],
             [
              0.4444444444444444,
              "#bd3786"
             ],
             [
              0.5555555555555556,
              "#d8576b"
             ],
             [
              0.6666666666666666,
              "#ed7953"
             ],
             [
              0.7777777777777778,
              "#fb9f3a"
             ],
             [
              0.8888888888888888,
              "#fdca26"
             ],
             [
              1,
              "#f0f921"
             ]
            ],
            "type": "contour"
           }
          ],
          "contourcarpet": [
           {
            "colorbar": {
             "outlinewidth": 0,
             "ticks": ""
            },
            "type": "contourcarpet"
           }
          ],
          "heatmap": [
           {
            "colorbar": {
             "outlinewidth": 0,
             "ticks": ""
            },
            "colorscale": [
             [
              0,
              "#0d0887"
             ],
             [
              0.1111111111111111,
              "#46039f"
             ],
             [
              0.2222222222222222,
              "#7201a8"
             ],
             [
              0.3333333333333333,
              "#9c179e"
             ],
             [
              0.4444444444444444,
              "#bd3786"
             ],
             [
              0.5555555555555556,
              "#d8576b"
             ],
             [
              0.6666666666666666,
              "#ed7953"
             ],
             [
              0.7777777777777778,
              "#fb9f3a"
             ],
             [
              0.8888888888888888,
              "#fdca26"
             ],
             [
              1,
              "#f0f921"
             ]
            ],
            "type": "heatmap"
           }
          ],
          "heatmapgl": [
           {
            "colorbar": {
             "outlinewidth": 0,
             "ticks": ""
            },
            "colorscale": [
             [
              0,
              "#0d0887"
             ],
             [
              0.1111111111111111,
              "#46039f"
             ],
             [
              0.2222222222222222,
              "#7201a8"
             ],
             [
              0.3333333333333333,
              "#9c179e"
             ],
             [
              0.4444444444444444,
              "#bd3786"
             ],
             [
              0.5555555555555556,
              "#d8576b"
             ],
             [
              0.6666666666666666,
              "#ed7953"
             ],
             [
              0.7777777777777778,
              "#fb9f3a"
             ],
             [
              0.8888888888888888,
              "#fdca26"
             ],
             [
              1,
              "#f0f921"
             ]
            ],
            "type": "heatmapgl"
           }
          ],
          "histogram": [
           {
            "marker": {
             "pattern": {
              "fillmode": "overlay",
              "size": 10,
              "solidity": 0.2
             }
            },
            "type": "histogram"
           }
          ],
          "histogram2d": [
           {
            "colorbar": {
             "outlinewidth": 0,
             "ticks": ""
            },
            "colorscale": [
             [
              0,
              "#0d0887"
             ],
             [
              0.1111111111111111,
              "#46039f"
             ],
             [
              0.2222222222222222,
              "#7201a8"
             ],
             [
              0.3333333333333333,
              "#9c179e"
             ],
             [
              0.4444444444444444,
              "#bd3786"
             ],
             [
              0.5555555555555556,
              "#d8576b"
             ],
             [
              0.6666666666666666,
              "#ed7953"
             ],
             [
              0.7777777777777778,
              "#fb9f3a"
             ],
             [
              0.8888888888888888,
              "#fdca26"
             ],
             [
              1,
              "#f0f921"
             ]
            ],
            "type": "histogram2d"
           }
          ],
          "histogram2dcontour": [
           {
            "colorbar": {
             "outlinewidth": 0,
             "ticks": ""
            },
            "colorscale": [
             [
              0,
              "#0d0887"
             ],
             [
              0.1111111111111111,
              "#46039f"
             ],
             [
              0.2222222222222222,
              "#7201a8"
             ],
             [
              0.3333333333333333,
              "#9c179e"
             ],
             [
              0.4444444444444444,
              "#bd3786"
             ],
             [
              0.5555555555555556,
              "#d8576b"
             ],
             [
              0.6666666666666666,
              "#ed7953"
             ],
             [
              0.7777777777777778,
              "#fb9f3a"
             ],
             [
              0.8888888888888888,
              "#fdca26"
             ],
             [
              1,
              "#f0f921"
             ]
            ],
            "type": "histogram2dcontour"
           }
          ],
          "mesh3d": [
           {
            "colorbar": {
             "outlinewidth": 0,
             "ticks": ""
            },
            "type": "mesh3d"
           }
          ],
          "parcoords": [
           {
            "line": {
             "colorbar": {
              "outlinewidth": 0,
              "ticks": ""
             }
            },
            "type": "parcoords"
           }
          ],
          "pie": [
           {
            "automargin": true,
            "type": "pie"
           }
          ],
          "scatter": [
           {
            "marker": {
             "colorbar": {
              "outlinewidth": 0,
              "ticks": ""
             }
            },
            "type": "scatter"
           }
          ],
          "scatter3d": [
           {
            "line": {
             "colorbar": {
              "outlinewidth": 0,
              "ticks": ""
             }
            },
            "marker": {
             "colorbar": {
              "outlinewidth": 0,
              "ticks": ""
             }
            },
            "type": "scatter3d"
           }
          ],
          "scattercarpet": [
           {
            "marker": {
             "colorbar": {
              "outlinewidth": 0,
              "ticks": ""
             }
            },
            "type": "scattercarpet"
           }
          ],
          "scattergeo": [
           {
            "marker": {
             "colorbar": {
              "outlinewidth": 0,
              "ticks": ""
             }
            },
            "type": "scattergeo"
           }
          ],
          "scattergl": [
           {
            "marker": {
             "colorbar": {
              "outlinewidth": 0,
              "ticks": ""
             }
            },
            "type": "scattergl"
           }
          ],
          "scattermapbox": [
           {
            "marker": {
             "colorbar": {
              "outlinewidth": 0,
              "ticks": ""
             }
            },
            "type": "scattermapbox"
           }
          ],
          "scatterpolar": [
           {
            "marker": {
             "colorbar": {
              "outlinewidth": 0,
              "ticks": ""
             }
            },
            "type": "scatterpolar"
           }
          ],
          "scatterpolargl": [
           {
            "marker": {
             "colorbar": {
              "outlinewidth": 0,
              "ticks": ""
             }
            },
            "type": "scatterpolargl"
           }
          ],
          "scatterternary": [
           {
            "marker": {
             "colorbar": {
              "outlinewidth": 0,
              "ticks": ""
             }
            },
            "type": "scatterternary"
           }
          ],
          "surface": [
           {
            "colorbar": {
             "outlinewidth": 0,
             "ticks": ""
            },
            "colorscale": [
             [
              0,
              "#0d0887"
             ],
             [
              0.1111111111111111,
              "#46039f"
             ],
             [
              0.2222222222222222,
              "#7201a8"
             ],
             [
              0.3333333333333333,
              "#9c179e"
             ],
             [
              0.4444444444444444,
              "#bd3786"
             ],
             [
              0.5555555555555556,
              "#d8576b"
             ],
             [
              0.6666666666666666,
              "#ed7953"
             ],
             [
              0.7777777777777778,
              "#fb9f3a"
             ],
             [
              0.8888888888888888,
              "#fdca26"
             ],
             [
              1,
              "#f0f921"
             ]
            ],
            "type": "surface"
           }
          ],
          "table": [
           {
            "cells": {
             "fill": {
              "color": "#EBF0F8"
             },
             "line": {
              "color": "white"
             }
            },
            "header": {
             "fill": {
              "color": "#C8D4E3"
             },
             "line": {
              "color": "white"
             }
            },
            "type": "table"
           }
          ]
         },
         "layout": {
          "annotationdefaults": {
           "arrowcolor": "#2a3f5f",
           "arrowhead": 0,
           "arrowwidth": 1
          },
          "autotypenumbers": "strict",
          "coloraxis": {
           "colorbar": {
            "outlinewidth": 0,
            "ticks": ""
           }
          },
          "colorscale": {
           "diverging": [
            [
             0,
             "#8e0152"
            ],
            [
             0.1,
             "#c51b7d"
            ],
            [
             0.2,
             "#de77ae"
            ],
            [
             0.3,
             "#f1b6da"
            ],
            [
             0.4,
             "#fde0ef"
            ],
            [
             0.5,
             "#f7f7f7"
            ],
            [
             0.6,
             "#e6f5d0"
            ],
            [
             0.7,
             "#b8e186"
            ],
            [
             0.8,
             "#7fbc41"
            ],
            [
             0.9,
             "#4d9221"
            ],
            [
             1,
             "#276419"
            ]
           ],
           "sequential": [
            [
             0,
             "#0d0887"
            ],
            [
             0.1111111111111111,
             "#46039f"
            ],
            [
             0.2222222222222222,
             "#7201a8"
            ],
            [
             0.3333333333333333,
             "#9c179e"
            ],
            [
             0.4444444444444444,
             "#bd3786"
            ],
            [
             0.5555555555555556,
             "#d8576b"
            ],
            [
             0.6666666666666666,
             "#ed7953"
            ],
            [
             0.7777777777777778,
             "#fb9f3a"
            ],
            [
             0.8888888888888888,
             "#fdca26"
            ],
            [
             1,
             "#f0f921"
            ]
           ],
           "sequentialminus": [
            [
             0,
             "#0d0887"
            ],
            [
             0.1111111111111111,
             "#46039f"
            ],
            [
             0.2222222222222222,
             "#7201a8"
            ],
            [
             0.3333333333333333,
             "#9c179e"
            ],
            [
             0.4444444444444444,
             "#bd3786"
            ],
            [
             0.5555555555555556,
             "#d8576b"
            ],
            [
             0.6666666666666666,
             "#ed7953"
            ],
            [
             0.7777777777777778,
             "#fb9f3a"
            ],
            [
             0.8888888888888888,
             "#fdca26"
            ],
            [
             1,
             "#f0f921"
            ]
           ]
          },
          "colorway": [
           "#636efa",
           "#EF553B",
           "#00cc96",
           "#ab63fa",
           "#FFA15A",
           "#19d3f3",
           "#FF6692",
           "#B6E880",
           "#FF97FF",
           "#FECB52"
          ],
          "font": {
           "color": "#2a3f5f"
          },
          "geo": {
           "bgcolor": "white",
           "lakecolor": "white",
           "landcolor": "#E5ECF6",
           "showlakes": true,
           "showland": true,
           "subunitcolor": "white"
          },
          "hoverlabel": {
           "align": "left"
          },
          "hovermode": "closest",
          "mapbox": {
           "style": "light"
          },
          "paper_bgcolor": "white",
          "plot_bgcolor": "#E5ECF6",
          "polar": {
           "angularaxis": {
            "gridcolor": "white",
            "linecolor": "white",
            "ticks": ""
           },
           "bgcolor": "#E5ECF6",
           "radialaxis": {
            "gridcolor": "white",
            "linecolor": "white",
            "ticks": ""
           }
          },
          "scene": {
           "xaxis": {
            "backgroundcolor": "#E5ECF6",
            "gridcolor": "white",
            "gridwidth": 2,
            "linecolor": "white",
            "showbackground": true,
            "ticks": "",
            "zerolinecolor": "white"
           },
           "yaxis": {
            "backgroundcolor": "#E5ECF6",
            "gridcolor": "white",
            "gridwidth": 2,
            "linecolor": "white",
            "showbackground": true,
            "ticks": "",
            "zerolinecolor": "white"
           },
           "zaxis": {
            "backgroundcolor": "#E5ECF6",
            "gridcolor": "white",
            "gridwidth": 2,
            "linecolor": "white",
            "showbackground": true,
            "ticks": "",
            "zerolinecolor": "white"
           }
          },
          "shapedefaults": {
           "line": {
            "color": "#2a3f5f"
           }
          },
          "ternary": {
           "aaxis": {
            "gridcolor": "white",
            "linecolor": "white",
            "ticks": ""
           },
           "baxis": {
            "gridcolor": "white",
            "linecolor": "white",
            "ticks": ""
           },
           "bgcolor": "#E5ECF6",
           "caxis": {
            "gridcolor": "white",
            "linecolor": "white",
            "ticks": ""
           }
          },
          "title": {
           "x": 0.05
          },
          "xaxis": {
           "automargin": true,
           "gridcolor": "white",
           "linecolor": "white",
           "ticks": "",
           "title": {
            "standoff": 15
           },
           "zerolinecolor": "white",
           "zerolinewidth": 2
          },
          "yaxis": {
           "automargin": true,
           "gridcolor": "white",
           "linecolor": "white",
           "ticks": "",
           "title": {
            "standoff": 15
           },
           "zerolinecolor": "white",
           "zerolinewidth": 2
          }
         }
        },
        "xaxis": {
         "title": {
          "text": "Nombre de pannes"
         }
        },
        "yaxis": {
         "title": {
          "text": "Composants"
         }
        }
       }
      }
     },
     "metadata": {},
     "output_type": "display_data"
    }
   ],
   "source": [
    "# Affichage bar plot\n",
    "\n",
    "occurrences2_v1 = occurrences2_v1.astype(int)\n",
    "occurrences2_v2 = occurrences2_v2.astype(int)\n",
    "occurrences2_v3 = occurrences2_v3.astype(int)\n",
    "duree_v1 = duree_v1.astype(float)\n",
    "duree_v2 = duree_v2.astype(float)\n",
    "duree_v3 = duree_v3.astype(float)\n",
    "donnees_barh_d = {'Comp' : comp, 'Occ_v1' : occurrences2_v1, 'Occ_v2' : occurrences2_v2, 'Occ_v3' : occurrences2_v3, 'Occ_tot' : occurrences2_v1+occurrences2_v2+occurrences2_v3, 'Duree_v1' : duree_v1, 'Duree_v2' : duree_v2, 'Duree_v3' : duree_v3, 'Duree_tot' : duree_v1+duree_v2+duree_v3}\n",
    "df_barh_d = pd.DataFrame(data=donnees_barh_d)\n",
    "\n",
    "df_barh_dd = df_barh_d.sort_values(by=['Occ_tot'])\n",
    "#plt.figure(1,figsize=(10,6))\n",
    "#plt.barh(df_barh_occ['Comp'], df_barh_occ['Occ'])\n",
    "#plt.show()\n",
    "\n",
    "fig_occ = go.Figure()\n",
    "fig_occ.add_trace(go.Bar(\n",
    "    y=df_barh_dd['Comp'],\n",
    "    x=df_barh_dd['Duree_v1'],\n",
    "    name='v1',\n",
    "    orientation='h',\n",
    "    marker=dict(\n",
    "        color='rgba(118, 68, 138, 0.8)',\n",
    "        line=dict(color='rgba(118, 68, 138, 1.)', width=3)\n",
    "    )\n",
    "))\n",
    "fig_occ.add_trace(go.Bar(\n",
    "    y=df_barh_dd['Comp'],\n",
    "    x=df_barh_dd['Duree_v2'],\n",
    "    name='v2',\n",
    "    orientation='h',\n",
    "    marker=dict(\n",
    "        color='rgba(155, 89, 182, 0.8)',\n",
    "        line=dict(color='rgba(155, 89, 182, 1.)', width=3)\n",
    "    )\n",
    "))\n",
    "fig_occ.add_trace(go.Bar(\n",
    "    y=df_barh_dd['Comp'],\n",
    "    x=df_barh_dd['Duree_v3'],\n",
    "    text=df_barh_dd['Duree_tot'].astype(int),\n",
    "    textposition='outside',\n",
    "    name='v3',\n",
    "    orientation='h',\n",
    "    marker=dict(\n",
    "        color='rgba(195, 155, 211, 0.8)',\n",
    "        line=dict(color='rgba(195, 155, 211, 1)', width=3)\n",
    "    )\n",
    "))\n",
    "\n",
    "fig_occ.update_layout(\n",
    "    xaxis_title=\"Nombre de pannes\",\n",
    "    yaxis_title=\"Composants\",\n",
    "    barmode='stack')\n",
    "fig_occ.show()"
   ]
  },
  {
   "cell_type": "code",
   "execution_count": 314,
   "metadata": {},
   "outputs": [
    {
     "data": {
      "application/vnd.plotly.v1+json": {
       "config": {
        "plotlyServerURL": "https://plot.ly"
       },
       "data": [
        {
         "marker": {
          "color": "rgba(118, 68, 138, 0.8)",
          "line": {
           "color": "rgba(118, 68, 138, 1.)",
           "width": 3
          }
         },
         "name": "v1",
         "orientation": "h",
         "type": "bar",
         "x": [
          0,
          9,
          10,
          10,
          21,
          22,
          30,
          40,
          41,
          54,
          46,
          91,
          108,
          144,
          147
         ],
         "y": [
          "X12",
          "X8",
          "X11",
          "X5",
          "X13",
          "X9",
          "X15",
          "X10",
          "X3",
          "X7",
          "X2",
          "X1",
          "X14",
          "X4",
          "X6"
         ]
        },
        {
         "marker": {
          "color": "rgba(155, 89, 182, 0.8)",
          "line": {
           "color": "rgba(155, 89, 182, 1.)",
           "width": 3
          }
         },
         "name": "v2",
         "orientation": "h",
         "type": "bar",
         "x": [
          0,
          1,
          1,
          0,
          0,
          1,
          0,
          4,
          3,
          4,
          2,
          4,
          6,
          12,
          11
         ],
         "y": [
          "X12",
          "X8",
          "X11",
          "X5",
          "X13",
          "X9",
          "X15",
          "X10",
          "X3",
          "X7",
          "X2",
          "X1",
          "X14",
          "X4",
          "X6"
         ]
        },
        {
         "marker": {
          "color": "rgba(195, 155, 211, 0.8)",
          "line": {
           "color": "rgba(195, 155, 211, 1)",
           "width": 3
          }
         },
         "name": "v3",
         "orientation": "h",
         "text": [
          0,
          17,
          17,
          18,
          28,
          39,
          54,
          62,
          68,
          83,
          86,
          155,
          176,
          244,
          245
         ],
         "textposition": "outside",
         "type": "bar",
         "x": [
          0,
          7,
          6,
          8,
          7,
          16,
          24,
          18,
          24,
          25,
          38,
          60,
          62,
          88,
          87
         ],
         "y": [
          "X12",
          "X8",
          "X11",
          "X5",
          "X13",
          "X9",
          "X15",
          "X10",
          "X3",
          "X7",
          "X2",
          "X1",
          "X14",
          "X4",
          "X6"
         ]
        }
       ],
       "layout": {
        "barmode": "stack",
        "template": {
         "data": {
          "bar": [
           {
            "error_x": {
             "color": "#2a3f5f"
            },
            "error_y": {
             "color": "#2a3f5f"
            },
            "marker": {
             "line": {
              "color": "#E5ECF6",
              "width": 0.5
             },
             "pattern": {
              "fillmode": "overlay",
              "size": 10,
              "solidity": 0.2
             }
            },
            "type": "bar"
           }
          ],
          "barpolar": [
           {
            "marker": {
             "line": {
              "color": "#E5ECF6",
              "width": 0.5
             },
             "pattern": {
              "fillmode": "overlay",
              "size": 10,
              "solidity": 0.2
             }
            },
            "type": "barpolar"
           }
          ],
          "carpet": [
           {
            "aaxis": {
             "endlinecolor": "#2a3f5f",
             "gridcolor": "white",
             "linecolor": "white",
             "minorgridcolor": "white",
             "startlinecolor": "#2a3f5f"
            },
            "baxis": {
             "endlinecolor": "#2a3f5f",
             "gridcolor": "white",
             "linecolor": "white",
             "minorgridcolor": "white",
             "startlinecolor": "#2a3f5f"
            },
            "type": "carpet"
           }
          ],
          "choropleth": [
           {
            "colorbar": {
             "outlinewidth": 0,
             "ticks": ""
            },
            "type": "choropleth"
           }
          ],
          "contour": [
           {
            "colorbar": {
             "outlinewidth": 0,
             "ticks": ""
            },
            "colorscale": [
             [
              0,
              "#0d0887"
             ],
             [
              0.1111111111111111,
              "#46039f"
             ],
             [
              0.2222222222222222,
              "#7201a8"
             ],
             [
              0.3333333333333333,
              "#9c179e"
             ],
             [
              0.4444444444444444,
              "#bd3786"
             ],
             [
              0.5555555555555556,
              "#d8576b"
             ],
             [
              0.6666666666666666,
              "#ed7953"
             ],
             [
              0.7777777777777778,
              "#fb9f3a"
             ],
             [
              0.8888888888888888,
              "#fdca26"
             ],
             [
              1,
              "#f0f921"
             ]
            ],
            "type": "contour"
           }
          ],
          "contourcarpet": [
           {
            "colorbar": {
             "outlinewidth": 0,
             "ticks": ""
            },
            "type": "contourcarpet"
           }
          ],
          "heatmap": [
           {
            "colorbar": {
             "outlinewidth": 0,
             "ticks": ""
            },
            "colorscale": [
             [
              0,
              "#0d0887"
             ],
             [
              0.1111111111111111,
              "#46039f"
             ],
             [
              0.2222222222222222,
              "#7201a8"
             ],
             [
              0.3333333333333333,
              "#9c179e"
             ],
             [
              0.4444444444444444,
              "#bd3786"
             ],
             [
              0.5555555555555556,
              "#d8576b"
             ],
             [
              0.6666666666666666,
              "#ed7953"
             ],
             [
              0.7777777777777778,
              "#fb9f3a"
             ],
             [
              0.8888888888888888,
              "#fdca26"
             ],
             [
              1,
              "#f0f921"
             ]
            ],
            "type": "heatmap"
           }
          ],
          "heatmapgl": [
           {
            "colorbar": {
             "outlinewidth": 0,
             "ticks": ""
            },
            "colorscale": [
             [
              0,
              "#0d0887"
             ],
             [
              0.1111111111111111,
              "#46039f"
             ],
             [
              0.2222222222222222,
              "#7201a8"
             ],
             [
              0.3333333333333333,
              "#9c179e"
             ],
             [
              0.4444444444444444,
              "#bd3786"
             ],
             [
              0.5555555555555556,
              "#d8576b"
             ],
             [
              0.6666666666666666,
              "#ed7953"
             ],
             [
              0.7777777777777778,
              "#fb9f3a"
             ],
             [
              0.8888888888888888,
              "#fdca26"
             ],
             [
              1,
              "#f0f921"
             ]
            ],
            "type": "heatmapgl"
           }
          ],
          "histogram": [
           {
            "marker": {
             "pattern": {
              "fillmode": "overlay",
              "size": 10,
              "solidity": 0.2
             }
            },
            "type": "histogram"
           }
          ],
          "histogram2d": [
           {
            "colorbar": {
             "outlinewidth": 0,
             "ticks": ""
            },
            "colorscale": [
             [
              0,
              "#0d0887"
             ],
             [
              0.1111111111111111,
              "#46039f"
             ],
             [
              0.2222222222222222,
              "#7201a8"
             ],
             [
              0.3333333333333333,
              "#9c179e"
             ],
             [
              0.4444444444444444,
              "#bd3786"
             ],
             [
              0.5555555555555556,
              "#d8576b"
             ],
             [
              0.6666666666666666,
              "#ed7953"
             ],
             [
              0.7777777777777778,
              "#fb9f3a"
             ],
             [
              0.8888888888888888,
              "#fdca26"
             ],
             [
              1,
              "#f0f921"
             ]
            ],
            "type": "histogram2d"
           }
          ],
          "histogram2dcontour": [
           {
            "colorbar": {
             "outlinewidth": 0,
             "ticks": ""
            },
            "colorscale": [
             [
              0,
              "#0d0887"
             ],
             [
              0.1111111111111111,
              "#46039f"
             ],
             [
              0.2222222222222222,
              "#7201a8"
             ],
             [
              0.3333333333333333,
              "#9c179e"
             ],
             [
              0.4444444444444444,
              "#bd3786"
             ],
             [
              0.5555555555555556,
              "#d8576b"
             ],
             [
              0.6666666666666666,
              "#ed7953"
             ],
             [
              0.7777777777777778,
              "#fb9f3a"
             ],
             [
              0.8888888888888888,
              "#fdca26"
             ],
             [
              1,
              "#f0f921"
             ]
            ],
            "type": "histogram2dcontour"
           }
          ],
          "mesh3d": [
           {
            "colorbar": {
             "outlinewidth": 0,
             "ticks": ""
            },
            "type": "mesh3d"
           }
          ],
          "parcoords": [
           {
            "line": {
             "colorbar": {
              "outlinewidth": 0,
              "ticks": ""
             }
            },
            "type": "parcoords"
           }
          ],
          "pie": [
           {
            "automargin": true,
            "type": "pie"
           }
          ],
          "scatter": [
           {
            "marker": {
             "colorbar": {
              "outlinewidth": 0,
              "ticks": ""
             }
            },
            "type": "scatter"
           }
          ],
          "scatter3d": [
           {
            "line": {
             "colorbar": {
              "outlinewidth": 0,
              "ticks": ""
             }
            },
            "marker": {
             "colorbar": {
              "outlinewidth": 0,
              "ticks": ""
             }
            },
            "type": "scatter3d"
           }
          ],
          "scattercarpet": [
           {
            "marker": {
             "colorbar": {
              "outlinewidth": 0,
              "ticks": ""
             }
            },
            "type": "scattercarpet"
           }
          ],
          "scattergeo": [
           {
            "marker": {
             "colorbar": {
              "outlinewidth": 0,
              "ticks": ""
             }
            },
            "type": "scattergeo"
           }
          ],
          "scattergl": [
           {
            "marker": {
             "colorbar": {
              "outlinewidth": 0,
              "ticks": ""
             }
            },
            "type": "scattergl"
           }
          ],
          "scattermapbox": [
           {
            "marker": {
             "colorbar": {
              "outlinewidth": 0,
              "ticks": ""
             }
            },
            "type": "scattermapbox"
           }
          ],
          "scatterpolar": [
           {
            "marker": {
             "colorbar": {
              "outlinewidth": 0,
              "ticks": ""
             }
            },
            "type": "scatterpolar"
           }
          ],
          "scatterpolargl": [
           {
            "marker": {
             "colorbar": {
              "outlinewidth": 0,
              "ticks": ""
             }
            },
            "type": "scatterpolargl"
           }
          ],
          "scatterternary": [
           {
            "marker": {
             "colorbar": {
              "outlinewidth": 0,
              "ticks": ""
             }
            },
            "type": "scatterternary"
           }
          ],
          "surface": [
           {
            "colorbar": {
             "outlinewidth": 0,
             "ticks": ""
            },
            "colorscale": [
             [
              0,
              "#0d0887"
             ],
             [
              0.1111111111111111,
              "#46039f"
             ],
             [
              0.2222222222222222,
              "#7201a8"
             ],
             [
              0.3333333333333333,
              "#9c179e"
             ],
             [
              0.4444444444444444,
              "#bd3786"
             ],
             [
              0.5555555555555556,
              "#d8576b"
             ],
             [
              0.6666666666666666,
              "#ed7953"
             ],
             [
              0.7777777777777778,
              "#fb9f3a"
             ],
             [
              0.8888888888888888,
              "#fdca26"
             ],
             [
              1,
              "#f0f921"
             ]
            ],
            "type": "surface"
           }
          ],
          "table": [
           {
            "cells": {
             "fill": {
              "color": "#EBF0F8"
             },
             "line": {
              "color": "white"
             }
            },
            "header": {
             "fill": {
              "color": "#C8D4E3"
             },
             "line": {
              "color": "white"
             }
            },
            "type": "table"
           }
          ]
         },
         "layout": {
          "annotationdefaults": {
           "arrowcolor": "#2a3f5f",
           "arrowhead": 0,
           "arrowwidth": 1
          },
          "autotypenumbers": "strict",
          "coloraxis": {
           "colorbar": {
            "outlinewidth": 0,
            "ticks": ""
           }
          },
          "colorscale": {
           "diverging": [
            [
             0,
             "#8e0152"
            ],
            [
             0.1,
             "#c51b7d"
            ],
            [
             0.2,
             "#de77ae"
            ],
            [
             0.3,
             "#f1b6da"
            ],
            [
             0.4,
             "#fde0ef"
            ],
            [
             0.5,
             "#f7f7f7"
            ],
            [
             0.6,
             "#e6f5d0"
            ],
            [
             0.7,
             "#b8e186"
            ],
            [
             0.8,
             "#7fbc41"
            ],
            [
             0.9,
             "#4d9221"
            ],
            [
             1,
             "#276419"
            ]
           ],
           "sequential": [
            [
             0,
             "#0d0887"
            ],
            [
             0.1111111111111111,
             "#46039f"
            ],
            [
             0.2222222222222222,
             "#7201a8"
            ],
            [
             0.3333333333333333,
             "#9c179e"
            ],
            [
             0.4444444444444444,
             "#bd3786"
            ],
            [
             0.5555555555555556,
             "#d8576b"
            ],
            [
             0.6666666666666666,
             "#ed7953"
            ],
            [
             0.7777777777777778,
             "#fb9f3a"
            ],
            [
             0.8888888888888888,
             "#fdca26"
            ],
            [
             1,
             "#f0f921"
            ]
           ],
           "sequentialminus": [
            [
             0,
             "#0d0887"
            ],
            [
             0.1111111111111111,
             "#46039f"
            ],
            [
             0.2222222222222222,
             "#7201a8"
            ],
            [
             0.3333333333333333,
             "#9c179e"
            ],
            [
             0.4444444444444444,
             "#bd3786"
            ],
            [
             0.5555555555555556,
             "#d8576b"
            ],
            [
             0.6666666666666666,
             "#ed7953"
            ],
            [
             0.7777777777777778,
             "#fb9f3a"
            ],
            [
             0.8888888888888888,
             "#fdca26"
            ],
            [
             1,
             "#f0f921"
            ]
           ]
          },
          "colorway": [
           "#636efa",
           "#EF553B",
           "#00cc96",
           "#ab63fa",
           "#FFA15A",
           "#19d3f3",
           "#FF6692",
           "#B6E880",
           "#FF97FF",
           "#FECB52"
          ],
          "font": {
           "color": "#2a3f5f"
          },
          "geo": {
           "bgcolor": "white",
           "lakecolor": "white",
           "landcolor": "#E5ECF6",
           "showlakes": true,
           "showland": true,
           "subunitcolor": "white"
          },
          "hoverlabel": {
           "align": "left"
          },
          "hovermode": "closest",
          "mapbox": {
           "style": "light"
          },
          "paper_bgcolor": "white",
          "plot_bgcolor": "#E5ECF6",
          "polar": {
           "angularaxis": {
            "gridcolor": "white",
            "linecolor": "white",
            "ticks": ""
           },
           "bgcolor": "#E5ECF6",
           "radialaxis": {
            "gridcolor": "white",
            "linecolor": "white",
            "ticks": ""
           }
          },
          "scene": {
           "xaxis": {
            "backgroundcolor": "#E5ECF6",
            "gridcolor": "white",
            "gridwidth": 2,
            "linecolor": "white",
            "showbackground": true,
            "ticks": "",
            "zerolinecolor": "white"
           },
           "yaxis": {
            "backgroundcolor": "#E5ECF6",
            "gridcolor": "white",
            "gridwidth": 2,
            "linecolor": "white",
            "showbackground": true,
            "ticks": "",
            "zerolinecolor": "white"
           },
           "zaxis": {
            "backgroundcolor": "#E5ECF6",
            "gridcolor": "white",
            "gridwidth": 2,
            "linecolor": "white",
            "showbackground": true,
            "ticks": "",
            "zerolinecolor": "white"
           }
          },
          "shapedefaults": {
           "line": {
            "color": "#2a3f5f"
           }
          },
          "ternary": {
           "aaxis": {
            "gridcolor": "white",
            "linecolor": "white",
            "ticks": ""
           },
           "baxis": {
            "gridcolor": "white",
            "linecolor": "white",
            "ticks": ""
           },
           "bgcolor": "#E5ECF6",
           "caxis": {
            "gridcolor": "white",
            "linecolor": "white",
            "ticks": ""
           }
          },
          "title": {
           "x": 0.05
          },
          "xaxis": {
           "automargin": true,
           "gridcolor": "white",
           "linecolor": "white",
           "ticks": "",
           "title": {
            "standoff": 15
           },
           "zerolinecolor": "white",
           "zerolinewidth": 2
          },
          "yaxis": {
           "automargin": true,
           "gridcolor": "white",
           "linecolor": "white",
           "ticks": "",
           "title": {
            "standoff": 15
           },
           "zerolinecolor": "white",
           "zerolinewidth": 2
          }
         }
        },
        "xaxis": {
         "title": {
          "text": "Nombre de pannes"
         }
        },
        "yaxis": {
         "title": {
          "text": "Composants"
         }
        }
       }
      }
     },
     "metadata": {},
     "output_type": "display_data"
    }
   ],
   "source": [
    "fig_occ = go.Figure()\n",
    "fig_occ.add_trace(go.Bar(\n",
    "    y=df_barh_dd['Comp'],\n",
    "    x=df_barh_dd['Occ_v1'],\n",
    "    name='v1',\n",
    "    orientation='h',\n",
    "    marker=dict(\n",
    "        color='rgba(118, 68, 138, 0.8)',\n",
    "        line=dict(color='rgba(118, 68, 138, 1.)', width=3)\n",
    "    )\n",
    "))\n",
    "fig_occ.add_trace(go.Bar(\n",
    "    y=df_barh_dd['Comp'],\n",
    "    x=df_barh_dd['Occ_v2'],\n",
    "    name='v2',\n",
    "    orientation='h',\n",
    "    marker=dict(\n",
    "        color='rgba(155, 89, 182, 0.8)',\n",
    "        line=dict(color='rgba(155, 89, 182, 1.)', width=3)\n",
    "    )\n",
    "))\n",
    "fig_occ.add_trace(go.Bar(\n",
    "    y=df_barh_dd['Comp'],\n",
    "    x=df_barh_dd['Occ_v3'],\n",
    "    text=df_barh_dd['Occ_tot'],\n",
    "    textposition='outside',\n",
    "    name='v3',\n",
    "    orientation='h',\n",
    "    marker=dict(\n",
    "        color='rgba(195, 155, 211, 0.8)',\n",
    "        line=dict(color='rgba(195, 155, 211, 1)', width=3)\n",
    "    )\n",
    "))\n",
    "\n",
    "fig_occ.update_layout(\n",
    "    xaxis_title=\"Nombre de pannes\",\n",
    "    yaxis_title=\"Composants\",\n",
    "    barmode='stack')\n",
    "fig_occ.show()"
   ]
  },
  {
   "cell_type": "code",
   "execution_count": 315,
   "metadata": {},
   "outputs": [
    {
     "data": {
      "application/vnd.plotly.v1+json": {
       "config": {
        "plotlyServerURL": "https://plot.ly"
       },
       "data": [
        {
         "hovertemplate": "Composant=X1<br>Occurences=%{x}<br>Durée de fonctionnement=%{y}<extra></extra>",
         "legendgroup": "X1",
         "marker": {
          "color": "#636efa",
          "symbol": "circle"
         },
         "mode": "markers",
         "name": "X1",
         "orientation": "v",
         "showlegend": true,
         "type": "scatter",
         "x": [
          155
         ],
         "xaxis": "x",
         "y": [
          2651974.3199999994
         ],
         "yaxis": "y"
        },
        {
         "hovertemplate": "Composant=X2<br>Occurences=%{x}<br>Durée de fonctionnement=%{y}<extra></extra>",
         "legendgroup": "X2",
         "marker": {
          "color": "#EF553B",
          "symbol": "circle"
         },
         "mode": "markers",
         "name": "X2",
         "orientation": "v",
         "showlegend": true,
         "type": "scatter",
         "x": [
          86
         ],
         "xaxis": "x",
         "y": [
          1475659.0499999998
         ],
         "yaxis": "y"
        },
        {
         "hovertemplate": "Composant=X3<br>Occurences=%{x}<br>Durée de fonctionnement=%{y}<extra></extra>",
         "legendgroup": "X3",
         "marker": {
          "color": "#00cc96",
          "symbol": "circle"
         },
         "mode": "markers",
         "name": "X3",
         "orientation": "v",
         "showlegend": true,
         "type": "scatter",
         "x": [
          68
         ],
         "xaxis": "x",
         "y": [
          1118796.61
         ],
         "yaxis": "y"
        },
        {
         "hovertemplate": "Composant=X4<br>Occurences=%{x}<br>Durée de fonctionnement=%{y}<extra></extra>",
         "legendgroup": "X4",
         "marker": {
          "color": "#ab63fa",
          "symbol": "circle"
         },
         "mode": "markers",
         "name": "X4",
         "orientation": "v",
         "showlegend": true,
         "type": "scatter",
         "x": [
          244
         ],
         "xaxis": "x",
         "y": [
          4080891.33
         ],
         "yaxis": "y"
        },
        {
         "hovertemplate": "Composant=X5<br>Occurences=%{x}<br>Durée de fonctionnement=%{y}<extra></extra>",
         "legendgroup": "X5",
         "marker": {
          "color": "#FFA15A",
          "symbol": "circle"
         },
         "mode": "markers",
         "name": "X5",
         "orientation": "v",
         "showlegend": true,
         "type": "scatter",
         "x": [
          18
         ],
         "xaxis": "x",
         "y": [
          278577.05999999994
         ],
         "yaxis": "y"
        },
        {
         "hovertemplate": "Composant=X6<br>Occurences=%{x}<br>Durée de fonctionnement=%{y}<extra></extra>",
         "legendgroup": "X6",
         "marker": {
          "color": "#19d3f3",
          "symbol": "circle"
         },
         "mode": "markers",
         "name": "X6",
         "orientation": "v",
         "showlegend": true,
         "type": "scatter",
         "x": [
          245
         ],
         "xaxis": "x",
         "y": [
          4352385.85
         ],
         "yaxis": "y"
        },
        {
         "hovertemplate": "Composant=X7<br>Occurences=%{x}<br>Durée de fonctionnement=%{y}<extra></extra>",
         "legendgroup": "X7",
         "marker": {
          "color": "#FF6692",
          "symbol": "circle"
         },
         "mode": "markers",
         "name": "X7",
         "orientation": "v",
         "showlegend": true,
         "type": "scatter",
         "x": [
          83
         ],
         "xaxis": "x",
         "y": [
          1328347.4600000002
         ],
         "yaxis": "y"
        },
        {
         "hovertemplate": "Composant=X8<br>Occurences=%{x}<br>Durée de fonctionnement=%{y}<extra></extra>",
         "legendgroup": "X8",
         "marker": {
          "color": "#B6E880",
          "symbol": "circle"
         },
         "mode": "markers",
         "name": "X8",
         "orientation": "v",
         "showlegend": true,
         "type": "scatter",
         "x": [
          17
         ],
         "xaxis": "x",
         "y": [
          419772.87999999995
         ],
         "yaxis": "y"
        },
        {
         "hovertemplate": "Composant=X9<br>Occurences=%{x}<br>Durée de fonctionnement=%{y}<extra></extra>",
         "legendgroup": "X9",
         "marker": {
          "color": "#FF97FF",
          "symbol": "circle"
         },
         "mode": "markers",
         "name": "X9",
         "orientation": "v",
         "showlegend": true,
         "type": "scatter",
         "x": [
          39
         ],
         "xaxis": "x",
         "y": [
          672750.25
         ],
         "yaxis": "y"
        },
        {
         "hovertemplate": "Composant=X10<br>Occurences=%{x}<br>Durée de fonctionnement=%{y}<extra></extra>",
         "legendgroup": "X10",
         "marker": {
          "color": "#FECB52",
          "symbol": "circle"
         },
         "mode": "markers",
         "name": "X10",
         "orientation": "v",
         "showlegend": true,
         "type": "scatter",
         "x": [
          62
         ],
         "xaxis": "x",
         "y": [
          904582.3399999999
         ],
         "yaxis": "y"
        },
        {
         "hovertemplate": "Composant=X11<br>Occurences=%{x}<br>Durée de fonctionnement=%{y}<extra></extra>",
         "legendgroup": "X11",
         "marker": {
          "color": "#636efa",
          "symbol": "circle"
         },
         "mode": "markers",
         "name": "X11",
         "orientation": "v",
         "showlegend": true,
         "type": "scatter",
         "x": [
          17
         ],
         "xaxis": "x",
         "y": [
          328218.2
         ],
         "yaxis": "y"
        },
        {
         "hovertemplate": "Composant=X12<br>Occurences=%{x}<br>Durée de fonctionnement=%{y}<extra></extra>",
         "legendgroup": "X12",
         "marker": {
          "color": "#EF553B",
          "symbol": "circle"
         },
         "mode": "markers",
         "name": "X12",
         "orientation": "v",
         "showlegend": true,
         "type": "scatter",
         "x": [
          0
         ],
         "xaxis": "x",
         "y": [
          0
         ],
         "yaxis": "y"
        },
        {
         "hovertemplate": "Composant=X13<br>Occurences=%{x}<br>Durée de fonctionnement=%{y}<extra></extra>",
         "legendgroup": "X13",
         "marker": {
          "color": "#00cc96",
          "symbol": "circle"
         },
         "mode": "markers",
         "name": "X13",
         "orientation": "v",
         "showlegend": true,
         "type": "scatter",
         "x": [
          28
         ],
         "xaxis": "x",
         "y": [
          426455.87
         ],
         "yaxis": "y"
        },
        {
         "hovertemplate": "Composant=X14<br>Occurences=%{x}<br>Durée de fonctionnement=%{y}<extra></extra>",
         "legendgroup": "X14",
         "marker": {
          "color": "#ab63fa",
          "symbol": "circle"
         },
         "mode": "markers",
         "name": "X14",
         "orientation": "v",
         "showlegend": true,
         "type": "scatter",
         "x": [
          176
         ],
         "xaxis": "x",
         "y": [
          3019811.9000000004
         ],
         "yaxis": "y"
        },
        {
         "hovertemplate": "Composant=X15<br>Occurences=%{x}<br>Durée de fonctionnement=%{y}<extra></extra>",
         "legendgroup": "X15",
         "marker": {
          "color": "#FFA15A",
          "symbol": "circle"
         },
         "mode": "markers",
         "name": "X15",
         "orientation": "v",
         "showlegend": true,
         "type": "scatter",
         "x": [
          54
         ],
         "xaxis": "x",
         "y": [
          901394.7000000002
         ],
         "yaxis": "y"
        }
       ],
       "layout": {
        "legend": {
         "title": {
          "text": "Composant"
         },
         "tracegroupgap": 0
        },
        "margin": {
         "t": 60
        },
        "template": {
         "data": {
          "bar": [
           {
            "error_x": {
             "color": "#2a3f5f"
            },
            "error_y": {
             "color": "#2a3f5f"
            },
            "marker": {
             "line": {
              "color": "#E5ECF6",
              "width": 0.5
             },
             "pattern": {
              "fillmode": "overlay",
              "size": 10,
              "solidity": 0.2
             }
            },
            "type": "bar"
           }
          ],
          "barpolar": [
           {
            "marker": {
             "line": {
              "color": "#E5ECF6",
              "width": 0.5
             },
             "pattern": {
              "fillmode": "overlay",
              "size": 10,
              "solidity": 0.2
             }
            },
            "type": "barpolar"
           }
          ],
          "carpet": [
           {
            "aaxis": {
             "endlinecolor": "#2a3f5f",
             "gridcolor": "white",
             "linecolor": "white",
             "minorgridcolor": "white",
             "startlinecolor": "#2a3f5f"
            },
            "baxis": {
             "endlinecolor": "#2a3f5f",
             "gridcolor": "white",
             "linecolor": "white",
             "minorgridcolor": "white",
             "startlinecolor": "#2a3f5f"
            },
            "type": "carpet"
           }
          ],
          "choropleth": [
           {
            "colorbar": {
             "outlinewidth": 0,
             "ticks": ""
            },
            "type": "choropleth"
           }
          ],
          "contour": [
           {
            "colorbar": {
             "outlinewidth": 0,
             "ticks": ""
            },
            "colorscale": [
             [
              0,
              "#0d0887"
             ],
             [
              0.1111111111111111,
              "#46039f"
             ],
             [
              0.2222222222222222,
              "#7201a8"
             ],
             [
              0.3333333333333333,
              "#9c179e"
             ],
             [
              0.4444444444444444,
              "#bd3786"
             ],
             [
              0.5555555555555556,
              "#d8576b"
             ],
             [
              0.6666666666666666,
              "#ed7953"
             ],
             [
              0.7777777777777778,
              "#fb9f3a"
             ],
             [
              0.8888888888888888,
              "#fdca26"
             ],
             [
              1,
              "#f0f921"
             ]
            ],
            "type": "contour"
           }
          ],
          "contourcarpet": [
           {
            "colorbar": {
             "outlinewidth": 0,
             "ticks": ""
            },
            "type": "contourcarpet"
           }
          ],
          "heatmap": [
           {
            "colorbar": {
             "outlinewidth": 0,
             "ticks": ""
            },
            "colorscale": [
             [
              0,
              "#0d0887"
             ],
             [
              0.1111111111111111,
              "#46039f"
             ],
             [
              0.2222222222222222,
              "#7201a8"
             ],
             [
              0.3333333333333333,
              "#9c179e"
             ],
             [
              0.4444444444444444,
              "#bd3786"
             ],
             [
              0.5555555555555556,
              "#d8576b"
             ],
             [
              0.6666666666666666,
              "#ed7953"
             ],
             [
              0.7777777777777778,
              "#fb9f3a"
             ],
             [
              0.8888888888888888,
              "#fdca26"
             ],
             [
              1,
              "#f0f921"
             ]
            ],
            "type": "heatmap"
           }
          ],
          "heatmapgl": [
           {
            "colorbar": {
             "outlinewidth": 0,
             "ticks": ""
            },
            "colorscale": [
             [
              0,
              "#0d0887"
             ],
             [
              0.1111111111111111,
              "#46039f"
             ],
             [
              0.2222222222222222,
              "#7201a8"
             ],
             [
              0.3333333333333333,
              "#9c179e"
             ],
             [
              0.4444444444444444,
              "#bd3786"
             ],
             [
              0.5555555555555556,
              "#d8576b"
             ],
             [
              0.6666666666666666,
              "#ed7953"
             ],
             [
              0.7777777777777778,
              "#fb9f3a"
             ],
             [
              0.8888888888888888,
              "#fdca26"
             ],
             [
              1,
              "#f0f921"
             ]
            ],
            "type": "heatmapgl"
           }
          ],
          "histogram": [
           {
            "marker": {
             "pattern": {
              "fillmode": "overlay",
              "size": 10,
              "solidity": 0.2
             }
            },
            "type": "histogram"
           }
          ],
          "histogram2d": [
           {
            "colorbar": {
             "outlinewidth": 0,
             "ticks": ""
            },
            "colorscale": [
             [
              0,
              "#0d0887"
             ],
             [
              0.1111111111111111,
              "#46039f"
             ],
             [
              0.2222222222222222,
              "#7201a8"
             ],
             [
              0.3333333333333333,
              "#9c179e"
             ],
             [
              0.4444444444444444,
              "#bd3786"
             ],
             [
              0.5555555555555556,
              "#d8576b"
             ],
             [
              0.6666666666666666,
              "#ed7953"
             ],
             [
              0.7777777777777778,
              "#fb9f3a"
             ],
             [
              0.8888888888888888,
              "#fdca26"
             ],
             [
              1,
              "#f0f921"
             ]
            ],
            "type": "histogram2d"
           }
          ],
          "histogram2dcontour": [
           {
            "colorbar": {
             "outlinewidth": 0,
             "ticks": ""
            },
            "colorscale": [
             [
              0,
              "#0d0887"
             ],
             [
              0.1111111111111111,
              "#46039f"
             ],
             [
              0.2222222222222222,
              "#7201a8"
             ],
             [
              0.3333333333333333,
              "#9c179e"
             ],
             [
              0.4444444444444444,
              "#bd3786"
             ],
             [
              0.5555555555555556,
              "#d8576b"
             ],
             [
              0.6666666666666666,
              "#ed7953"
             ],
             [
              0.7777777777777778,
              "#fb9f3a"
             ],
             [
              0.8888888888888888,
              "#fdca26"
             ],
             [
              1,
              "#f0f921"
             ]
            ],
            "type": "histogram2dcontour"
           }
          ],
          "mesh3d": [
           {
            "colorbar": {
             "outlinewidth": 0,
             "ticks": ""
            },
            "type": "mesh3d"
           }
          ],
          "parcoords": [
           {
            "line": {
             "colorbar": {
              "outlinewidth": 0,
              "ticks": ""
             }
            },
            "type": "parcoords"
           }
          ],
          "pie": [
           {
            "automargin": true,
            "type": "pie"
           }
          ],
          "scatter": [
           {
            "marker": {
             "colorbar": {
              "outlinewidth": 0,
              "ticks": ""
             }
            },
            "type": "scatter"
           }
          ],
          "scatter3d": [
           {
            "line": {
             "colorbar": {
              "outlinewidth": 0,
              "ticks": ""
             }
            },
            "marker": {
             "colorbar": {
              "outlinewidth": 0,
              "ticks": ""
             }
            },
            "type": "scatter3d"
           }
          ],
          "scattercarpet": [
           {
            "marker": {
             "colorbar": {
              "outlinewidth": 0,
              "ticks": ""
             }
            },
            "type": "scattercarpet"
           }
          ],
          "scattergeo": [
           {
            "marker": {
             "colorbar": {
              "outlinewidth": 0,
              "ticks": ""
             }
            },
            "type": "scattergeo"
           }
          ],
          "scattergl": [
           {
            "marker": {
             "colorbar": {
              "outlinewidth": 0,
              "ticks": ""
             }
            },
            "type": "scattergl"
           }
          ],
          "scattermapbox": [
           {
            "marker": {
             "colorbar": {
              "outlinewidth": 0,
              "ticks": ""
             }
            },
            "type": "scattermapbox"
           }
          ],
          "scatterpolar": [
           {
            "marker": {
             "colorbar": {
              "outlinewidth": 0,
              "ticks": ""
             }
            },
            "type": "scatterpolar"
           }
          ],
          "scatterpolargl": [
           {
            "marker": {
             "colorbar": {
              "outlinewidth": 0,
              "ticks": ""
             }
            },
            "type": "scatterpolargl"
           }
          ],
          "scatterternary": [
           {
            "marker": {
             "colorbar": {
              "outlinewidth": 0,
              "ticks": ""
             }
            },
            "type": "scatterternary"
           }
          ],
          "surface": [
           {
            "colorbar": {
             "outlinewidth": 0,
             "ticks": ""
            },
            "colorscale": [
             [
              0,
              "#0d0887"
             ],
             [
              0.1111111111111111,
              "#46039f"
             ],
             [
              0.2222222222222222,
              "#7201a8"
             ],
             [
              0.3333333333333333,
              "#9c179e"
             ],
             [
              0.4444444444444444,
              "#bd3786"
             ],
             [
              0.5555555555555556,
              "#d8576b"
             ],
             [
              0.6666666666666666,
              "#ed7953"
             ],
             [
              0.7777777777777778,
              "#fb9f3a"
             ],
             [
              0.8888888888888888,
              "#fdca26"
             ],
             [
              1,
              "#f0f921"
             ]
            ],
            "type": "surface"
           }
          ],
          "table": [
           {
            "cells": {
             "fill": {
              "color": "#EBF0F8"
             },
             "line": {
              "color": "white"
             }
            },
            "header": {
             "fill": {
              "color": "#C8D4E3"
             },
             "line": {
              "color": "white"
             }
            },
            "type": "table"
           }
          ]
         },
         "layout": {
          "annotationdefaults": {
           "arrowcolor": "#2a3f5f",
           "arrowhead": 0,
           "arrowwidth": 1
          },
          "autotypenumbers": "strict",
          "coloraxis": {
           "colorbar": {
            "outlinewidth": 0,
            "ticks": ""
           }
          },
          "colorscale": {
           "diverging": [
            [
             0,
             "#8e0152"
            ],
            [
             0.1,
             "#c51b7d"
            ],
            [
             0.2,
             "#de77ae"
            ],
            [
             0.3,
             "#f1b6da"
            ],
            [
             0.4,
             "#fde0ef"
            ],
            [
             0.5,
             "#f7f7f7"
            ],
            [
             0.6,
             "#e6f5d0"
            ],
            [
             0.7,
             "#b8e186"
            ],
            [
             0.8,
             "#7fbc41"
            ],
            [
             0.9,
             "#4d9221"
            ],
            [
             1,
             "#276419"
            ]
           ],
           "sequential": [
            [
             0,
             "#0d0887"
            ],
            [
             0.1111111111111111,
             "#46039f"
            ],
            [
             0.2222222222222222,
             "#7201a8"
            ],
            [
             0.3333333333333333,
             "#9c179e"
            ],
            [
             0.4444444444444444,
             "#bd3786"
            ],
            [
             0.5555555555555556,
             "#d8576b"
            ],
            [
             0.6666666666666666,
             "#ed7953"
            ],
            [
             0.7777777777777778,
             "#fb9f3a"
            ],
            [
             0.8888888888888888,
             "#fdca26"
            ],
            [
             1,
             "#f0f921"
            ]
           ],
           "sequentialminus": [
            [
             0,
             "#0d0887"
            ],
            [
             0.1111111111111111,
             "#46039f"
            ],
            [
             0.2222222222222222,
             "#7201a8"
            ],
            [
             0.3333333333333333,
             "#9c179e"
            ],
            [
             0.4444444444444444,
             "#bd3786"
            ],
            [
             0.5555555555555556,
             "#d8576b"
            ],
            [
             0.6666666666666666,
             "#ed7953"
            ],
            [
             0.7777777777777778,
             "#fb9f3a"
            ],
            [
             0.8888888888888888,
             "#fdca26"
            ],
            [
             1,
             "#f0f921"
            ]
           ]
          },
          "colorway": [
           "#636efa",
           "#EF553B",
           "#00cc96",
           "#ab63fa",
           "#FFA15A",
           "#19d3f3",
           "#FF6692",
           "#B6E880",
           "#FF97FF",
           "#FECB52"
          ],
          "font": {
           "color": "#2a3f5f"
          },
          "geo": {
           "bgcolor": "white",
           "lakecolor": "white",
           "landcolor": "#E5ECF6",
           "showlakes": true,
           "showland": true,
           "subunitcolor": "white"
          },
          "hoverlabel": {
           "align": "left"
          },
          "hovermode": "closest",
          "mapbox": {
           "style": "light"
          },
          "paper_bgcolor": "white",
          "plot_bgcolor": "#E5ECF6",
          "polar": {
           "angularaxis": {
            "gridcolor": "white",
            "linecolor": "white",
            "ticks": ""
           },
           "bgcolor": "#E5ECF6",
           "radialaxis": {
            "gridcolor": "white",
            "linecolor": "white",
            "ticks": ""
           }
          },
          "scene": {
           "xaxis": {
            "backgroundcolor": "#E5ECF6",
            "gridcolor": "white",
            "gridwidth": 2,
            "linecolor": "white",
            "showbackground": true,
            "ticks": "",
            "zerolinecolor": "white"
           },
           "yaxis": {
            "backgroundcolor": "#E5ECF6",
            "gridcolor": "white",
            "gridwidth": 2,
            "linecolor": "white",
            "showbackground": true,
            "ticks": "",
            "zerolinecolor": "white"
           },
           "zaxis": {
            "backgroundcolor": "#E5ECF6",
            "gridcolor": "white",
            "gridwidth": 2,
            "linecolor": "white",
            "showbackground": true,
            "ticks": "",
            "zerolinecolor": "white"
           }
          },
          "shapedefaults": {
           "line": {
            "color": "#2a3f5f"
           }
          },
          "ternary": {
           "aaxis": {
            "gridcolor": "white",
            "linecolor": "white",
            "ticks": ""
           },
           "baxis": {
            "gridcolor": "white",
            "linecolor": "white",
            "ticks": ""
           },
           "bgcolor": "#E5ECF6",
           "caxis": {
            "gridcolor": "white",
            "linecolor": "white",
            "ticks": ""
           }
          },
          "title": {
           "x": 0.05
          },
          "xaxis": {
           "automargin": true,
           "gridcolor": "white",
           "linecolor": "white",
           "ticks": "",
           "title": {
            "standoff": 15
           },
           "zerolinecolor": "white",
           "zerolinewidth": 2
          },
          "yaxis": {
           "automargin": true,
           "gridcolor": "white",
           "linecolor": "white",
           "ticks": "",
           "title": {
            "standoff": 15
           },
           "zerolinecolor": "white",
           "zerolinewidth": 2
          }
         }
        },
        "xaxis": {
         "anchor": "y",
         "domain": [
          0,
          1
         ],
         "title": {
          "text": "Occurences"
         }
        },
        "yaxis": {
         "anchor": "x",
         "domain": [
          0,
          1
         ],
         "title": {
          "text": "Durée de fonctionnement"
         }
        }
       }
      }
     },
     "metadata": {},
     "output_type": "display_data"
    }
   ],
   "source": [
    "fig = px.scatter(df_barh_d, x=\"Occ_tot\", y=\"Duree_tot\", color=\"Comp\",\n",
    "            labels={\n",
    "                     \"Occ_tot\": \"Occurences\",\n",
    "                     \"Duree_tot\": \"Durée de fonctionnement\",\n",
    "                     \"Comp\": \"Composant\"\n",
    "                 })\n",
    "fig.show()"
   ]
  },
  {
   "cell_type": "markdown",
   "metadata": {},
   "source": [
    "#### 4.2 Modèle linéaire"
   ]
  },
  {
   "cell_type": "code",
   "execution_count": 316,
   "metadata": {},
   "outputs": [
    {
     "data": {
      "application/vnd.plotly.v1+json": {
       "config": {
        "plotlyServerURL": "https://plot.ly"
       },
       "data": [
        {
         "hovertemplate": "occurences=%{x}<br>=%{y}<extra></extra>",
         "legendgroup": "",
         "line": {
          "color": "#636efa",
          "dash": "solid"
         },
         "marker": {
          "symbol": "circle"
         },
         "mode": "lines",
         "name": "",
         "orientation": "v",
         "showlegend": false,
         "type": "scatter",
         "x": [
          0,
          2.525252525252525,
          5.05050505050505,
          7.575757575757575,
          10.1010101010101,
          12.626262626262626,
          15.15151515151515,
          17.676767676767675,
          20.2020202020202,
          22.727272727272727,
          25.252525252525253,
          27.777777777777775,
          30.3030303030303,
          32.82828282828282,
          35.35353535353535,
          37.878787878787875,
          40.4040404040404,
          42.92929292929293,
          45.45454545454545,
          47.97979797979798,
          50.505050505050505,
          53.030303030303024,
          55.55555555555555,
          58.080808080808076,
          60.6060606060606,
          63.13131313131313,
          65.65656565656565,
          68.18181818181817,
          70.7070707070707,
          73.23232323232322,
          75.75757575757575,
          78.28282828282828,
          80.8080808080808,
          83.33333333333333,
          85.85858585858585,
          88.38383838383838,
          90.9090909090909,
          93.43434343434343,
          95.95959595959596,
          98.48484848484848,
          101.01010101010101,
          103.53535353535352,
          106.06060606060605,
          108.58585858585857,
          111.1111111111111,
          113.63636363636363,
          116.16161616161615,
          118.68686868686868,
          121.2121212121212,
          123.73737373737373,
          126.26262626262626,
          128.78787878787878,
          131.3131313131313,
          133.83838383838383,
          136.36363636363635,
          138.88888888888889,
          141.4141414141414,
          143.93939393939394,
          146.46464646464645,
          148.989898989899,
          151.5151515151515,
          154.04040404040404,
          156.56565656565655,
          159.0909090909091,
          161.6161616161616,
          164.14141414141412,
          166.66666666666666,
          169.19191919191917,
          171.7171717171717,
          174.24242424242422,
          176.76767676767676,
          179.29292929292927,
          181.8181818181818,
          184.34343434343432,
          186.86868686868686,
          189.39393939393938,
          191.91919191919192,
          194.44444444444443,
          196.96969696969697,
          199.49494949494948,
          202.02020202020202,
          204.54545454545453,
          207.07070707070704,
          209.59595959595958,
          212.1212121212121,
          214.64646464646464,
          217.17171717171715,
          219.6969696969697,
          222.2222222222222,
          224.74747474747474,
          227.27272727272725,
          229.7979797979798,
          232.3232323232323,
          234.84848484848484,
          237.37373737373736,
          239.8989898989899,
          242.4242424242424,
          244.94949494949492,
          247.47474747474746,
          250
         ],
         "xaxis": "x",
         "y": [
          -19407.78226062865,
          24081.94190421918,
          67571.66606906701,
          111061.39023391483,
          154551.11439876267,
          198040.8385636105,
          241530.56272845832,
          285020.2868933061,
          328510.011058154,
          371999.7352230018,
          415489.45938784967,
          458979.1835526974,
          502468.9077175453,
          545958.631882393,
          589448.3560472409,
          632938.0802120888,
          676427.8043769366,
          719917.5285417844,
          763407.2527066323,
          806896.9768714801,
          850386.701036328,
          893876.4252011757,
          937366.1493660235,
          980855.8735308714,
          1024345.5976957192,
          1067835.321860567,
          1111325.0460254147,
          1154814.7701902627,
          1198304.4943551105,
          1241794.2185199582,
          1285283.9426848062,
          1328773.666849654,
          1372263.391014502,
          1415753.1151793497,
          1459242.8393441974,
          1502732.5635090454,
          1546222.2876738932,
          1589712.0118387411,
          1633201.736003589,
          1676691.4601684366,
          1720181.1843332846,
          1763670.9084981321,
          1807160.6326629801,
          1850650.3568278279,
          1894140.0809926756,
          1937629.8051575236,
          1981119.5293223714,
          2024609.2534872193,
          2068098.977652067,
          2111588.7018169146,
          2155078.425981763,
          2198568.150146611,
          2242057.8743114583,
          2285547.5984763065,
          2329037.322641154,
          2372527.046806002,
          2416016.7709708493,
          2459506.4951356975,
          2502996.219300545,
          2546485.943465393,
          2589975.6676302413,
          2633465.3917950895,
          2676955.1159599368,
          2720444.840124785,
          2763934.5642896323,
          2807424.2884544795,
          2850914.0126193278,
          2894403.736784176,
          2937893.4609490233,
          2981383.1851138715,
          3024872.9092787197,
          3068362.633443567,
          3111852.357608415,
          3155342.0817732625,
          3198831.8059381107,
          3242321.530102958,
          3285811.254267806,
          3329300.9784326544,
          3372790.7025975017,
          3416280.42676235,
          3459770.150927198,
          3503259.8750920454,
          3546749.5992568927,
          3590239.323421741,
          3633729.047586589,
          3677218.7717514364,
          3720708.4959162846,
          3764198.220081133,
          3807687.94424598,
          3851177.6684108283,
          3894667.3925756756,
          3938157.116740524,
          3981646.840905371,
          4025136.5650702193,
          4068626.2892350676,
          4112116.013399915,
          4155605.737564763,
          4199095.46172961,
          4242585.185894459,
          4286074.910059307
         ],
         "yaxis": "y"
        },
        {
         "hovertemplate": "Comp=X1<br>Occ_tot=%{x}<br>Duree_tot=%{y}<extra></extra>",
         "legendgroup": "X1",
         "marker": {
          "color": "#636efa",
          "symbol": "circle"
         },
         "mode": "markers",
         "name": "X1",
         "orientation": "v",
         "showlegend": true,
         "type": "scatter",
         "x": [
          155
         ],
         "xaxis": "x",
         "y": [
          2651974.3199999994
         ],
         "yaxis": "y"
        },
        {
         "hovertemplate": "Comp=X2<br>Occ_tot=%{x}<br>Duree_tot=%{y}<extra></extra>",
         "legendgroup": "X2",
         "marker": {
          "color": "#EF553B",
          "symbol": "circle"
         },
         "mode": "markers",
         "name": "X2",
         "orientation": "v",
         "showlegend": true,
         "type": "scatter",
         "x": [
          86
         ],
         "xaxis": "x",
         "y": [
          1475659.0499999998
         ],
         "yaxis": "y"
        },
        {
         "hovertemplate": "Comp=X3<br>Occ_tot=%{x}<br>Duree_tot=%{y}<extra></extra>",
         "legendgroup": "X3",
         "marker": {
          "color": "#00cc96",
          "symbol": "circle"
         },
         "mode": "markers",
         "name": "X3",
         "orientation": "v",
         "showlegend": true,
         "type": "scatter",
         "x": [
          68
         ],
         "xaxis": "x",
         "y": [
          1118796.61
         ],
         "yaxis": "y"
        },
        {
         "hovertemplate": "Comp=X4<br>Occ_tot=%{x}<br>Duree_tot=%{y}<extra></extra>",
         "legendgroup": "X4",
         "marker": {
          "color": "#ab63fa",
          "symbol": "circle"
         },
         "mode": "markers",
         "name": "X4",
         "orientation": "v",
         "showlegend": true,
         "type": "scatter",
         "x": [
          244
         ],
         "xaxis": "x",
         "y": [
          4080891.33
         ],
         "yaxis": "y"
        },
        {
         "hovertemplate": "Comp=X5<br>Occ_tot=%{x}<br>Duree_tot=%{y}<extra></extra>",
         "legendgroup": "X5",
         "marker": {
          "color": "#FFA15A",
          "symbol": "circle"
         },
         "mode": "markers",
         "name": "X5",
         "orientation": "v",
         "showlegend": true,
         "type": "scatter",
         "x": [
          18
         ],
         "xaxis": "x",
         "y": [
          278577.05999999994
         ],
         "yaxis": "y"
        },
        {
         "hovertemplate": "Comp=X6<br>Occ_tot=%{x}<br>Duree_tot=%{y}<extra></extra>",
         "legendgroup": "X6",
         "marker": {
          "color": "#19d3f3",
          "symbol": "circle"
         },
         "mode": "markers",
         "name": "X6",
         "orientation": "v",
         "showlegend": true,
         "type": "scatter",
         "x": [
          245
         ],
         "xaxis": "x",
         "y": [
          4352385.85
         ],
         "yaxis": "y"
        },
        {
         "hovertemplate": "Comp=X7<br>Occ_tot=%{x}<br>Duree_tot=%{y}<extra></extra>",
         "legendgroup": "X7",
         "marker": {
          "color": "#FF6692",
          "symbol": "circle"
         },
         "mode": "markers",
         "name": "X7",
         "orientation": "v",
         "showlegend": true,
         "type": "scatter",
         "x": [
          83
         ],
         "xaxis": "x",
         "y": [
          1328347.4600000002
         ],
         "yaxis": "y"
        },
        {
         "hovertemplate": "Comp=X8<br>Occ_tot=%{x}<br>Duree_tot=%{y}<extra></extra>",
         "legendgroup": "X8",
         "marker": {
          "color": "#B6E880",
          "symbol": "circle"
         },
         "mode": "markers",
         "name": "X8",
         "orientation": "v",
         "showlegend": true,
         "type": "scatter",
         "x": [
          17
         ],
         "xaxis": "x",
         "y": [
          419772.87999999995
         ],
         "yaxis": "y"
        },
        {
         "hovertemplate": "Comp=X9<br>Occ_tot=%{x}<br>Duree_tot=%{y}<extra></extra>",
         "legendgroup": "X9",
         "marker": {
          "color": "#FF97FF",
          "symbol": "circle"
         },
         "mode": "markers",
         "name": "X9",
         "orientation": "v",
         "showlegend": true,
         "type": "scatter",
         "x": [
          39
         ],
         "xaxis": "x",
         "y": [
          672750.25
         ],
         "yaxis": "y"
        },
        {
         "hovertemplate": "Comp=X10<br>Occ_tot=%{x}<br>Duree_tot=%{y}<extra></extra>",
         "legendgroup": "X10",
         "marker": {
          "color": "#FECB52",
          "symbol": "circle"
         },
         "mode": "markers",
         "name": "X10",
         "orientation": "v",
         "showlegend": true,
         "type": "scatter",
         "x": [
          62
         ],
         "xaxis": "x",
         "y": [
          904582.3399999999
         ],
         "yaxis": "y"
        },
        {
         "hovertemplate": "Comp=X11<br>Occ_tot=%{x}<br>Duree_tot=%{y}<extra></extra>",
         "legendgroup": "X11",
         "marker": {
          "color": "#636efa",
          "symbol": "circle"
         },
         "mode": "markers",
         "name": "X11",
         "orientation": "v",
         "showlegend": true,
         "type": "scatter",
         "x": [
          17
         ],
         "xaxis": "x",
         "y": [
          328218.2
         ],
         "yaxis": "y"
        },
        {
         "hovertemplate": "Comp=X12<br>Occ_tot=%{x}<br>Duree_tot=%{y}<extra></extra>",
         "legendgroup": "X12",
         "marker": {
          "color": "#EF553B",
          "symbol": "circle"
         },
         "mode": "markers",
         "name": "X12",
         "orientation": "v",
         "showlegend": true,
         "type": "scatter",
         "x": [
          0
         ],
         "xaxis": "x",
         "y": [
          0
         ],
         "yaxis": "y"
        },
        {
         "hovertemplate": "Comp=X13<br>Occ_tot=%{x}<br>Duree_tot=%{y}<extra></extra>",
         "legendgroup": "X13",
         "marker": {
          "color": "#00cc96",
          "symbol": "circle"
         },
         "mode": "markers",
         "name": "X13",
         "orientation": "v",
         "showlegend": true,
         "type": "scatter",
         "x": [
          28
         ],
         "xaxis": "x",
         "y": [
          426455.87
         ],
         "yaxis": "y"
        },
        {
         "hovertemplate": "Comp=X14<br>Occ_tot=%{x}<br>Duree_tot=%{y}<extra></extra>",
         "legendgroup": "X14",
         "marker": {
          "color": "#ab63fa",
          "symbol": "circle"
         },
         "mode": "markers",
         "name": "X14",
         "orientation": "v",
         "showlegend": true,
         "type": "scatter",
         "x": [
          176
         ],
         "xaxis": "x",
         "y": [
          3019811.9000000004
         ],
         "yaxis": "y"
        },
        {
         "hovertemplate": "Comp=X15<br>Occ_tot=%{x}<br>Duree_tot=%{y}<extra></extra>",
         "legendgroup": "X15",
         "marker": {
          "color": "#FFA15A",
          "symbol": "circle"
         },
         "mode": "markers",
         "name": "X15",
         "orientation": "v",
         "showlegend": true,
         "type": "scatter",
         "x": [
          54
         ],
         "xaxis": "x",
         "y": [
          901394.7000000002
         ],
         "yaxis": "y"
        }
       ],
       "layout": {
        "template": {
         "data": {
          "bar": [
           {
            "error_x": {
             "color": "#2a3f5f"
            },
            "error_y": {
             "color": "#2a3f5f"
            },
            "marker": {
             "line": {
              "color": "#E5ECF6",
              "width": 0.5
             },
             "pattern": {
              "fillmode": "overlay",
              "size": 10,
              "solidity": 0.2
             }
            },
            "type": "bar"
           }
          ],
          "barpolar": [
           {
            "marker": {
             "line": {
              "color": "#E5ECF6",
              "width": 0.5
             },
             "pattern": {
              "fillmode": "overlay",
              "size": 10,
              "solidity": 0.2
             }
            },
            "type": "barpolar"
           }
          ],
          "carpet": [
           {
            "aaxis": {
             "endlinecolor": "#2a3f5f",
             "gridcolor": "white",
             "linecolor": "white",
             "minorgridcolor": "white",
             "startlinecolor": "#2a3f5f"
            },
            "baxis": {
             "endlinecolor": "#2a3f5f",
             "gridcolor": "white",
             "linecolor": "white",
             "minorgridcolor": "white",
             "startlinecolor": "#2a3f5f"
            },
            "type": "carpet"
           }
          ],
          "choropleth": [
           {
            "colorbar": {
             "outlinewidth": 0,
             "ticks": ""
            },
            "type": "choropleth"
           }
          ],
          "contour": [
           {
            "colorbar": {
             "outlinewidth": 0,
             "ticks": ""
            },
            "colorscale": [
             [
              0,
              "#0d0887"
             ],
             [
              0.1111111111111111,
              "#46039f"
             ],
             [
              0.2222222222222222,
              "#7201a8"
             ],
             [
              0.3333333333333333,
              "#9c179e"
             ],
             [
              0.4444444444444444,
              "#bd3786"
             ],
             [
              0.5555555555555556,
              "#d8576b"
             ],
             [
              0.6666666666666666,
              "#ed7953"
             ],
             [
              0.7777777777777778,
              "#fb9f3a"
             ],
             [
              0.8888888888888888,
              "#fdca26"
             ],
             [
              1,
              "#f0f921"
             ]
            ],
            "type": "contour"
           }
          ],
          "contourcarpet": [
           {
            "colorbar": {
             "outlinewidth": 0,
             "ticks": ""
            },
            "type": "contourcarpet"
           }
          ],
          "heatmap": [
           {
            "colorbar": {
             "outlinewidth": 0,
             "ticks": ""
            },
            "colorscale": [
             [
              0,
              "#0d0887"
             ],
             [
              0.1111111111111111,
              "#46039f"
             ],
             [
              0.2222222222222222,
              "#7201a8"
             ],
             [
              0.3333333333333333,
              "#9c179e"
             ],
             [
              0.4444444444444444,
              "#bd3786"
             ],
             [
              0.5555555555555556,
              "#d8576b"
             ],
             [
              0.6666666666666666,
              "#ed7953"
             ],
             [
              0.7777777777777778,
              "#fb9f3a"
             ],
             [
              0.8888888888888888,
              "#fdca26"
             ],
             [
              1,
              "#f0f921"
             ]
            ],
            "type": "heatmap"
           }
          ],
          "heatmapgl": [
           {
            "colorbar": {
             "outlinewidth": 0,
             "ticks": ""
            },
            "colorscale": [
             [
              0,
              "#0d0887"
             ],
             [
              0.1111111111111111,
              "#46039f"
             ],
             [
              0.2222222222222222,
              "#7201a8"
             ],
             [
              0.3333333333333333,
              "#9c179e"
             ],
             [
              0.4444444444444444,
              "#bd3786"
             ],
             [
              0.5555555555555556,
              "#d8576b"
             ],
             [
              0.6666666666666666,
              "#ed7953"
             ],
             [
              0.7777777777777778,
              "#fb9f3a"
             ],
             [
              0.8888888888888888,
              "#fdca26"
             ],
             [
              1,
              "#f0f921"
             ]
            ],
            "type": "heatmapgl"
           }
          ],
          "histogram": [
           {
            "marker": {
             "pattern": {
              "fillmode": "overlay",
              "size": 10,
              "solidity": 0.2
             }
            },
            "type": "histogram"
           }
          ],
          "histogram2d": [
           {
            "colorbar": {
             "outlinewidth": 0,
             "ticks": ""
            },
            "colorscale": [
             [
              0,
              "#0d0887"
             ],
             [
              0.1111111111111111,
              "#46039f"
             ],
             [
              0.2222222222222222,
              "#7201a8"
             ],
             [
              0.3333333333333333,
              "#9c179e"
             ],
             [
              0.4444444444444444,
              "#bd3786"
             ],
             [
              0.5555555555555556,
              "#d8576b"
             ],
             [
              0.6666666666666666,
              "#ed7953"
             ],
             [
              0.7777777777777778,
              "#fb9f3a"
             ],
             [
              0.8888888888888888,
              "#fdca26"
             ],
             [
              1,
              "#f0f921"
             ]
            ],
            "type": "histogram2d"
           }
          ],
          "histogram2dcontour": [
           {
            "colorbar": {
             "outlinewidth": 0,
             "ticks": ""
            },
            "colorscale": [
             [
              0,
              "#0d0887"
             ],
             [
              0.1111111111111111,
              "#46039f"
             ],
             [
              0.2222222222222222,
              "#7201a8"
             ],
             [
              0.3333333333333333,
              "#9c179e"
             ],
             [
              0.4444444444444444,
              "#bd3786"
             ],
             [
              0.5555555555555556,
              "#d8576b"
             ],
             [
              0.6666666666666666,
              "#ed7953"
             ],
             [
              0.7777777777777778,
              "#fb9f3a"
             ],
             [
              0.8888888888888888,
              "#fdca26"
             ],
             [
              1,
              "#f0f921"
             ]
            ],
            "type": "histogram2dcontour"
           }
          ],
          "mesh3d": [
           {
            "colorbar": {
             "outlinewidth": 0,
             "ticks": ""
            },
            "type": "mesh3d"
           }
          ],
          "parcoords": [
           {
            "line": {
             "colorbar": {
              "outlinewidth": 0,
              "ticks": ""
             }
            },
            "type": "parcoords"
           }
          ],
          "pie": [
           {
            "automargin": true,
            "type": "pie"
           }
          ],
          "scatter": [
           {
            "marker": {
             "colorbar": {
              "outlinewidth": 0,
              "ticks": ""
             }
            },
            "type": "scatter"
           }
          ],
          "scatter3d": [
           {
            "line": {
             "colorbar": {
              "outlinewidth": 0,
              "ticks": ""
             }
            },
            "marker": {
             "colorbar": {
              "outlinewidth": 0,
              "ticks": ""
             }
            },
            "type": "scatter3d"
           }
          ],
          "scattercarpet": [
           {
            "marker": {
             "colorbar": {
              "outlinewidth": 0,
              "ticks": ""
             }
            },
            "type": "scattercarpet"
           }
          ],
          "scattergeo": [
           {
            "marker": {
             "colorbar": {
              "outlinewidth": 0,
              "ticks": ""
             }
            },
            "type": "scattergeo"
           }
          ],
          "scattergl": [
           {
            "marker": {
             "colorbar": {
              "outlinewidth": 0,
              "ticks": ""
             }
            },
            "type": "scattergl"
           }
          ],
          "scattermapbox": [
           {
            "marker": {
             "colorbar": {
              "outlinewidth": 0,
              "ticks": ""
             }
            },
            "type": "scattermapbox"
           }
          ],
          "scatterpolar": [
           {
            "marker": {
             "colorbar": {
              "outlinewidth": 0,
              "ticks": ""
             }
            },
            "type": "scatterpolar"
           }
          ],
          "scatterpolargl": [
           {
            "marker": {
             "colorbar": {
              "outlinewidth": 0,
              "ticks": ""
             }
            },
            "type": "scatterpolargl"
           }
          ],
          "scatterternary": [
           {
            "marker": {
             "colorbar": {
              "outlinewidth": 0,
              "ticks": ""
             }
            },
            "type": "scatterternary"
           }
          ],
          "surface": [
           {
            "colorbar": {
             "outlinewidth": 0,
             "ticks": ""
            },
            "colorscale": [
             [
              0,
              "#0d0887"
             ],
             [
              0.1111111111111111,
              "#46039f"
             ],
             [
              0.2222222222222222,
              "#7201a8"
             ],
             [
              0.3333333333333333,
              "#9c179e"
             ],
             [
              0.4444444444444444,
              "#bd3786"
             ],
             [
              0.5555555555555556,
              "#d8576b"
             ],
             [
              0.6666666666666666,
              "#ed7953"
             ],
             [
              0.7777777777777778,
              "#fb9f3a"
             ],
             [
              0.8888888888888888,
              "#fdca26"
             ],
             [
              1,
              "#f0f921"
             ]
            ],
            "type": "surface"
           }
          ],
          "table": [
           {
            "cells": {
             "fill": {
              "color": "#EBF0F8"
             },
             "line": {
              "color": "white"
             }
            },
            "header": {
             "fill": {
              "color": "#C8D4E3"
             },
             "line": {
              "color": "white"
             }
            },
            "type": "table"
           }
          ]
         },
         "layout": {
          "annotationdefaults": {
           "arrowcolor": "#2a3f5f",
           "arrowhead": 0,
           "arrowwidth": 1
          },
          "autotypenumbers": "strict",
          "coloraxis": {
           "colorbar": {
            "outlinewidth": 0,
            "ticks": ""
           }
          },
          "colorscale": {
           "diverging": [
            [
             0,
             "#8e0152"
            ],
            [
             0.1,
             "#c51b7d"
            ],
            [
             0.2,
             "#de77ae"
            ],
            [
             0.3,
             "#f1b6da"
            ],
            [
             0.4,
             "#fde0ef"
            ],
            [
             0.5,
             "#f7f7f7"
            ],
            [
             0.6,
             "#e6f5d0"
            ],
            [
             0.7,
             "#b8e186"
            ],
            [
             0.8,
             "#7fbc41"
            ],
            [
             0.9,
             "#4d9221"
            ],
            [
             1,
             "#276419"
            ]
           ],
           "sequential": [
            [
             0,
             "#0d0887"
            ],
            [
             0.1111111111111111,
             "#46039f"
            ],
            [
             0.2222222222222222,
             "#7201a8"
            ],
            [
             0.3333333333333333,
             "#9c179e"
            ],
            [
             0.4444444444444444,
             "#bd3786"
            ],
            [
             0.5555555555555556,
             "#d8576b"
            ],
            [
             0.6666666666666666,
             "#ed7953"
            ],
            [
             0.7777777777777778,
             "#fb9f3a"
            ],
            [
             0.8888888888888888,
             "#fdca26"
            ],
            [
             1,
             "#f0f921"
            ]
           ],
           "sequentialminus": [
            [
             0,
             "#0d0887"
            ],
            [
             0.1111111111111111,
             "#46039f"
            ],
            [
             0.2222222222222222,
             "#7201a8"
            ],
            [
             0.3333333333333333,
             "#9c179e"
            ],
            [
             0.4444444444444444,
             "#bd3786"
            ],
            [
             0.5555555555555556,
             "#d8576b"
            ],
            [
             0.6666666666666666,
             "#ed7953"
            ],
            [
             0.7777777777777778,
             "#fb9f3a"
            ],
            [
             0.8888888888888888,
             "#fdca26"
            ],
            [
             1,
             "#f0f921"
            ]
           ]
          },
          "colorway": [
           "#636efa",
           "#EF553B",
           "#00cc96",
           "#ab63fa",
           "#FFA15A",
           "#19d3f3",
           "#FF6692",
           "#B6E880",
           "#FF97FF",
           "#FECB52"
          ],
          "font": {
           "color": "#2a3f5f"
          },
          "geo": {
           "bgcolor": "white",
           "lakecolor": "white",
           "landcolor": "#E5ECF6",
           "showlakes": true,
           "showland": true,
           "subunitcolor": "white"
          },
          "hoverlabel": {
           "align": "left"
          },
          "hovermode": "closest",
          "mapbox": {
           "style": "light"
          },
          "paper_bgcolor": "white",
          "plot_bgcolor": "#E5ECF6",
          "polar": {
           "angularaxis": {
            "gridcolor": "white",
            "linecolor": "white",
            "ticks": ""
           },
           "bgcolor": "#E5ECF6",
           "radialaxis": {
            "gridcolor": "white",
            "linecolor": "white",
            "ticks": ""
           }
          },
          "scene": {
           "xaxis": {
            "backgroundcolor": "#E5ECF6",
            "gridcolor": "white",
            "gridwidth": 2,
            "linecolor": "white",
            "showbackground": true,
            "ticks": "",
            "zerolinecolor": "white"
           },
           "yaxis": {
            "backgroundcolor": "#E5ECF6",
            "gridcolor": "white",
            "gridwidth": 2,
            "linecolor": "white",
            "showbackground": true,
            "ticks": "",
            "zerolinecolor": "white"
           },
           "zaxis": {
            "backgroundcolor": "#E5ECF6",
            "gridcolor": "white",
            "gridwidth": 2,
            "linecolor": "white",
            "showbackground": true,
            "ticks": "",
            "zerolinecolor": "white"
           }
          },
          "shapedefaults": {
           "line": {
            "color": "#2a3f5f"
           }
          },
          "ternary": {
           "aaxis": {
            "gridcolor": "white",
            "linecolor": "white",
            "ticks": ""
           },
           "baxis": {
            "gridcolor": "white",
            "linecolor": "white",
            "ticks": ""
           },
           "bgcolor": "#E5ECF6",
           "caxis": {
            "gridcolor": "white",
            "linecolor": "white",
            "ticks": ""
           }
          },
          "title": {
           "x": 0.05
          },
          "xaxis": {
           "automargin": true,
           "gridcolor": "white",
           "linecolor": "white",
           "ticks": "",
           "title": {
            "standoff": 15
           },
           "zerolinecolor": "white",
           "zerolinewidth": 2
          },
          "yaxis": {
           "automargin": true,
           "gridcolor": "white",
           "linecolor": "white",
           "ticks": "",
           "title": {
            "standoff": 15
           },
           "zerolinecolor": "white",
           "zerolinewidth": 2
          }
         }
        },
        "xaxis": {
         "title": {
          "text": "Occurences"
         }
        },
        "yaxis": {
         "title": {
          "text": "Durée de fonctionnement"
         }
        }
       }
      }
     },
     "metadata": {},
     "output_type": "display_data"
    }
   ],
   "source": [
    "# Régression linéaire \n",
    "x2 = np.array(df_barh_d['Occ_tot'])\n",
    "y2 = np.array(df_barh_d['Duree_tot'])\n",
    "\n",
    "coef_directeur2, ordonne_ao2, corr2, p_value2, err2 = stats.linregress(x2, y2)\n",
    "\n",
    "x_occ = np.linspace(0,250,100)\n",
    "fig1 = px.line(x=x_occ, y= coef_directeur2*x_occ + ordonne_ao2, labels={'x':'occurences', 'y':''})\n",
    "fig2 = px.scatter(df_barh_d, x=\"Occ_tot\", y=\"Duree_tot\", color=\"Comp\")\n",
    "fig = go.Figure(data=fig1.data + fig2.data)\n",
    "fig.update_layout(\n",
    "    xaxis_title='Occurences',\n",
    "    yaxis_title='Durée de fonctionnement'\n",
    ")\n",
    "fig.show()"
   ]
  },
  {
   "cell_type": "markdown",
   "metadata": {},
   "source": [
    "#### 4.3 Éléments du modèle"
   ]
  },
  {
   "cell_type": "code",
   "execution_count": 317,
   "metadata": {},
   "outputs": [
    {
     "name": "stdout",
     "output_type": "stream",
     "text": [
      "Coefficient directeur : \n",
      "17221.93076927974\n",
      "Ordonnée à l'origine : \n",
      "-19407.78226062865\n",
      "Correlation : \n",
      "0.9983743401554401\n",
      "p-value : \n",
      "1.4565634725203572e-17\n",
      "R^2 : \n",
      "0.9967513230808105\n"
     ]
    }
   ],
   "source": [
    "print(\"Coefficient directeur : \")\n",
    "print(coef_directeur2)\n",
    "print(\"Ordonnée à l'origine : \")\n",
    "print(ordonne_ao2)\n",
    "print(\"Correlation : \")\n",
    "print(corr2)\n",
    "print(\"p-value : \")\n",
    "print(p_value2)\n",
    "print(\"R^2 : \")\n",
    "print(corr2**2)"
   ]
  },
  {
   "cell_type": "markdown",
   "metadata": {},
   "source": [
    "## Etape 5 : Identification des groupes de composants"
   ]
  },
  {
   "cell_type": "markdown",
   "metadata": {},
   "source": [
    "#### 5.1 Création d'un dataframe lié à notre problématique et préparation des données"
   ]
  },
  {
   "cell_type": "code",
   "execution_count": 318,
   "metadata": {},
   "outputs": [
    {
     "name": "stdout",
     "output_type": "stream",
     "text": [
      "     Occ      Duree     Cout\n",
      "0   25.0  373198.74  1504.58\n",
      "1   11.0  211887.93   745.14\n",
      "2    5.0   74839.86   414.04\n",
      "3   35.0  496096.12  2025.10\n",
      "4    6.0   66108.12   119.68\n",
      "5   35.0  543092.70  1732.72\n",
      "6   13.0  248576.47   381.70\n",
      "7    1.0   13195.67    71.50\n",
      "8    8.0   86674.10   549.78\n",
      "9    6.0   65397.19   212.08\n",
      "10   3.0   23979.75   130.46\n",
      "11   0.0       0.00     0.00\n",
      "12   4.0   12101.74   217.80\n",
      "13  22.0  361129.10  1350.14\n",
      "14   7.0  103155.47   249.48\n"
     ]
    }
   ],
   "source": [
    "duree2 = np.zeros(15)\n",
    "\n",
    "for i in range(df_facteurs_red.shape[0]):\n",
    "    for j in range(15):\n",
    "        comp_def = df_facteurs_red.iloc[i,j+5]\n",
    "        if (comp_def == 1):\n",
    "            duree2[j] += df_facteurs_red.iloc[i,2] + df_facteurs_red.iloc[i,3]\n",
    "\n",
    "duree2 = duree2.astype(float)\n",
    "donnees_identification = {'Occ' : occurrences, 'Duree' : duree2, 'Cout' : cout_rep} \n",
    "donnees_identification2 = {'Comp' : comp, 'Occ' : occurrences, 'Duree' : duree2, 'Cout' : cout_rep} \n",
    "df_did = pd.DataFrame(data=donnees_identification)\n",
    "print(df_did)"
   ]
  },
  {
   "cell_type": "code",
   "execution_count": 319,
   "metadata": {},
   "outputs": [
    {
     "data": {
      "application/vnd.plotly.v1+json": {
       "config": {
        "plotlyServerURL": "https://plot.ly"
       },
       "data": [
        {
         "hovertemplate": "occurences=%{x}<br>=%{y}<extra></extra>",
         "legendgroup": "",
         "line": {
          "color": "#636efa",
          "dash": "solid"
         },
         "marker": {
          "symbol": "circle"
         },
         "mode": "lines",
         "name": "",
         "orientation": "v",
         "showlegend": false,
         "type": "scatter",
         "x": [
          0,
          20.2020202020202,
          40.4040404040404,
          60.6060606060606,
          80.8080808080808,
          101.01010101010101,
          121.2121212121212,
          141.4141414141414,
          161.6161616161616,
          181.8181818181818,
          202.02020202020202,
          222.2222222222222,
          242.4242424242424,
          262.6262626262626,
          282.8282828282828,
          303.030303030303,
          323.2323232323232,
          343.4343434343434,
          363.6363636363636,
          383.83838383838383,
          404.04040404040404,
          424.2424242424242,
          444.4444444444444,
          464.6464646464646,
          484.8484848484848,
          505.050505050505,
          525.2525252525252,
          545.4545454545454,
          565.6565656565656,
          585.8585858585858,
          606.060606060606,
          626.2626262626262,
          646.4646464646464,
          666.6666666666666,
          686.8686868686868,
          707.070707070707,
          727.2727272727273,
          747.4747474747475,
          767.6767676767677,
          787.8787878787879,
          808.0808080808081,
          828.2828282828282,
          848.4848484848484,
          868.6868686868686,
          888.8888888888888,
          909.090909090909,
          929.2929292929292,
          949.4949494949494,
          969.6969696969696,
          989.8989898989898,
          1010.10101010101,
          1030.3030303030303,
          1050.5050505050503,
          1070.7070707070707,
          1090.9090909090908,
          1111.111111111111,
          1131.3131313131312,
          1151.5151515151515,
          1171.7171717171716,
          1191.919191919192,
          1212.121212121212,
          1232.3232323232323,
          1252.5252525252524,
          1272.7272727272727,
          1292.9292929292928,
          1313.131313131313,
          1333.3333333333333,
          1353.5353535353534,
          1373.7373737373737,
          1393.9393939393938,
          1414.141414141414,
          1434.3434343434342,
          1454.5454545454545,
          1474.7474747474746,
          1494.949494949495,
          1515.151515151515,
          1535.3535353535353,
          1555.5555555555554,
          1575.7575757575758,
          1595.9595959595958,
          1616.1616161616162,
          1636.3636363636363,
          1656.5656565656564,
          1676.7676767676767,
          1696.9696969696968,
          1717.171717171717,
          1737.3737373737372,
          1757.5757575757575,
          1777.7777777777776,
          1797.979797979798,
          1818.181818181818,
          1838.3838383838383,
          1858.5858585858584,
          1878.7878787878788,
          1898.9898989898988,
          1919.1919191919192,
          1939.3939393939393,
          1959.5959595959594,
          1979.7979797979797,
          2000
         ],
         "xaxis": "x",
         "y": [
          8902.184561955772,
          14202.191476738819,
          19502.198391521866,
          24802.205306304913,
          30102.21222108796,
          35402.21913587101,
          40702.226050654055,
          46002.2329654371,
          51302.23988022015,
          56602.24679500319,
          61902.253709786244,
          67202.26062456929,
          72502.26753935234,
          77802.27445413537,
          83102.28136891843,
          88402.28828370148,
          93702.29519848453,
          99002.30211326758,
          104302.30902805061,
          109602.31594283367,
          114902.32285761672,
          120202.32977239975,
          125502.3366871828,
          130802.34360196585,
          136102.3505167489,
          141402.35743153194,
          146702.36434631498,
          152002.37126109804,
          157302.37817588108,
          162602.38509066412,
          167902.39200544718,
          173202.39892023022,
          178502.40583501328,
          183802.41274979632,
          189102.41966457939,
          194402.42657936242,
          199702.43349414546,
          205002.44040892852,
          210302.44732371156,
          215602.45423849463,
          220902.46115327766,
          226202.4680680607,
          231502.47498284373,
          236802.48189762677,
          242102.48881240984,
          247402.49572719287,
          252702.50264197594,
          258002.50955675897,
          263302.51647154207,
          268602.5233863251,
          273902.53030110814,
          279202.5372158912,
          284502.5441306742,
          289802.55104545725,
          295102.5579602403,
          300402.5648750233,
          305702.57178980636,
          311002.5787045895,
          316302.58561937243,
          321602.5925341556,
          326902.5994489386,
          332202.60636372166,
          337502.6132785047,
          342802.62019328773,
          348102.62710807077,
          353402.6340228538,
          358702.64093763684,
          364002.6478524199,
          369302.654767203,
          374602.66168198595,
          379902.6685967691,
          385202.67551155214,
          390502.6824263352,
          395802.6893411182,
          401102.69625590125,
          406402.7031706843,
          411702.7100854673,
          417002.71700025036,
          422302.7239150335,
          427602.7308298164,
          432902.7377445996,
          438202.7446593826,
          443502.75157416565,
          448802.7584889487,
          454102.7654037317,
          459402.77231851476,
          464702.7792332978,
          470002.78614808084,
          475302.7930628639,
          480602.799977647,
          485902.80689242994,
          491202.8138072131,
          496502.82072199613,
          501802.82763677917,
          507102.8345515622,
          512402.84146634524,
          517702.8483811283,
          523002.8552959113,
          528302.8622106944,
          533602.8691254774
         ],
         "yaxis": "y"
        },
        {
         "hovertemplate": "Comp=X1<br>Cout=%{x}<br>Duree=%{y}<extra></extra>",
         "legendgroup": "X1",
         "marker": {
          "color": "#636efa",
          "symbol": "circle"
         },
         "mode": "markers",
         "name": "X1",
         "orientation": "v",
         "showlegend": true,
         "type": "scatter",
         "x": [
          1504.5800000000002
         ],
         "xaxis": "x",
         "y": [
          373198.74000000005
         ],
         "yaxis": "y"
        },
        {
         "hovertemplate": "Comp=X2<br>Cout=%{x}<br>Duree=%{y}<extra></extra>",
         "legendgroup": "X2",
         "marker": {
          "color": "#EF553B",
          "symbol": "circle"
         },
         "mode": "markers",
         "name": "X2",
         "orientation": "v",
         "showlegend": true,
         "type": "scatter",
         "x": [
          745.1400000000001
         ],
         "xaxis": "x",
         "y": [
          211887.93000000002
         ],
         "yaxis": "y"
        },
        {
         "hovertemplate": "Comp=X3<br>Cout=%{x}<br>Duree=%{y}<extra></extra>",
         "legendgroup": "X3",
         "marker": {
          "color": "#00cc96",
          "symbol": "circle"
         },
         "mode": "markers",
         "name": "X3",
         "orientation": "v",
         "showlegend": true,
         "type": "scatter",
         "x": [
          414.03999999999996
         ],
         "xaxis": "x",
         "y": [
          74839.85999999999
         ],
         "yaxis": "y"
        },
        {
         "hovertemplate": "Comp=X4<br>Cout=%{x}<br>Duree=%{y}<extra></extra>",
         "legendgroup": "X4",
         "marker": {
          "color": "#ab63fa",
          "symbol": "circle"
         },
         "mode": "markers",
         "name": "X4",
         "orientation": "v",
         "showlegend": true,
         "type": "scatter",
         "x": [
          2025.1000000000006
         ],
         "xaxis": "x",
         "y": [
          496096.12
         ],
         "yaxis": "y"
        },
        {
         "hovertemplate": "Comp=X5<br>Cout=%{x}<br>Duree=%{y}<extra></extra>",
         "legendgroup": "X5",
         "marker": {
          "color": "#FFA15A",
          "symbol": "circle"
         },
         "mode": "markers",
         "name": "X5",
         "orientation": "v",
         "showlegend": true,
         "type": "scatter",
         "x": [
          119.68
         ],
         "xaxis": "x",
         "y": [
          66108.12
         ],
         "yaxis": "y"
        },
        {
         "hovertemplate": "Comp=X6<br>Cout=%{x}<br>Duree=%{y}<extra></extra>",
         "legendgroup": "X6",
         "marker": {
          "color": "#19d3f3",
          "symbol": "circle"
         },
         "mode": "markers",
         "name": "X6",
         "orientation": "v",
         "showlegend": true,
         "type": "scatter",
         "x": [
          1732.7200000000005
         ],
         "xaxis": "x",
         "y": [
          543092.7000000001
         ],
         "yaxis": "y"
        },
        {
         "hovertemplate": "Comp=X7<br>Cout=%{x}<br>Duree=%{y}<extra></extra>",
         "legendgroup": "X7",
         "marker": {
          "color": "#FF6692",
          "symbol": "circle"
         },
         "mode": "markers",
         "name": "X7",
         "orientation": "v",
         "showlegend": true,
         "type": "scatter",
         "x": [
          381.70000000000005
         ],
         "xaxis": "x",
         "y": [
          248576.46999999997
         ],
         "yaxis": "y"
        },
        {
         "hovertemplate": "Comp=X8<br>Cout=%{x}<br>Duree=%{y}<extra></extra>",
         "legendgroup": "X8",
         "marker": {
          "color": "#B6E880",
          "symbol": "circle"
         },
         "mode": "markers",
         "name": "X8",
         "orientation": "v",
         "showlegend": true,
         "type": "scatter",
         "x": [
          71.5
         ],
         "xaxis": "x",
         "y": [
          13195.669999999998
         ],
         "yaxis": "y"
        },
        {
         "hovertemplate": "Comp=X9<br>Cout=%{x}<br>Duree=%{y}<extra></extra>",
         "legendgroup": "X9",
         "marker": {
          "color": "#FF97FF",
          "symbol": "circle"
         },
         "mode": "markers",
         "name": "X9",
         "orientation": "v",
         "showlegend": true,
         "type": "scatter",
         "x": [
          549.78
         ],
         "xaxis": "x",
         "y": [
          86674.09999999998
         ],
         "yaxis": "y"
        },
        {
         "hovertemplate": "Comp=X10<br>Cout=%{x}<br>Duree=%{y}<extra></extra>",
         "legendgroup": "X10",
         "marker": {
          "color": "#FECB52",
          "symbol": "circle"
         },
         "mode": "markers",
         "name": "X10",
         "orientation": "v",
         "showlegend": true,
         "type": "scatter",
         "x": [
          212.08
         ],
         "xaxis": "x",
         "y": [
          65397.19
         ],
         "yaxis": "y"
        },
        {
         "hovertemplate": "Comp=X11<br>Cout=%{x}<br>Duree=%{y}<extra></extra>",
         "legendgroup": "X11",
         "marker": {
          "color": "#636efa",
          "symbol": "circle"
         },
         "mode": "markers",
         "name": "X11",
         "orientation": "v",
         "showlegend": true,
         "type": "scatter",
         "x": [
          130.46
         ],
         "xaxis": "x",
         "y": [
          23979.749999999996
         ],
         "yaxis": "y"
        },
        {
         "hovertemplate": "Comp=X12<br>Cout=%{x}<br>Duree=%{y}<extra></extra>",
         "legendgroup": "X12",
         "marker": {
          "color": "#EF553B",
          "symbol": "circle"
         },
         "mode": "markers",
         "name": "X12",
         "orientation": "v",
         "showlegend": true,
         "type": "scatter",
         "x": [
          0
         ],
         "xaxis": "x",
         "y": [
          0
         ],
         "yaxis": "y"
        },
        {
         "hovertemplate": "Comp=X13<br>Cout=%{x}<br>Duree=%{y}<extra></extra>",
         "legendgroup": "X13",
         "marker": {
          "color": "#00cc96",
          "symbol": "circle"
         },
         "mode": "markers",
         "name": "X13",
         "orientation": "v",
         "showlegend": true,
         "type": "scatter",
         "x": [
          217.79999999999998
         ],
         "xaxis": "x",
         "y": [
          12101.740000000002
         ],
         "yaxis": "y"
        },
        {
         "hovertemplate": "Comp=X14<br>Cout=%{x}<br>Duree=%{y}<extra></extra>",
         "legendgroup": "X14",
         "marker": {
          "color": "#ab63fa",
          "symbol": "circle"
         },
         "mode": "markers",
         "name": "X14",
         "orientation": "v",
         "showlegend": true,
         "type": "scatter",
         "x": [
          1350.14
         ],
         "xaxis": "x",
         "y": [
          361129.1
         ],
         "yaxis": "y"
        },
        {
         "hovertemplate": "Comp=X15<br>Cout=%{x}<br>Duree=%{y}<extra></extra>",
         "legendgroup": "X15",
         "marker": {
          "color": "#FFA15A",
          "symbol": "circle"
         },
         "mode": "markers",
         "name": "X15",
         "orientation": "v",
         "showlegend": true,
         "type": "scatter",
         "x": [
          249.48
         ],
         "xaxis": "x",
         "y": [
          103155.47
         ],
         "yaxis": "y"
        },
        {
         "hovertemplate": "x=%{x}<br>y=%{y}<extra></extra>",
         "legendgroup": "",
         "line": {
          "color": "rgba(50,50,50,0.2)",
          "dash": "solid"
         },
         "marker": {
          "symbol": "circle"
         },
         "mode": "lines",
         "name": "",
         "orientation": "v",
         "showlegend": false,
         "type": "scatter",
         "x": [
          0,
          20.2020202020202,
          40.4040404040404,
          60.6060606060606,
          80.8080808080808,
          101.01010101010101,
          121.2121212121212,
          141.4141414141414,
          161.6161616161616,
          181.8181818181818,
          202.02020202020202,
          222.2222222222222,
          242.4242424242424,
          262.6262626262626,
          282.8282828282828,
          303.030303030303,
          323.2323232323232,
          343.4343434343434,
          363.6363636363636,
          383.83838383838383,
          404.04040404040404,
          424.2424242424242,
          444.4444444444444,
          464.6464646464646,
          484.8484848484848,
          505.050505050505,
          525.2525252525252,
          545.4545454545454,
          565.6565656565656,
          585.8585858585858,
          606.060606060606,
          626.2626262626262,
          646.4646464646464,
          666.6666666666666,
          686.8686868686868,
          707.070707070707,
          727.2727272727273,
          747.4747474747475,
          767.6767676767677,
          787.8787878787879,
          808.0808080808081,
          828.2828282828282,
          848.4848484848484,
          868.6868686868686,
          888.8888888888888,
          909.090909090909,
          929.2929292929292,
          949.4949494949494,
          969.6969696969696,
          989.8989898989898,
          1010.10101010101,
          1030.3030303030303,
          1050.5050505050503,
          1070.7070707070707,
          1090.9090909090908,
          1111.111111111111,
          1131.3131313131312,
          1151.5151515151515,
          1171.7171717171716,
          1191.919191919192,
          1212.121212121212,
          1232.3232323232323,
          1252.5252525252524,
          1272.7272727272727,
          1292.9292929292928,
          1313.131313131313,
          1333.3333333333333,
          1353.5353535353534,
          1373.7373737373737,
          1393.9393939393938,
          1414.141414141414,
          1434.3434343434342,
          1454.5454545454545,
          1474.7474747474746,
          1494.949494949495,
          1515.151515151515,
          1535.3535353535353,
          1555.5555555555554,
          1575.7575757575758,
          1595.9595959595958,
          1616.1616161616162,
          1636.3636363636363,
          1656.5656565656564,
          1676.7676767676767,
          1696.9696969696968,
          1717.171717171717,
          1737.3737373737372,
          1757.5757575757575,
          1777.7777777777776,
          1797.979797979798,
          1818.181818181818,
          1838.3838383838383,
          1858.5858585858584,
          1878.7878787878788,
          1898.9898989898988,
          1919.1919191919192,
          1939.3939393939393,
          1959.5959595959594,
          1979.7979797979797,
          2000
         ],
         "xaxis": "x",
         "y": [
          -34877.611348929015,
          -30544.30831356311,
          -26211.005278197204,
          -21877.702242831296,
          -17544.39920746539,
          -13211.096172099482,
          -8877.793136733577,
          -4544.490101367672,
          -211.18706600176665,
          4122.115969364146,
          8455.41900473005,
          12788.722040095956,
          17122.02507546186,
          21455.328110827766,
          25788.63114619367,
          30121.934181559576,
          34455.23721692548,
          38788.540252291394,
          43121.843287657306,
          47455.14632302322,
          51788.449358389116,
          56121.752393755014,
          60455.05542912093,
          64788.358464486824,
          69121.66149985274,
          73454.96453521865,
          77788.26757058455,
          82121.57060595044,
          86454.87364131636,
          90788.17667668227,
          95121.47971204817,
          99454.7827474141,
          103788.08578277998,
          108121.38881814589,
          112454.6918535118,
          116787.99488887771,
          121121.29792424363,
          125454.60095960954,
          129787.90399497545,
          134121.20703034132,
          138454.51006570726,
          142787.81310107314,
          147121.11613643903,
          151454.41917180497,
          155787.72220717085,
          160121.0252425368,
          164454.32827790268,
          168787.63131326856,
          173120.9343486345,
          177454.2373840004,
          181787.54041936633,
          186120.8434547322,
          190454.1464900981,
          194787.44952546404,
          199120.75256082992,
          203454.05559619586,
          207787.35863156174,
          212120.66166692768,
          216453.96470229357,
          220787.26773765945,
          225120.57077302533,
          229453.87380839133,
          233787.17684375722,
          238120.4798791231,
          242453.78291448898,
          246787.08594985487,
          251120.3889852208,
          255453.6920205867,
          259786.99505595263,
          264120.2980913185,
          268453.60112668446,
          272786.90416205034,
          277120.2071974163,
          281453.51023278217,
          285786.8132681481,
          290120.116303514,
          294453.41933887993,
          298786.7223742458,
          303120.0254096117,
          307453.3284449776,
          311786.6314803435,
          316119.9345157094,
          320453.2375510753,
          324786.54058644123,
          329119.8436218071,
          333453.14665717306,
          337786.44969253894,
          342119.7527279049,
          346453.05576327076,
          350786.3587986367,
          355119.6618340026,
          359452.9648693685,
          363786.26790473436,
          368119.5709401003,
          372452.8739754662,
          376786.1770108321,
          381119.480046198,
          385452.7830815639,
          389786.08611692983,
          394119.3891522958
         ],
         "yaxis": "y"
        },
        {
         "hovertemplate": "x=%{x}<br>y=%{y}<extra></extra>",
         "legendgroup": "",
         "line": {
          "color": "rgba(50,50,50,0.2)",
          "dash": "solid"
         },
         "marker": {
          "symbol": "circle"
         },
         "mode": "lines",
         "name": "",
         "orientation": "v",
         "showlegend": false,
         "type": "scatter",
         "x": [
          0,
          20.2020202020202,
          40.4040404040404,
          60.6060606060606,
          80.8080808080808,
          101.01010101010101,
          121.2121212121212,
          141.4141414141414,
          161.6161616161616,
          181.8181818181818,
          202.02020202020202,
          222.2222222222222,
          242.4242424242424,
          262.6262626262626,
          282.8282828282828,
          303.030303030303,
          323.2323232323232,
          343.4343434343434,
          363.6363636363636,
          383.83838383838383,
          404.04040404040404,
          424.2424242424242,
          444.4444444444444,
          464.6464646464646,
          484.8484848484848,
          505.050505050505,
          525.2525252525252,
          545.4545454545454,
          565.6565656565656,
          585.8585858585858,
          606.060606060606,
          626.2626262626262,
          646.4646464646464,
          666.6666666666666,
          686.8686868686868,
          707.070707070707,
          727.2727272727273,
          747.4747474747475,
          767.6767676767677,
          787.8787878787879,
          808.0808080808081,
          828.2828282828282,
          848.4848484848484,
          868.6868686868686,
          888.8888888888888,
          909.090909090909,
          929.2929292929292,
          949.4949494949494,
          969.6969696969696,
          989.8989898989898,
          1010.10101010101,
          1030.3030303030303,
          1050.5050505050503,
          1070.7070707070707,
          1090.9090909090908,
          1111.111111111111,
          1131.3131313131312,
          1151.5151515151515,
          1171.7171717171716,
          1191.919191919192,
          1212.121212121212,
          1232.3232323232323,
          1252.5252525252524,
          1272.7272727272727,
          1292.9292929292928,
          1313.131313131313,
          1333.3333333333333,
          1353.5353535353534,
          1373.7373737373737,
          1393.9393939393938,
          1414.141414141414,
          1434.3434343434342,
          1454.5454545454545,
          1474.7474747474746,
          1494.949494949495,
          1515.151515151515,
          1535.3535353535353,
          1555.5555555555554,
          1575.7575757575758,
          1595.9595959595958,
          1616.1616161616162,
          1636.3636363636363,
          1656.5656565656564,
          1676.7676767676767,
          1696.9696969696968,
          1717.171717171717,
          1737.3737373737372,
          1757.5757575757575,
          1777.7777777777776,
          1797.979797979798,
          1818.181818181818,
          1838.3838383838383,
          1858.5858585858584,
          1878.7878787878788,
          1898.9898989898988,
          1919.1919191919192,
          1939.3939393939393,
          1959.5959595959594,
          1979.7979797979797,
          2000
         ],
         "xaxis": "x",
         "y": [
          52681.98047284056,
          58948.69126704075,
          65215.40206124094,
          71482.11285544113,
          77748.8236496413,
          84015.53444384149,
          90282.24523804168,
          96548.95603224187,
          102815.66682644206,
          109082.37762064225,
          115349.08841484244,
          121615.79920904263,
          127882.51000324282,
          134149.220797443,
          140415.9315916432,
          146682.64238584338,
          152949.35318004357,
          159216.06397424376,
          165482.77476844395,
          171749.48556264414,
          178016.19635684433,
          184282.90715104452,
          190549.6179452447,
          196816.3287394449,
          203083.0395336451,
          209349.75032784528,
          215616.4611220454,
          221883.1719162456,
          228149.8827104458,
          234416.59350464598,
          240683.30429884617,
          246950.01509304636,
          253216.72588724655,
          259483.43668144674,
          265750.1474756469,
          272016.8582698471,
          278283.5690640473,
          284550.2798582475,
          290816.9906524477,
          297083.7014466479,
          303350.41224084806,
          309617.12303504825,
          315883.83382924844,
          322150.54462344863,
          328417.2554176488,
          334683.966211849,
          340950.6770060492,
          347217.3878002494,
          353484.0985944496,
          359750.80938864977,
          366017.52018284996,
          372284.23097705015,
          378550.9417712503,
          384817.6525654505,
          391084.36335965066,
          397351.0741538509,
          403617.78494805103,
          409884.4957422513,
          416151.2065364514,
          422417.91733065166,
          428684.6281248518,
          434951.33891905204,
          441218.04971325217,
          447484.7605074524,
          453751.47130165255,
          460018.1820958527,
          466284.8928900529,
          472551.60368425306,
          478818.3144784533,
          485085.0252726535,
          491351.7360668537,
          497618.4468610539,
          503885.15765525406,
          510151.86844945425,
          516418.57924365444,
          522685.29003785463,
          528952.0008320549,
          535218.7116262551,
          541485.4224204553,
          547752.1332146554,
          554018.8440088556,
          560285.5548030558,
          566552.2655972559,
          572818.9763914562,
          579085.6871856564,
          585352.3979798566,
          591619.1087740568,
          597885.819568257,
          604152.5303624572,
          610419.2411566573,
          616685.9519508575,
          622952.6627450577,
          629219.3735392579,
          635486.0843334581,
          641752.7951276583,
          648019.5059218585,
          654286.2167160587,
          660552.9275102587,
          666819.638304459,
          673086.3490986592
         ],
         "yaxis": "y"
        }
       ],
       "layout": {
        "template": {
         "data": {
          "bar": [
           {
            "error_x": {
             "color": "#2a3f5f"
            },
            "error_y": {
             "color": "#2a3f5f"
            },
            "marker": {
             "line": {
              "color": "#E5ECF6",
              "width": 0.5
             },
             "pattern": {
              "fillmode": "overlay",
              "size": 10,
              "solidity": 0.2
             }
            },
            "type": "bar"
           }
          ],
          "barpolar": [
           {
            "marker": {
             "line": {
              "color": "#E5ECF6",
              "width": 0.5
             },
             "pattern": {
              "fillmode": "overlay",
              "size": 10,
              "solidity": 0.2
             }
            },
            "type": "barpolar"
           }
          ],
          "carpet": [
           {
            "aaxis": {
             "endlinecolor": "#2a3f5f",
             "gridcolor": "white",
             "linecolor": "white",
             "minorgridcolor": "white",
             "startlinecolor": "#2a3f5f"
            },
            "baxis": {
             "endlinecolor": "#2a3f5f",
             "gridcolor": "white",
             "linecolor": "white",
             "minorgridcolor": "white",
             "startlinecolor": "#2a3f5f"
            },
            "type": "carpet"
           }
          ],
          "choropleth": [
           {
            "colorbar": {
             "outlinewidth": 0,
             "ticks": ""
            },
            "type": "choropleth"
           }
          ],
          "contour": [
           {
            "colorbar": {
             "outlinewidth": 0,
             "ticks": ""
            },
            "colorscale": [
             [
              0,
              "#0d0887"
             ],
             [
              0.1111111111111111,
              "#46039f"
             ],
             [
              0.2222222222222222,
              "#7201a8"
             ],
             [
              0.3333333333333333,
              "#9c179e"
             ],
             [
              0.4444444444444444,
              "#bd3786"
             ],
             [
              0.5555555555555556,
              "#d8576b"
             ],
             [
              0.6666666666666666,
              "#ed7953"
             ],
             [
              0.7777777777777778,
              "#fb9f3a"
             ],
             [
              0.8888888888888888,
              "#fdca26"
             ],
             [
              1,
              "#f0f921"
             ]
            ],
            "type": "contour"
           }
          ],
          "contourcarpet": [
           {
            "colorbar": {
             "outlinewidth": 0,
             "ticks": ""
            },
            "type": "contourcarpet"
           }
          ],
          "heatmap": [
           {
            "colorbar": {
             "outlinewidth": 0,
             "ticks": ""
            },
            "colorscale": [
             [
              0,
              "#0d0887"
             ],
             [
              0.1111111111111111,
              "#46039f"
             ],
             [
              0.2222222222222222,
              "#7201a8"
             ],
             [
              0.3333333333333333,
              "#9c179e"
             ],
             [
              0.4444444444444444,
              "#bd3786"
             ],
             [
              0.5555555555555556,
              "#d8576b"
             ],
             [
              0.6666666666666666,
              "#ed7953"
             ],
             [
              0.7777777777777778,
              "#fb9f3a"
             ],
             [
              0.8888888888888888,
              "#fdca26"
             ],
             [
              1,
              "#f0f921"
             ]
            ],
            "type": "heatmap"
           }
          ],
          "heatmapgl": [
           {
            "colorbar": {
             "outlinewidth": 0,
             "ticks": ""
            },
            "colorscale": [
             [
              0,
              "#0d0887"
             ],
             [
              0.1111111111111111,
              "#46039f"
             ],
             [
              0.2222222222222222,
              "#7201a8"
             ],
             [
              0.3333333333333333,
              "#9c179e"
             ],
             [
              0.4444444444444444,
              "#bd3786"
             ],
             [
              0.5555555555555556,
              "#d8576b"
             ],
             [
              0.6666666666666666,
              "#ed7953"
             ],
             [
              0.7777777777777778,
              "#fb9f3a"
             ],
             [
              0.8888888888888888,
              "#fdca26"
             ],
             [
              1,
              "#f0f921"
             ]
            ],
            "type": "heatmapgl"
           }
          ],
          "histogram": [
           {
            "marker": {
             "pattern": {
              "fillmode": "overlay",
              "size": 10,
              "solidity": 0.2
             }
            },
            "type": "histogram"
           }
          ],
          "histogram2d": [
           {
            "colorbar": {
             "outlinewidth": 0,
             "ticks": ""
            },
            "colorscale": [
             [
              0,
              "#0d0887"
             ],
             [
              0.1111111111111111,
              "#46039f"
             ],
             [
              0.2222222222222222,
              "#7201a8"
             ],
             [
              0.3333333333333333,
              "#9c179e"
             ],
             [
              0.4444444444444444,
              "#bd3786"
             ],
             [
              0.5555555555555556,
              "#d8576b"
             ],
             [
              0.6666666666666666,
              "#ed7953"
             ],
             [
              0.7777777777777778,
              "#fb9f3a"
             ],
             [
              0.8888888888888888,
              "#fdca26"
             ],
             [
              1,
              "#f0f921"
             ]
            ],
            "type": "histogram2d"
           }
          ],
          "histogram2dcontour": [
           {
            "colorbar": {
             "outlinewidth": 0,
             "ticks": ""
            },
            "colorscale": [
             [
              0,
              "#0d0887"
             ],
             [
              0.1111111111111111,
              "#46039f"
             ],
             [
              0.2222222222222222,
              "#7201a8"
             ],
             [
              0.3333333333333333,
              "#9c179e"
             ],
             [
              0.4444444444444444,
              "#bd3786"
             ],
             [
              0.5555555555555556,
              "#d8576b"
             ],
             [
              0.6666666666666666,
              "#ed7953"
             ],
             [
              0.7777777777777778,
              "#fb9f3a"
             ],
             [
              0.8888888888888888,
              "#fdca26"
             ],
             [
              1,
              "#f0f921"
             ]
            ],
            "type": "histogram2dcontour"
           }
          ],
          "mesh3d": [
           {
            "colorbar": {
             "outlinewidth": 0,
             "ticks": ""
            },
            "type": "mesh3d"
           }
          ],
          "parcoords": [
           {
            "line": {
             "colorbar": {
              "outlinewidth": 0,
              "ticks": ""
             }
            },
            "type": "parcoords"
           }
          ],
          "pie": [
           {
            "automargin": true,
            "type": "pie"
           }
          ],
          "scatter": [
           {
            "marker": {
             "colorbar": {
              "outlinewidth": 0,
              "ticks": ""
             }
            },
            "type": "scatter"
           }
          ],
          "scatter3d": [
           {
            "line": {
             "colorbar": {
              "outlinewidth": 0,
              "ticks": ""
             }
            },
            "marker": {
             "colorbar": {
              "outlinewidth": 0,
              "ticks": ""
             }
            },
            "type": "scatter3d"
           }
          ],
          "scattercarpet": [
           {
            "marker": {
             "colorbar": {
              "outlinewidth": 0,
              "ticks": ""
             }
            },
            "type": "scattercarpet"
           }
          ],
          "scattergeo": [
           {
            "marker": {
             "colorbar": {
              "outlinewidth": 0,
              "ticks": ""
             }
            },
            "type": "scattergeo"
           }
          ],
          "scattergl": [
           {
            "marker": {
             "colorbar": {
              "outlinewidth": 0,
              "ticks": ""
             }
            },
            "type": "scattergl"
           }
          ],
          "scattermapbox": [
           {
            "marker": {
             "colorbar": {
              "outlinewidth": 0,
              "ticks": ""
             }
            },
            "type": "scattermapbox"
           }
          ],
          "scatterpolar": [
           {
            "marker": {
             "colorbar": {
              "outlinewidth": 0,
              "ticks": ""
             }
            },
            "type": "scatterpolar"
           }
          ],
          "scatterpolargl": [
           {
            "marker": {
             "colorbar": {
              "outlinewidth": 0,
              "ticks": ""
             }
            },
            "type": "scatterpolargl"
           }
          ],
          "scatterternary": [
           {
            "marker": {
             "colorbar": {
              "outlinewidth": 0,
              "ticks": ""
             }
            },
            "type": "scatterternary"
           }
          ],
          "surface": [
           {
            "colorbar": {
             "outlinewidth": 0,
             "ticks": ""
            },
            "colorscale": [
             [
              0,
              "#0d0887"
             ],
             [
              0.1111111111111111,
              "#46039f"
             ],
             [
              0.2222222222222222,
              "#7201a8"
             ],
             [
              0.3333333333333333,
              "#9c179e"
             ],
             [
              0.4444444444444444,
              "#bd3786"
             ],
             [
              0.5555555555555556,
              "#d8576b"
             ],
             [
              0.6666666666666666,
              "#ed7953"
             ],
             [
              0.7777777777777778,
              "#fb9f3a"
             ],
             [
              0.8888888888888888,
              "#fdca26"
             ],
             [
              1,
              "#f0f921"
             ]
            ],
            "type": "surface"
           }
          ],
          "table": [
           {
            "cells": {
             "fill": {
              "color": "#EBF0F8"
             },
             "line": {
              "color": "white"
             }
            },
            "header": {
             "fill": {
              "color": "#C8D4E3"
             },
             "line": {
              "color": "white"
             }
            },
            "type": "table"
           }
          ]
         },
         "layout": {
          "annotationdefaults": {
           "arrowcolor": "#2a3f5f",
           "arrowhead": 0,
           "arrowwidth": 1
          },
          "autotypenumbers": "strict",
          "coloraxis": {
           "colorbar": {
            "outlinewidth": 0,
            "ticks": ""
           }
          },
          "colorscale": {
           "diverging": [
            [
             0,
             "#8e0152"
            ],
            [
             0.1,
             "#c51b7d"
            ],
            [
             0.2,
             "#de77ae"
            ],
            [
             0.3,
             "#f1b6da"
            ],
            [
             0.4,
             "#fde0ef"
            ],
            [
             0.5,
             "#f7f7f7"
            ],
            [
             0.6,
             "#e6f5d0"
            ],
            [
             0.7,
             "#b8e186"
            ],
            [
             0.8,
             "#7fbc41"
            ],
            [
             0.9,
             "#4d9221"
            ],
            [
             1,
             "#276419"
            ]
           ],
           "sequential": [
            [
             0,
             "#0d0887"
            ],
            [
             0.1111111111111111,
             "#46039f"
            ],
            [
             0.2222222222222222,
             "#7201a8"
            ],
            [
             0.3333333333333333,
             "#9c179e"
            ],
            [
             0.4444444444444444,
             "#bd3786"
            ],
            [
             0.5555555555555556,
             "#d8576b"
            ],
            [
             0.6666666666666666,
             "#ed7953"
            ],
            [
             0.7777777777777778,
             "#fb9f3a"
            ],
            [
             0.8888888888888888,
             "#fdca26"
            ],
            [
             1,
             "#f0f921"
            ]
           ],
           "sequentialminus": [
            [
             0,
             "#0d0887"
            ],
            [
             0.1111111111111111,
             "#46039f"
            ],
            [
             0.2222222222222222,
             "#7201a8"
            ],
            [
             0.3333333333333333,
             "#9c179e"
            ],
            [
             0.4444444444444444,
             "#bd3786"
            ],
            [
             0.5555555555555556,
             "#d8576b"
            ],
            [
             0.6666666666666666,
             "#ed7953"
            ],
            [
             0.7777777777777778,
             "#fb9f3a"
            ],
            [
             0.8888888888888888,
             "#fdca26"
            ],
            [
             1,
             "#f0f921"
            ]
           ]
          },
          "colorway": [
           "#636efa",
           "#EF553B",
           "#00cc96",
           "#ab63fa",
           "#FFA15A",
           "#19d3f3",
           "#FF6692",
           "#B6E880",
           "#FF97FF",
           "#FECB52"
          ],
          "font": {
           "color": "#2a3f5f"
          },
          "geo": {
           "bgcolor": "white",
           "lakecolor": "white",
           "landcolor": "#E5ECF6",
           "showlakes": true,
           "showland": true,
           "subunitcolor": "white"
          },
          "hoverlabel": {
           "align": "left"
          },
          "hovermode": "closest",
          "mapbox": {
           "style": "light"
          },
          "paper_bgcolor": "white",
          "plot_bgcolor": "#E5ECF6",
          "polar": {
           "angularaxis": {
            "gridcolor": "white",
            "linecolor": "white",
            "ticks": ""
           },
           "bgcolor": "#E5ECF6",
           "radialaxis": {
            "gridcolor": "white",
            "linecolor": "white",
            "ticks": ""
           }
          },
          "scene": {
           "xaxis": {
            "backgroundcolor": "#E5ECF6",
            "gridcolor": "white",
            "gridwidth": 2,
            "linecolor": "white",
            "showbackground": true,
            "ticks": "",
            "zerolinecolor": "white"
           },
           "yaxis": {
            "backgroundcolor": "#E5ECF6",
            "gridcolor": "white",
            "gridwidth": 2,
            "linecolor": "white",
            "showbackground": true,
            "ticks": "",
            "zerolinecolor": "white"
           },
           "zaxis": {
            "backgroundcolor": "#E5ECF6",
            "gridcolor": "white",
            "gridwidth": 2,
            "linecolor": "white",
            "showbackground": true,
            "ticks": "",
            "zerolinecolor": "white"
           }
          },
          "shapedefaults": {
           "line": {
            "color": "#2a3f5f"
           }
          },
          "ternary": {
           "aaxis": {
            "gridcolor": "white",
            "linecolor": "white",
            "ticks": ""
           },
           "baxis": {
            "gridcolor": "white",
            "linecolor": "white",
            "ticks": ""
           },
           "bgcolor": "#E5ECF6",
           "caxis": {
            "gridcolor": "white",
            "linecolor": "white",
            "ticks": ""
           }
          },
          "title": {
           "x": 0.05
          },
          "xaxis": {
           "automargin": true,
           "gridcolor": "white",
           "linecolor": "white",
           "ticks": "",
           "title": {
            "standoff": 15
           },
           "zerolinecolor": "white",
           "zerolinewidth": 2
          },
          "yaxis": {
           "automargin": true,
           "gridcolor": "white",
           "linecolor": "white",
           "ticks": "",
           "title": {
            "standoff": 15
           },
           "zerolinecolor": "white",
           "zerolinewidth": 2
          }
         }
        },
        "xaxis": {
         "title": {
          "text": "Cout"
         }
        },
        "yaxis": {
         "title": {
          "text": "Durée de fonctionnement"
         }
        }
       }
      }
     },
     "metadata": {},
     "output_type": "display_data"
    },
    {
     "name": "stdout",
     "output_type": "stream",
     "text": [
      "Coefficient directeur : \n",
      "262.35034228176085\n",
      "Ordonnée à l'origine : \n",
      "8902.184561955772\n",
      "Correlation : \n",
      "0.9566569527558961\n",
      "p-value : \n",
      "2.4436679152656185e-08\n",
      "R^2 : \n",
      "0.9151925252561969\n"
     ]
    }
   ],
   "source": [
    "# Régression linéaire \n",
    "x3 = np.array(donnees_identification2['Cout'])\n",
    "y3 = np.array(donnees_identification2['Duree'])\n",
    "\n",
    "# Repris de la doc scipy\n",
    "tinv = lambda p, df: abs(t.ppf(p/2, df))\n",
    "ts = tinv(0.05, len(x3)-2)\n",
    "\n",
    "res = stats.linregress(x3, y3)\n",
    "coef_bas = res.slope - ts*res.stderr\n",
    "coef_haut = res.slope + ts*res.stderr\n",
    "ordonne_bas = res.intercept - ts*res.intercept_stderr\n",
    "ordonne_haut = res.intercept + ts*res.intercept_stderr\n",
    "\n",
    "x_cout = np.linspace(0,2000,100)\n",
    "fig1 = px.line(x=x_cout, y= res.slope*x_cout + res.intercept, labels={'x':'occurences', 'y':''})\n",
    "fig2 = px.line(x=x_cout, y= coef_bas*x_cout + ordonne_bas)\n",
    "fig2.update_traces(line=dict(color = 'rgba(50,50,50,0.2)'))\n",
    "fig3 = px.line(x=x_cout, y= coef_haut*x_cout + ordonne_haut)\n",
    "fig3.update_traces(line=dict(color = 'rgba(50,50,50,0.2)'))\n",
    "fig4 = px.scatter(donnees_identification2, x=\"Cout\", y=\"Duree\", color=\"Comp\")\n",
    "fig = go.Figure(data=fig1.data + fig4.data + fig2.data + fig3.data)\n",
    "fig.update_layout(\n",
    "    xaxis_title='Cout',\n",
    "    yaxis_title='Durée de fonctionnement'\n",
    ")\n",
    "fig.show()\n",
    "\n",
    "print(\"Coefficient directeur : \")\n",
    "print(res.slope)\n",
    "print(\"Ordonnée à l'origine : \")\n",
    "print(res.intercept)\n",
    "print(\"Correlation : \")\n",
    "print(res.rvalue)\n",
    "print(\"p-value : \")\n",
    "print(res.pvalue)\n",
    "print(\"R^2 : \")\n",
    "print((res.rvalue)**2)\n",
    "\n"
   ]
  },
  {
   "cell_type": "markdown",
   "metadata": {},
   "source": [
    "#### 5.2 ACP"
   ]
  },
  {
   "cell_type": "code",
   "execution_count": 320,
   "metadata": {},
   "outputs": [
    {
     "name": "stdout",
     "output_type": "stream",
     "text": [
      "Part de variance expliquée par CP :\n",
      "[9.99998872e-01 1.12768596e-06]\n",
      "Pourcentage de variance totale expliquée :\n",
      "99.99999999428837 %\n"
     ]
    },
    {
     "data": {
      "application/vnd.plotly.v1+json": {
       "config": {
        "plotlyServerURL": "https://plot.ly"
       },
       "data": [
        {
         "marker": {
          "color": "rgba(122, 169, 168, 0.8)",
          "line": {
           "color": "rgba(122, 169, 168, 1.)",
           "width": 3
          }
         },
         "name": "Variance expliquée",
         "text": [
          0.9999988722569239,
          0.0000011276859599481725
         ],
         "textposition": "auto",
         "type": "bar",
         "x": [
          0,
          1
         ],
         "y": [
          0.9999988722569239,
          0.0000011276859599481725
         ]
        }
       ],
       "layout": {
        "template": {
         "data": {
          "bar": [
           {
            "error_x": {
             "color": "#2a3f5f"
            },
            "error_y": {
             "color": "#2a3f5f"
            },
            "marker": {
             "line": {
              "color": "#E5ECF6",
              "width": 0.5
             },
             "pattern": {
              "fillmode": "overlay",
              "size": 10,
              "solidity": 0.2
             }
            },
            "type": "bar"
           }
          ],
          "barpolar": [
           {
            "marker": {
             "line": {
              "color": "#E5ECF6",
              "width": 0.5
             },
             "pattern": {
              "fillmode": "overlay",
              "size": 10,
              "solidity": 0.2
             }
            },
            "type": "barpolar"
           }
          ],
          "carpet": [
           {
            "aaxis": {
             "endlinecolor": "#2a3f5f",
             "gridcolor": "white",
             "linecolor": "white",
             "minorgridcolor": "white",
             "startlinecolor": "#2a3f5f"
            },
            "baxis": {
             "endlinecolor": "#2a3f5f",
             "gridcolor": "white",
             "linecolor": "white",
             "minorgridcolor": "white",
             "startlinecolor": "#2a3f5f"
            },
            "type": "carpet"
           }
          ],
          "choropleth": [
           {
            "colorbar": {
             "outlinewidth": 0,
             "ticks": ""
            },
            "type": "choropleth"
           }
          ],
          "contour": [
           {
            "colorbar": {
             "outlinewidth": 0,
             "ticks": ""
            },
            "colorscale": [
             [
              0,
              "#0d0887"
             ],
             [
              0.1111111111111111,
              "#46039f"
             ],
             [
              0.2222222222222222,
              "#7201a8"
             ],
             [
              0.3333333333333333,
              "#9c179e"
             ],
             [
              0.4444444444444444,
              "#bd3786"
             ],
             [
              0.5555555555555556,
              "#d8576b"
             ],
             [
              0.6666666666666666,
              "#ed7953"
             ],
             [
              0.7777777777777778,
              "#fb9f3a"
             ],
             [
              0.8888888888888888,
              "#fdca26"
             ],
             [
              1,
              "#f0f921"
             ]
            ],
            "type": "contour"
           }
          ],
          "contourcarpet": [
           {
            "colorbar": {
             "outlinewidth": 0,
             "ticks": ""
            },
            "type": "contourcarpet"
           }
          ],
          "heatmap": [
           {
            "colorbar": {
             "outlinewidth": 0,
             "ticks": ""
            },
            "colorscale": [
             [
              0,
              "#0d0887"
             ],
             [
              0.1111111111111111,
              "#46039f"
             ],
             [
              0.2222222222222222,
              "#7201a8"
             ],
             [
              0.3333333333333333,
              "#9c179e"
             ],
             [
              0.4444444444444444,
              "#bd3786"
             ],
             [
              0.5555555555555556,
              "#d8576b"
             ],
             [
              0.6666666666666666,
              "#ed7953"
             ],
             [
              0.7777777777777778,
              "#fb9f3a"
             ],
             [
              0.8888888888888888,
              "#fdca26"
             ],
             [
              1,
              "#f0f921"
             ]
            ],
            "type": "heatmap"
           }
          ],
          "heatmapgl": [
           {
            "colorbar": {
             "outlinewidth": 0,
             "ticks": ""
            },
            "colorscale": [
             [
              0,
              "#0d0887"
             ],
             [
              0.1111111111111111,
              "#46039f"
             ],
             [
              0.2222222222222222,
              "#7201a8"
             ],
             [
              0.3333333333333333,
              "#9c179e"
             ],
             [
              0.4444444444444444,
              "#bd3786"
             ],
             [
              0.5555555555555556,
              "#d8576b"
             ],
             [
              0.6666666666666666,
              "#ed7953"
             ],
             [
              0.7777777777777778,
              "#fb9f3a"
             ],
             [
              0.8888888888888888,
              "#fdca26"
             ],
             [
              1,
              "#f0f921"
             ]
            ],
            "type": "heatmapgl"
           }
          ],
          "histogram": [
           {
            "marker": {
             "pattern": {
              "fillmode": "overlay",
              "size": 10,
              "solidity": 0.2
             }
            },
            "type": "histogram"
           }
          ],
          "histogram2d": [
           {
            "colorbar": {
             "outlinewidth": 0,
             "ticks": ""
            },
            "colorscale": [
             [
              0,
              "#0d0887"
             ],
             [
              0.1111111111111111,
              "#46039f"
             ],
             [
              0.2222222222222222,
              "#7201a8"
             ],
             [
              0.3333333333333333,
              "#9c179e"
             ],
             [
              0.4444444444444444,
              "#bd3786"
             ],
             [
              0.5555555555555556,
              "#d8576b"
             ],
             [
              0.6666666666666666,
              "#ed7953"
             ],
             [
              0.7777777777777778,
              "#fb9f3a"
             ],
             [
              0.8888888888888888,
              "#fdca26"
             ],
             [
              1,
              "#f0f921"
             ]
            ],
            "type": "histogram2d"
           }
          ],
          "histogram2dcontour": [
           {
            "colorbar": {
             "outlinewidth": 0,
             "ticks": ""
            },
            "colorscale": [
             [
              0,
              "#0d0887"
             ],
             [
              0.1111111111111111,
              "#46039f"
             ],
             [
              0.2222222222222222,
              "#7201a8"
             ],
             [
              0.3333333333333333,
              "#9c179e"
             ],
             [
              0.4444444444444444,
              "#bd3786"
             ],
             [
              0.5555555555555556,
              "#d8576b"
             ],
             [
              0.6666666666666666,
              "#ed7953"
             ],
             [
              0.7777777777777778,
              "#fb9f3a"
             ],
             [
              0.8888888888888888,
              "#fdca26"
             ],
             [
              1,
              "#f0f921"
             ]
            ],
            "type": "histogram2dcontour"
           }
          ],
          "mesh3d": [
           {
            "colorbar": {
             "outlinewidth": 0,
             "ticks": ""
            },
            "type": "mesh3d"
           }
          ],
          "parcoords": [
           {
            "line": {
             "colorbar": {
              "outlinewidth": 0,
              "ticks": ""
             }
            },
            "type": "parcoords"
           }
          ],
          "pie": [
           {
            "automargin": true,
            "type": "pie"
           }
          ],
          "scatter": [
           {
            "marker": {
             "colorbar": {
              "outlinewidth": 0,
              "ticks": ""
             }
            },
            "type": "scatter"
           }
          ],
          "scatter3d": [
           {
            "line": {
             "colorbar": {
              "outlinewidth": 0,
              "ticks": ""
             }
            },
            "marker": {
             "colorbar": {
              "outlinewidth": 0,
              "ticks": ""
             }
            },
            "type": "scatter3d"
           }
          ],
          "scattercarpet": [
           {
            "marker": {
             "colorbar": {
              "outlinewidth": 0,
              "ticks": ""
             }
            },
            "type": "scattercarpet"
           }
          ],
          "scattergeo": [
           {
            "marker": {
             "colorbar": {
              "outlinewidth": 0,
              "ticks": ""
             }
            },
            "type": "scattergeo"
           }
          ],
          "scattergl": [
           {
            "marker": {
             "colorbar": {
              "outlinewidth": 0,
              "ticks": ""
             }
            },
            "type": "scattergl"
           }
          ],
          "scattermapbox": [
           {
            "marker": {
             "colorbar": {
              "outlinewidth": 0,
              "ticks": ""
             }
            },
            "type": "scattermapbox"
           }
          ],
          "scatterpolar": [
           {
            "marker": {
             "colorbar": {
              "outlinewidth": 0,
              "ticks": ""
             }
            },
            "type": "scatterpolar"
           }
          ],
          "scatterpolargl": [
           {
            "marker": {
             "colorbar": {
              "outlinewidth": 0,
              "ticks": ""
             }
            },
            "type": "scatterpolargl"
           }
          ],
          "scatterternary": [
           {
            "marker": {
             "colorbar": {
              "outlinewidth": 0,
              "ticks": ""
             }
            },
            "type": "scatterternary"
           }
          ],
          "surface": [
           {
            "colorbar": {
             "outlinewidth": 0,
             "ticks": ""
            },
            "colorscale": [
             [
              0,
              "#0d0887"
             ],
             [
              0.1111111111111111,
              "#46039f"
             ],
             [
              0.2222222222222222,
              "#7201a8"
             ],
             [
              0.3333333333333333,
              "#9c179e"
             ],
             [
              0.4444444444444444,
              "#bd3786"
             ],
             [
              0.5555555555555556,
              "#d8576b"
             ],
             [
              0.6666666666666666,
              "#ed7953"
             ],
             [
              0.7777777777777778,
              "#fb9f3a"
             ],
             [
              0.8888888888888888,
              "#fdca26"
             ],
             [
              1,
              "#f0f921"
             ]
            ],
            "type": "surface"
           }
          ],
          "table": [
           {
            "cells": {
             "fill": {
              "color": "#EBF0F8"
             },
             "line": {
              "color": "white"
             }
            },
            "header": {
             "fill": {
              "color": "#C8D4E3"
             },
             "line": {
              "color": "white"
             }
            },
            "type": "table"
           }
          ]
         },
         "layout": {
          "annotationdefaults": {
           "arrowcolor": "#2a3f5f",
           "arrowhead": 0,
           "arrowwidth": 1
          },
          "autotypenumbers": "strict",
          "coloraxis": {
           "colorbar": {
            "outlinewidth": 0,
            "ticks": ""
           }
          },
          "colorscale": {
           "diverging": [
            [
             0,
             "#8e0152"
            ],
            [
             0.1,
             "#c51b7d"
            ],
            [
             0.2,
             "#de77ae"
            ],
            [
             0.3,
             "#f1b6da"
            ],
            [
             0.4,
             "#fde0ef"
            ],
            [
             0.5,
             "#f7f7f7"
            ],
            [
             0.6,
             "#e6f5d0"
            ],
            [
             0.7,
             "#b8e186"
            ],
            [
             0.8,
             "#7fbc41"
            ],
            [
             0.9,
             "#4d9221"
            ],
            [
             1,
             "#276419"
            ]
           ],
           "sequential": [
            [
             0,
             "#0d0887"
            ],
            [
             0.1111111111111111,
             "#46039f"
            ],
            [
             0.2222222222222222,
             "#7201a8"
            ],
            [
             0.3333333333333333,
             "#9c179e"
            ],
            [
             0.4444444444444444,
             "#bd3786"
            ],
            [
             0.5555555555555556,
             "#d8576b"
            ],
            [
             0.6666666666666666,
             "#ed7953"
            ],
            [
             0.7777777777777778,
             "#fb9f3a"
            ],
            [
             0.8888888888888888,
             "#fdca26"
            ],
            [
             1,
             "#f0f921"
            ]
           ],
           "sequentialminus": [
            [
             0,
             "#0d0887"
            ],
            [
             0.1111111111111111,
             "#46039f"
            ],
            [
             0.2222222222222222,
             "#7201a8"
            ],
            [
             0.3333333333333333,
             "#9c179e"
            ],
            [
             0.4444444444444444,
             "#bd3786"
            ],
            [
             0.5555555555555556,
             "#d8576b"
            ],
            [
             0.6666666666666666,
             "#ed7953"
            ],
            [
             0.7777777777777778,
             "#fb9f3a"
            ],
            [
             0.8888888888888888,
             "#fdca26"
            ],
            [
             1,
             "#f0f921"
            ]
           ]
          },
          "colorway": [
           "#636efa",
           "#EF553B",
           "#00cc96",
           "#ab63fa",
           "#FFA15A",
           "#19d3f3",
           "#FF6692",
           "#B6E880",
           "#FF97FF",
           "#FECB52"
          ],
          "font": {
           "color": "#2a3f5f"
          },
          "geo": {
           "bgcolor": "white",
           "lakecolor": "white",
           "landcolor": "#E5ECF6",
           "showlakes": true,
           "showland": true,
           "subunitcolor": "white"
          },
          "hoverlabel": {
           "align": "left"
          },
          "hovermode": "closest",
          "mapbox": {
           "style": "light"
          },
          "paper_bgcolor": "white",
          "plot_bgcolor": "#E5ECF6",
          "polar": {
           "angularaxis": {
            "gridcolor": "white",
            "linecolor": "white",
            "ticks": ""
           },
           "bgcolor": "#E5ECF6",
           "radialaxis": {
            "gridcolor": "white",
            "linecolor": "white",
            "ticks": ""
           }
          },
          "scene": {
           "xaxis": {
            "backgroundcolor": "#E5ECF6",
            "gridcolor": "white",
            "gridwidth": 2,
            "linecolor": "white",
            "showbackground": true,
            "ticks": "",
            "zerolinecolor": "white"
           },
           "yaxis": {
            "backgroundcolor": "#E5ECF6",
            "gridcolor": "white",
            "gridwidth": 2,
            "linecolor": "white",
            "showbackground": true,
            "ticks": "",
            "zerolinecolor": "white"
           },
           "zaxis": {
            "backgroundcolor": "#E5ECF6",
            "gridcolor": "white",
            "gridwidth": 2,
            "linecolor": "white",
            "showbackground": true,
            "ticks": "",
            "zerolinecolor": "white"
           }
          },
          "shapedefaults": {
           "line": {
            "color": "#2a3f5f"
           }
          },
          "ternary": {
           "aaxis": {
            "gridcolor": "white",
            "linecolor": "white",
            "ticks": ""
           },
           "baxis": {
            "gridcolor": "white",
            "linecolor": "white",
            "ticks": ""
           },
           "bgcolor": "#E5ECF6",
           "caxis": {
            "gridcolor": "white",
            "linecolor": "white",
            "ticks": ""
           }
          },
          "title": {
           "x": 0.05
          },
          "xaxis": {
           "automargin": true,
           "gridcolor": "white",
           "linecolor": "white",
           "ticks": "",
           "title": {
            "standoff": 15
           },
           "zerolinecolor": "white",
           "zerolinewidth": 2
          },
          "yaxis": {
           "automargin": true,
           "gridcolor": "white",
           "linecolor": "white",
           "ticks": "",
           "title": {
            "standoff": 15
           },
           "zerolinecolor": "white",
           "zerolinewidth": 2
          }
         }
        },
        "xaxis": {
         "title": {
          "text": "Composantes principales"
         }
        },
        "yaxis": {
         "title": {
          "text": "Part de la variance"
         }
        }
       }
      }
     },
     "metadata": {},
     "output_type": "display_data"
    }
   ],
   "source": [
    "did_pca = PCA(n_components=2).fit(df_did)\n",
    "\n",
    "print('Part de variance expliquée par CP :')\n",
    "print(did_pca.explained_variance_ratio_)\n",
    "print('Pourcentage de variance totale expliquée :')\n",
    "print(did_pca.explained_variance_ratio_.sum()*100, '%')\n",
    "\n",
    "fig_PCA_exp = go.Figure()\n",
    "fig_PCA_exp.add_trace(go.Bar(\n",
    "    x=np.arange(did_pca.n_components), \n",
    "    y=did_pca.explained_variance_ratio_,\n",
    "    text=did_pca.explained_variance_ratio_,\n",
    "    textposition='auto',\n",
    "    name='Variance expliquée',\n",
    "    marker=dict(\n",
    "        color='rgba(122, 169, 168, 0.8)',\n",
    "        line=dict(color='rgba(122, 169, 168, 1.)', width=3))\n",
    "))\n",
    "fig_PCA_exp.update_layout(\n",
    "    xaxis_title=\"Composantes principales\",\n",
    "    yaxis_title=\"Part de la variance\"\n",
    ")\n",
    "fig_PCA_exp.show()\n",
    "\n",
    "did_proj = did_pca.transform(df_did)"
   ]
  },
  {
   "cell_type": "markdown",
   "metadata": {},
   "source": [
    "#### 5.3 Visualisation"
   ]
  },
  {
   "cell_type": "code",
   "execution_count": 321,
   "metadata": {},
   "outputs": [
    {
     "data": {
      "text/plain": [
       "Text(0.5, 1.0, 'Projection ACP')"
      ]
     },
     "execution_count": 321,
     "metadata": {},
     "output_type": "execute_result"
    },
    {
     "data": {
      "image/png": "[encoded data removed]",
      "text/plain": [
       "<Figure size 720x720 with 1 Axes>"
      ]
     },
     "metadata": {
      "needs_background": "light"
     },
     "output_type": "display_data"
    }
   ],
   "source": [
    "# print(did_proj)\n",
    "plt.figure(figsize=(10,10))\n",
    "for composant in comp:\n",
    "    data = did_proj[df_did[df_barh['Comp'] == composant].index] \n",
    "    plt.scatter(data[:, 0], data[:, 1], label=composant)\n",
    "plt.legend()\n",
    "plt.xlabel('PC1')\n",
    "plt.ylabel('PC2')\n",
    "plt.title('Projection ACP')\n"
   ]
  },
  {
   "cell_type": "markdown",
   "metadata": {},
   "source": [
    "#### 5.4 Clusters par KMeans\n"
   ]
  },
  {
   "cell_type": "code",
   "execution_count": 322,
   "metadata": {},
   "outputs": [
    {
     "data": {
      "image/png": "[encoded data removed]",
      "text/plain": [
       "<Figure size 1440x720 with 2 Axes>"
      ]
     },
     "metadata": {
      "needs_background": "light"
     },
     "output_type": "display_data"
    }
   ],
   "source": [
    "K = 3\n",
    "km = KMeans(n_clusters=K, n_init=3)\n",
    "labels = km.fit_predict(df_did)\n",
    "cnt = np.bincount(labels)\n",
    "\n",
    "fig,ax = plt.subplots(1, 2, figsize=(20,10))\n",
    "\n",
    "ax[0].bar(np.arange(K), cnt, tick_label=np.arange(K), color=(0.48, 0.66, 0.66, 0.8),  edgecolor=(0.48, 0.66, 0.66, 1.))\n",
    "ax[0].set_title('Nombre d\\'éléments par cluster')\n",
    "ax[0].set_xlabel('Cluster')\n",
    "\n",
    "for c in range(km.n_clusters):\n",
    "    ax[1].scatter(did_proj[labels == c, 0], did_proj[labels == c, 1], label=\"Cluster \"+str(c))\n",
    "ax[1].legend()\n",
    "ax[1].set_xlabel('PC1')\n",
    "ax[1].set_ylabel('PC2')\n",
    "ax[1].set_title('Projection ACP');"
   ]
  },
  {
   "cell_type": "code",
   "execution_count": 323,
   "metadata": {},
   "outputs": [
    {
     "data": {
      "image/png": "[encoded data removed]",
      "text/plain": [
       "<Figure size 1440x720 with 2 Axes>"
      ]
     },
     "metadata": {
      "needs_background": "light"
     },
     "output_type": "display_data"
    }
   ],
   "source": [
    "K = 2\n",
    "km = KMeans(n_clusters=K, n_init=2)\n",
    "labels = km.fit_predict(df_did)\n",
    "cnt = np.bincount(labels)\n",
    "\n",
    "fig,ax = plt.subplots(1, 2, figsize=(20,10))\n",
    "\n",
    "ax[0].bar(np.arange(K), cnt, tick_label=np.arange(K), color=(0.48, 0.66, 0.66, 0.8),  edgecolor=(0.48, 0.66, 0.66, 1.))\n",
    "ax[0].set_title('Nombre d\\'éléments par cluster')\n",
    "ax[0].set_xlabel('Cluster')\n",
    "\n",
    "for c in range(km.n_clusters):\n",
    "    ax[1].scatter(did_proj[labels == c, 0], did_proj[labels == c, 1], label=\"Cluster \"+str(c))\n",
    "ax[1].legend()\n",
    "ax[1].set_xlabel('PC1')\n",
    "ax[1].set_ylabel('PC2')\n",
    "ax[1].set_title('Projection ACP');"
   ]
  },
  {
   "cell_type": "code",
   "execution_count": null,
   "metadata": {},
   "outputs": [],
   "source": []
  }
 ],
 "metadata": {
  "interpreter": {
   "hash": "aee8b7b246df8f9039afb4144a1f6fd8d2ca17a180786b69acc140d282b71a49"
  },
  "kernelspec": {
   "display_name": "Python 3.7.7 64-bit",
   "name": "python3"
  },
  "language_info": {
   "codemirror_mode": {
    "name": "ipython",
    "version": 3
   },
   "file_extension": ".py",
   "mimetype": "text/x-python",
   "name": "python",
   "nbconvert_exporter": "python",
   "pygments_lexer": "ipython3",
   "version": "3.7.7"
  },
  "orig_nbformat": 4
 },
 "nbformat": 4,
 "nbformat_minor": 2
}
